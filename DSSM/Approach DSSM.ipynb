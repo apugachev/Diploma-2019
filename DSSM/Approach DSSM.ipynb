{
 "cells": [
  {
   "cell_type": "code",
   "execution_count": 735,
   "metadata": {},
   "outputs": [],
   "source": [
    "import numpy as np\n",
    "from progressbar import progressbar as pb\n",
    "import itertools\n",
    "import collections\n",
    "import re\n",
    "from sklearn.model_selection import train_test_split as TTS"
   ]
  },
  {
   "cell_type": "code",
   "execution_count": 742,
   "metadata": {},
   "outputs": [
    {
     "data": {
      "text/html": [
       "<div>\n",
       "<style scoped>\n",
       "    .dataframe tbody tr th:only-of-type {\n",
       "        vertical-align: middle;\n",
       "    }\n",
       "\n",
       "    .dataframe tbody tr th {\n",
       "        vertical-align: top;\n",
       "    }\n",
       "\n",
       "    .dataframe thead th {\n",
       "        text-align: right;\n",
       "    }\n",
       "</style>\n",
       "<table border=\"1\" class=\"dataframe\">\n",
       "  <thead>\n",
       "    <tr style=\"text-align: right;\">\n",
       "      <th></th>\n",
       "      <th>0</th>\n",
       "      <th>1</th>\n",
       "      <th>2</th>\n",
       "      <th>3</th>\n",
       "      <th>4</th>\n",
       "      <th>5</th>\n",
       "    </tr>\n",
       "  </thead>\n",
       "  <tbody>\n",
       "    <tr>\n",
       "      <th>0</th>\n",
       "      <td>Совещательный орган при императоре в начале XX в</td>\n",
       "      <td>Сенат</td>\n",
       "      <td>Государственный совет</td>\n",
       "      <td>Консилия министров</td>\n",
       "      <td>Верховный тайный совет</td>\n",
       "      <td>2</td>\n",
       "    </tr>\n",
       "    <tr>\n",
       "      <th>1</th>\n",
       "      <td>Министр внутренних дел с 1904 г либерал автор ...</td>\n",
       "      <td>Лорис Меликов</td>\n",
       "      <td>Святополк Мирский</td>\n",
       "      <td>Милюков</td>\n",
       "      <td>Витте</td>\n",
       "      <td>2</td>\n",
       "    </tr>\n",
       "    <tr>\n",
       "      <th>2</th>\n",
       "      <td>Какое из названных событий произошло 27 января...</td>\n",
       "      <td>подрыв флагманского корабля Петропавловск</td>\n",
       "      <td>высадка японских войск на Ляодунском полуострове</td>\n",
       "      <td>героический бой Варяга и Корейца</td>\n",
       "      <td>заключение Портсмутского мирного договора</td>\n",
       "      <td>3</td>\n",
       "    </tr>\n",
       "    <tr>\n",
       "      <th>3</th>\n",
       "      <td>Что из названного относится к результатам перв...</td>\n",
       "      <td>появление многопартийности</td>\n",
       "      <td>формирование конституционной монархии</td>\n",
       "      <td>ликвидация сословного строя</td>\n",
       "      <td>введение рабочего контроля за производством</td>\n",
       "      <td>1</td>\n",
       "    </tr>\n",
       "    <tr>\n",
       "      <th>4</th>\n",
       "      <td>Для выхода из экономического кризиса вызванног...</td>\n",
       "      <td>ввело 8 часовой рабочий день в промышленности</td>\n",
       "      <td>ликвидировало помещичье землевладение</td>\n",
       "      <td>отменило выкупные платежи</td>\n",
       "      <td>ввело продовольственную разверстку</td>\n",
       "      <td>4</td>\n",
       "    </tr>\n",
       "  </tbody>\n",
       "</table>\n",
       "</div>"
      ],
      "text/plain": [
       "                                                   0  \\\n",
       "0   Совещательный орган при императоре в начале XX в   \n",
       "1  Министр внутренних дел с 1904 г либерал автор ...   \n",
       "2  Какое из названных событий произошло 27 января...   \n",
       "3  Что из названного относится к результатам перв...   \n",
       "4  Для выхода из экономического кризиса вызванног...   \n",
       "\n",
       "                                               1  \\\n",
       "0                                          Сенат   \n",
       "1                                  Лорис Меликов   \n",
       "2      подрыв флагманского корабля Петропавловск   \n",
       "3                     появление многопартийности   \n",
       "4  ввело 8 часовой рабочий день в промышленности   \n",
       "\n",
       "                                                  2  \\\n",
       "0                             Государственный совет   \n",
       "1                                 Святополк Мирский   \n",
       "2  высадка японских войск на Ляодунском полуострове   \n",
       "3             формирование конституционной монархии   \n",
       "4             ликвидировало помещичье землевладение   \n",
       "\n",
       "                                  3  \\\n",
       "0                Консилия министров   \n",
       "1                           Милюков   \n",
       "2  героический бой Варяга и Корейца   \n",
       "3       ликвидация сословного строя   \n",
       "4         отменило выкупные платежи   \n",
       "\n",
       "                                             4  5  \n",
       "0                       Верховный тайный совет  2  \n",
       "1                                        Витте  2  \n",
       "2    заключение Портсмутского мирного договора  3  \n",
       "3  введение рабочего контроля за производством  1  \n",
       "4           ввело продовольственную разверстку  4  "
      ]
     },
     "execution_count": 742,
     "metadata": {},
     "output_type": "execute_result"
    }
   ],
   "source": [
    "import pandas as pd\n",
    "import numpy as np\n",
    "from progressbar import progressbar as pb\n",
    "df = pd.read_csv('all_data_fixed3.csv')\n",
    "df.head()"
   ]
  },
  {
   "cell_type": "code",
   "execution_count": 728,
   "metadata": {},
   "outputs": [],
   "source": [
    "def gen_trigrams():\n",
    "    \"\"\"\n",
    "      Generates all trigrams for characters from `trigram_chars`\n",
    "    \"\"\"\n",
    "    trigram_chars=\"0123456789абвгдеёжзийклмнопрстуфхцчшщъыьэюя\"\n",
    "    t3=[''.join(x) for x in itertools.product(trigram_chars,repeat=3)] #len(words)>=3\n",
    "    t2_start=['#'+''.join(x) for x in itertools.product(trigram_chars,repeat=2)] #len(words)==2\n",
    "    t2_end=[''.join(x)+'#' for x in itertools.product(trigram_chars,repeat=2)] #len(words)==2\n",
    "    t1=['#'+''.join(x)+'#' for x in itertools.product(trigram_chars)] #len(words)==1\n",
    "    trigrams=t3+t2_start+t2_end+t1\n",
    "    vocab_size=len(trigrams)\n",
    "    trigram_map=dict(zip(trigrams,range(1,vocab_size+1))) # trigram to index mapping, indices starting from 1\n",
    "    return trigram_map"
   ]
  },
  {
   "cell_type": "code",
   "execution_count": 729,
   "metadata": {},
   "outputs": [],
   "source": [
    "def sentences_to_bag_of_trigrams(sentences):\n",
    "    \"\"\"\n",
    "      Converts a sentence to bag-of-trigrams\n",
    "      `sentences`: list of strings\n",
    "      `trigram_BOW`: return value, (len(sentences),len(trigram_map)) size array\n",
    "    \"\"\"\n",
    "    trigram_map=gen_trigrams()\n",
    "    trigram_BOW=np.zeros((len(sentences),len(trigram_map))) # one row for each sentence\n",
    "    filter_pat=r'[\\!\"#&\\(\\)\\*\\+,-\\./:;<=>\\?\\[\\\\\\]\\^_`\\{\\|\\}~\\t\\n]' # characters to filter out from the input\n",
    "    for j,sent in enumerate(sentences):\n",
    "        sent=re.sub(filter_pat, '', sent).lower() # filter out special characters from input\n",
    "        sent=re.sub(r\"(\\s)\\s+\", r\"\\1\", sent) # reduce multiple whitespaces to single whitespace\n",
    "        words=sent.split(' ')\n",
    "        indices=collections.defaultdict(int)\n",
    "        for word in words:\n",
    "            word='#'+word+'#'\n",
    "            #print(word)\n",
    "            for k in range(len(word)-2): # generate all trigrams for word `word` and update `indices`\n",
    "                trig=word[k:k+3]\n",
    "                idx=trigram_map.get(trig, 0)\n",
    "                #print(trig,idx)\n",
    "                indices[idx]=indices[idx]+1     \n",
    "        for key,val in indices.items(): #covert `indices` dict to np array\n",
    "            trigram_BOW[j,key]=val\n",
    "    return trigram_BOW"
   ]
  },
  {
   "cell_type": "code",
   "execution_count": 730,
   "metadata": {},
   "outputs": [
    {
     "name": "stderr",
     "output_type": "stream",
     "text": [
      "100% (5330 of 5330) |####################| Elapsed Time: 0:00:16 Time:  0:00:16\n"
     ]
    }
   ],
   "source": [
    "for i in pb(range(df.shape[0])):\n",
    "    for j in range(df.shape[1]-1):\n",
    "        df.iloc[i,j] = df.iloc[i,j].lower()"
   ]
  },
  {
   "cell_type": "code",
   "execution_count": 731,
   "metadata": {},
   "outputs": [
    {
     "name": "stderr",
     "output_type": "stream",
     "text": [
      "100% (5330 of 5330) |####################| Elapsed Time: 0:00:00 Time:  0:00:00\n"
     ]
    }
   ],
   "source": [
    "corpus = []\n",
    "\n",
    "for i in pb(range(df.shape[0])):\n",
    "    for j in range(df.shape[1]-1):\n",
    "        corpus.append(df.iloc[i,j])"
   ]
  },
  {
   "cell_type": "code",
   "execution_count": 743,
   "metadata": {},
   "outputs": [],
   "source": [
    "samples = np.array(df.drop('5', 1))\n",
    "target = np.array(df['5'])\n",
    "\n",
    "X_train, X_test, y_train, y_test = TTS(samples, target, test_size=0.25, random_state=4)"
   ]
  },
  {
   "cell_type": "code",
   "execution_count": 745,
   "metadata": {},
   "outputs": [
    {
     "data": {
      "text/plain": [
       "(26650, 23800)"
      ]
     },
     "execution_count": 745,
     "metadata": {},
     "output_type": "execute_result"
    }
   ],
   "source": [
    "from sklearn.feature_extraction.text import CountVectorizer\n",
    "\n",
    "vectorizer = CountVectorizer()\n",
    "X = vectorizer.fit_transform(corpus)\n",
    "X = X.toarray()\n",
    "X.shape"
   ]
  },
  {
   "cell_type": "code",
   "execution_count": 746,
   "metadata": {},
   "outputs": [],
   "source": [
    "def get_batch(X_val, y_val, batch_sz=16):\n",
    "    X_batches, y_batches = [], []\n",
    "    \n",
    "    for i in range(len(X_val) // batch_sz):\n",
    "        X_temp, y_temp = [], []\n",
    "        for j in range(batch_sz):\n",
    "            X_temp.append(vectorizer.transform(X_val[i*batch_sz + j]).toarray().reshape(1,-1)[0])\n",
    "            y_temp.append(y_val[i*batch_sz + j] - 1)\n",
    "\n",
    "        X_batches.append(np.array(X_temp))\n",
    "        y_batches.append(np.array(y_temp))\n",
    "        \n",
    "    rest = len(X_val) % (batch_sz)\n",
    "    X_temp, y_temp = [], []\n",
    "    \n",
    "    for i in range(rest):\n",
    "        X_temp.append(vectorizer.transform(X_val[-rest + i]).toarray().reshape(1,-1)[0])\n",
    "        y_temp.append(y_val[-rest + i] - 1)\n",
    "        \n",
    "    X_batches.append(np.array(X_temp))\n",
    "    y_batches.append(np.array(y_temp))\n",
    "    \n",
    "    return np.array(X_batches), np.array(y_batches)"
   ]
  },
  {
   "cell_type": "code",
   "execution_count": 747,
   "metadata": {},
   "outputs": [],
   "source": [
    "import torch \n",
    "import torch.nn as nn\n",
    "import torchvision.datasets as dsets\n",
    "import torchvision.transforms as transforms\n",
    "from torch.autograd import Variable\n",
    "import torch.nn.functional as F\n",
    "from sklearn.metrics import accuracy_score\n",
    "from sklearn.metrics.pairwise import cosine_similarity as cos"
   ]
  },
  {
   "cell_type": "code",
   "execution_count": 748,
   "metadata": {},
   "outputs": [],
   "source": [
    "class DSSMNet(nn.Module):\n",
    "    def __init__(self, bow_size):\n",
    "        super().__init__()\n",
    "        self.bow_size = bow_size\n",
    "        self.linear_1 = nn.Linear(bow_size, 300)\n",
    "        self.linear_2 = nn.Linear(300, 300)\n",
    "        self.linear_3 = nn.Linear(300, 128)\n",
    "        \n",
    "        \n",
    "    def forward(self, sample):\n",
    "        bow_size = self.bow_size\n",
    "        inputs = [sample[:,:bow_size], sample[:,bow_size:bow_size*2], \\\n",
    "                  sample[:,bow_size*2:bow_size*3], sample[:,bow_size*3:bow_size*4],\\\n",
    "                  sample[:,bow_size*4:]]\n",
    "        \n",
    "        outputs = torch.Tensor()\n",
    "        \n",
    "        for i, sent in enumerate(inputs):\n",
    "            sent = torch.tanh(self.linear_1(sent))\n",
    "            sent = torch.tanh(self.linear_2(sent))\n",
    "            sent = torch.tanh(self.linear_3(sent))\n",
    "            outputs = torch.cat((outputs, sent.unsqueeze(0)), dim=0)\n",
    "        \n",
    "        cosines = torch.Tensor()\n",
    "        \n",
    "        for i in range(1,len(outputs)):\n",
    "            cosines = torch.cat((cosines, F.cosine_similarity(outputs[0], outputs[i], dim=1).unsqueeze(0)))\n",
    "            \n",
    "        probs = F.softmax(cosines.view(-1,4))\n",
    "        \n",
    "        return probs     "
   ]
  },
  {
   "cell_type": "code",
   "execution_count": 755,
   "metadata": {},
   "outputs": [],
   "source": [
    "model = DSSMNet(X.shape[1])\n",
    "optimizer = torch.optim.SGD(model.parameters(), lr=0.01)\n",
    "loss_fn = nn.CrossEntropyLoss()\n",
    "epochs = 100"
   ]
  },
  {
   "cell_type": "code",
   "execution_count": 762,
   "metadata": {},
   "outputs": [],
   "source": [
    "def train(model, optimizer, X_train_batches, y_train_batches):\n",
    "    train_loss, train_acc = [], []\n",
    "    model.train()\n",
    "    \n",
    "    for batch in zip(X_train_batches, y_train_batches):\n",
    "        X_batch, y_batch = batch\n",
    "        X_batch = torch.from_numpy(X_batch).type(torch.FloatTensor)\n",
    "        y_batch = torch.from_numpy(y_batch).type(torch.LongTensor)\n",
    "        \n",
    "        optimizer.zero_grad()\n",
    "        y_pred = model(X_batch)\n",
    "        loss = loss_fn(y_pred, y_batch)\n",
    "        \n",
    "        train_loss.append(loss.item())\n",
    "        \n",
    "        max_ind = y_pred.max(1, keepdim=True)[1]\n",
    "        target_matches = torch.eq(max_ind, y_batch.data.view(len(y_batch), 1))\n",
    "        accuracy = torch.sum(target_matches).cpu().numpy() / len(y_batch)\n",
    "        train_acc.append(accuracy)\n",
    "        \n",
    "        loss.backward()\n",
    "        optimizer.step()\n",
    "        \n",
    "    return np.mean(train_loss), np.mean(train_acc)"
   ]
  },
  {
   "cell_type": "code",
   "execution_count": 763,
   "metadata": {
    "scrolled": true
   },
   "outputs": [],
   "source": [
    "def validate(model, optimizer, X_test_batches, y_test_batches):\n",
    "    val_loss, val_acc = [], []\n",
    "    model.eval()\n",
    "    \n",
    "    for batch in zip(X_test_batches, y_test_batches):\n",
    "        X_batch, y_batch = batch\n",
    "        X_batch = torch.from_numpy(X_batch).type(torch.FloatTensor)\n",
    "        y_batch = torch.from_numpy(y_batch).type(torch.LongTensor)\n",
    "        \n",
    "        y_pred = model(X_batch)\n",
    "        loss = loss_fn(y_pred, y_batch)\n",
    "        \n",
    "        val_loss.append(loss.item())\n",
    "        \n",
    "        max_ind = y_pred.max(1, keepdim=True)[1]\n",
    "        target_matches = torch.eq(max_ind, y_batch.data.view(len(y_batch), 1))\n",
    "        accuracy = torch.sum(target_matches).cpu().numpy() / len(y_batch)\n",
    "        val_acc.append(accuracy)\n",
    "         \n",
    "    return np.mean(val_loss), np.mean(val_acc)"
   ]
  },
  {
   "cell_type": "code",
   "execution_count": 764,
   "metadata": {},
   "outputs": [
    {
     "name": "stdout",
     "output_type": "stream",
     "text": [
      "Epoch 58:\n",
      "Train loss: 1.3862593268591261\n",
      "Train accuracy: 0.2776409414340449\n",
      "Validation loss: 1.386288699649629\n",
      "Validation accuracy: 0.23913690476190474\n"
     ]
    },
    {
     "data": {
      "image/png": "[encoded data removed]",
      "text/plain": [
       "<Figure size 1440x720 with 2 Axes>"
      ]
     },
     "metadata": {},
     "output_type": "display_data"
    },
    {
     "name": "stderr",
     "output_type": "stream",
     "text": [
      "\r",
      "                                                                               \r",
      "\r",
      " 59% (59 of 100) |#############          | Elapsed Time: 0:12:12 ETA:   0:09:02"
     ]
    },
    {
     "ename": "KeyboardInterrupt",
     "evalue": "",
     "output_type": "error",
     "traceback": [
      "\u001b[0;31m---------------------------------------------------------------------------\u001b[0m",
      "\u001b[0;31mKeyboardInterrupt\u001b[0m                         Traceback (most recent call last)",
      "\u001b[0;32m<ipython-input-764-c0da214d67aa>\u001b[0m in \u001b[0;36m<module>\u001b[0;34m()\u001b[0m\n\u001b[1;32m      8\u001b[0m \u001b[0;34m\u001b[0m\u001b[0m\n\u001b[1;32m      9\u001b[0m \u001b[0;32mfor\u001b[0m \u001b[0mepoch\u001b[0m \u001b[0;32min\u001b[0m \u001b[0mpb\u001b[0m\u001b[0;34m(\u001b[0m\u001b[0mrange\u001b[0m\u001b[0;34m(\u001b[0m\u001b[0mepochs\u001b[0m\u001b[0;34m)\u001b[0m\u001b[0;34m)\u001b[0m\u001b[0;34m:\u001b[0m\u001b[0;34m\u001b[0m\u001b[0m\n\u001b[0;32m---> 10\u001b[0;31m     \u001b[0mcur_train\u001b[0m \u001b[0;34m=\u001b[0m \u001b[0mtrain\u001b[0m\u001b[0;34m(\u001b[0m\u001b[0mmodel\u001b[0m\u001b[0;34m,\u001b[0m \u001b[0moptimizer\u001b[0m\u001b[0;34m,\u001b[0m \u001b[0mX_train_batch\u001b[0m\u001b[0;34m,\u001b[0m \u001b[0my_train_batch\u001b[0m\u001b[0;34m)\u001b[0m\u001b[0;34m\u001b[0m\u001b[0m\n\u001b[0m\u001b[1;32m     11\u001b[0m     \u001b[0mcur_val\u001b[0m \u001b[0;34m=\u001b[0m \u001b[0mvalidate\u001b[0m\u001b[0;34m(\u001b[0m\u001b[0mmodel\u001b[0m\u001b[0;34m,\u001b[0m \u001b[0moptimizer\u001b[0m\u001b[0;34m,\u001b[0m \u001b[0mX_test_batch\u001b[0m\u001b[0;34m,\u001b[0m \u001b[0my_test_batch\u001b[0m\u001b[0;34m)\u001b[0m\u001b[0;34m\u001b[0m\u001b[0m\n\u001b[1;32m     12\u001b[0m     \u001b[0mall_train_loss\u001b[0m\u001b[0;34m.\u001b[0m\u001b[0mappend\u001b[0m\u001b[0;34m(\u001b[0m\u001b[0mcur_train\u001b[0m\u001b[0;34m[\u001b[0m\u001b[0;36m0\u001b[0m\u001b[0;34m]\u001b[0m\u001b[0;34m)\u001b[0m\u001b[0;34m\u001b[0m\u001b[0m\n",
      "\u001b[0;32m<ipython-input-762-3e7b995b39b8>\u001b[0m in \u001b[0;36mtrain\u001b[0;34m(model, optimizer, X_train_batches, y_train_batches)\u001b[0m\n\u001b[1;32m     19\u001b[0m         \u001b[0mtrain_acc\u001b[0m\u001b[0;34m.\u001b[0m\u001b[0mappend\u001b[0m\u001b[0;34m(\u001b[0m\u001b[0maccuracy\u001b[0m\u001b[0;34m)\u001b[0m\u001b[0;34m\u001b[0m\u001b[0m\n\u001b[1;32m     20\u001b[0m \u001b[0;34m\u001b[0m\u001b[0m\n\u001b[0;32m---> 21\u001b[0;31m         \u001b[0mloss\u001b[0m\u001b[0;34m.\u001b[0m\u001b[0mbackward\u001b[0m\u001b[0;34m(\u001b[0m\u001b[0;34m)\u001b[0m\u001b[0;34m\u001b[0m\u001b[0m\n\u001b[0m\u001b[1;32m     22\u001b[0m         \u001b[0moptimizer\u001b[0m\u001b[0;34m.\u001b[0m\u001b[0mstep\u001b[0m\u001b[0;34m(\u001b[0m\u001b[0;34m)\u001b[0m\u001b[0;34m\u001b[0m\u001b[0m\n\u001b[1;32m     23\u001b[0m \u001b[0;34m\u001b[0m\u001b[0m\n",
      "\u001b[0;32m~/anaconda3/lib/python3.6/site-packages/torch/tensor.py\u001b[0m in \u001b[0;36mbackward\u001b[0;34m(self, gradient, retain_graph, create_graph)\u001b[0m\n\u001b[1;32m    100\u001b[0m                 \u001b[0mproducts\u001b[0m\u001b[0;34m.\u001b[0m \u001b[0mDefaults\u001b[0m \u001b[0mto\u001b[0m\u001b[0;31m \u001b[0m\u001b[0;31m`\u001b[0m\u001b[0;31m`\u001b[0m\u001b[0;32mFalse\u001b[0m\u001b[0;31m`\u001b[0m\u001b[0;31m`\u001b[0m\u001b[0;34m.\u001b[0m\u001b[0;34m\u001b[0m\u001b[0m\n\u001b[1;32m    101\u001b[0m         \"\"\"\n\u001b[0;32m--> 102\u001b[0;31m         \u001b[0mtorch\u001b[0m\u001b[0;34m.\u001b[0m\u001b[0mautograd\u001b[0m\u001b[0;34m.\u001b[0m\u001b[0mbackward\u001b[0m\u001b[0;34m(\u001b[0m\u001b[0mself\u001b[0m\u001b[0;34m,\u001b[0m \u001b[0mgradient\u001b[0m\u001b[0;34m,\u001b[0m \u001b[0mretain_graph\u001b[0m\u001b[0;34m,\u001b[0m \u001b[0mcreate_graph\u001b[0m\u001b[0;34m)\u001b[0m\u001b[0;34m\u001b[0m\u001b[0m\n\u001b[0m\u001b[1;32m    103\u001b[0m \u001b[0;34m\u001b[0m\u001b[0m\n\u001b[1;32m    104\u001b[0m     \u001b[0;32mdef\u001b[0m \u001b[0mregister_hook\u001b[0m\u001b[0;34m(\u001b[0m\u001b[0mself\u001b[0m\u001b[0;34m,\u001b[0m \u001b[0mhook\u001b[0m\u001b[0;34m)\u001b[0m\u001b[0;34m:\u001b[0m\u001b[0;34m\u001b[0m\u001b[0m\n",
      "\u001b[0;32m~/anaconda3/lib/python3.6/site-packages/torch/autograd/__init__.py\u001b[0m in \u001b[0;36mbackward\u001b[0;34m(tensors, grad_tensors, retain_graph, create_graph, grad_variables)\u001b[0m\n\u001b[1;32m     88\u001b[0m     Variable._execution_engine.run_backward(\n\u001b[1;32m     89\u001b[0m         \u001b[0mtensors\u001b[0m\u001b[0;34m,\u001b[0m \u001b[0mgrad_tensors\u001b[0m\u001b[0;34m,\u001b[0m \u001b[0mretain_graph\u001b[0m\u001b[0;34m,\u001b[0m \u001b[0mcreate_graph\u001b[0m\u001b[0;34m,\u001b[0m\u001b[0;34m\u001b[0m\u001b[0m\n\u001b[0;32m---> 90\u001b[0;31m         allow_unreachable=True)  # allow_unreachable flag\n\u001b[0m\u001b[1;32m     91\u001b[0m \u001b[0;34m\u001b[0m\u001b[0m\n\u001b[1;32m     92\u001b[0m \u001b[0;34m\u001b[0m\u001b[0m\n",
      "\u001b[0;31mKeyboardInterrupt\u001b[0m: "
     ]
    }
   ],
   "source": [
    "from IPython.display import clear_output\n",
    "import matplotlib.pyplot as plt\n",
    "all_train_loss, all_val_loss = [], []\n",
    "all_train_acc, all_val_acc = [], []\n",
    "\n",
    "X_train_batch, y_train_batch = get_batch(X_train, y_train, 64)\n",
    "X_test_batch, y_test_batch = get_batch(X_test, y_test, 16)\n",
    "\n",
    "for epoch in pb(range(epochs)):\n",
    "    cur_train = train(model, optimizer, X_train_batch, y_train_batch)\n",
    "    cur_val = validate(model, optimizer, X_test_batch, y_test_batch)\n",
    "    all_train_loss.append(cur_train[0])\n",
    "    all_train_acc.append(cur_train[1])\n",
    "    all_val_loss.append(cur_val[0])\n",
    "    all_val_acc.append(cur_val[1])\n",
    "    clear_output()\n",
    "    print('Epoch {}:'.format(epoch))\n",
    "    print(\"Train loss: {}\".format(cur_train[0]))\n",
    "    print(\"Train accuracy: {}\".format(cur_train[1]))\n",
    "    print(\"Validation loss: {}\".format(cur_val[0]))\n",
    "    print(\"Validation accuracy: {}\".format(cur_val[1]))\n",
    "    \n",
    "    f, axarr = plt.subplots(1,2, figsize=(20,10))\n",
    "    \n",
    "    axarr[0].plot(all_train_loss, label='Train loss')\n",
    "    axarr[0].plot(all_val_loss, label='Val loss')\n",
    "    axarr[0].grid()\n",
    "    axarr[0].legend(fontsize=15)\n",
    "    axarr[0].set_title('Loss after epoch #{}'.format(epoch+1), size=15)\n",
    "\n",
    "    axarr[1].plot(all_train_acc, label='Train accuracy')\n",
    "    axarr[1].plot(all_val_acc, label='Val accuracy')\n",
    "    axarr[1].grid()\n",
    "    axarr[1].legend(fontsize=15)\n",
    "    axarr[1].set_title('Accuracy after epoch #{}'.format(epoch+1), size=15)\n",
    "    plt.show()"
   ]
  },
  {
   "cell_type": "code",
   "execution_count": null,
   "metadata": {},
   "outputs": [],
   "source": []
  },
  {
   "cell_type": "code",
   "execution_count": null,
   "metadata": {},
   "outputs": [],
   "source": []
  }
 ],
 "metadata": {
  "kernelspec": {
   "display_name": "Python 3",
   "language": "python",
   "name": "python3"
  },
  "language_info": {
   "codemirror_mode": {
    "name": "ipython",
    "version": 3
   },
   "file_extension": ".py",
   "mimetype": "text/x-python",
   "name": "python",
   "nbconvert_exporter": "python",
   "pygments_lexer": "ipython3",
   "version": "3.6.5"
  }
 },
 "nbformat": 4,
 "nbformat_minor": 2
}
