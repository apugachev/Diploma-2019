{
 "cells": [
  {
   "cell_type": "code",
   "execution_count": 1,
   "metadata": {
    "colab": {
     "base_uri": "https://localhost:8080/",
     "height": 34
    },
    "colab_type": "code",
    "id": "JH6Vzr3j9o9c",
    "outputId": "50b92df2-7386-4e98-d212-f6275831f6e4"
   },
   "outputs": [
    {
     "name": "stdout",
     "output_type": "stream",
     "text": [
      "Drive already mounted at /content/drive; to attempt to forcibly remount, call drive.mount(\"/content/drive\", force_remount=True).\n"
     ]
    }
   ],
   "source": [
    "from google.colab import drive\n",
    "drive.mount('/content/drive')"
   ]
  },
  {
   "cell_type": "code",
   "execution_count": 0,
   "metadata": {
    "colab": {},
    "colab_type": "code",
    "id": "SIBRi95XJNPC"
   },
   "outputs": [],
   "source": [
    "import numpy as np\n",
    "from progressbar import progressbar as pb\n",
    "import itertools\n",
    "import collections\n",
    "import re\n",
    "from sklearn.model_selection import train_test_split as TTS"
   ]
  },
  {
   "cell_type": "code",
   "execution_count": 3,
   "metadata": {
    "colab": {
     "base_uri": "https://localhost:8080/",
     "height": 289
    },
    "colab_type": "code",
    "id": "YeQhYEg1JNPF",
    "outputId": "5d9b87db-4289-4d3f-c01a-804e77591d9b"
   },
   "outputs": [
    {
     "data": {
      "text/html": [
       "<div>\n",
       "<style scoped>\n",
       "    .dataframe tbody tr th:only-of-type {\n",
       "        vertical-align: middle;\n",
       "    }\n",
       "\n",
       "    .dataframe tbody tr th {\n",
       "        vertical-align: top;\n",
       "    }\n",
       "\n",
       "    .dataframe thead th {\n",
       "        text-align: right;\n",
       "    }\n",
       "</style>\n",
       "<table border=\"1\" class=\"dataframe\">\n",
       "  <thead>\n",
       "    <tr style=\"text-align: right;\">\n",
       "      <th></th>\n",
       "      <th>0</th>\n",
       "      <th>1</th>\n",
       "      <th>2</th>\n",
       "      <th>3</th>\n",
       "      <th>4</th>\n",
       "      <th>5</th>\n",
       "    </tr>\n",
       "  </thead>\n",
       "  <tbody>\n",
       "    <tr>\n",
       "      <th>0</th>\n",
       "      <td>совещательный орган при императоре в начале xx в</td>\n",
       "      <td>сенат</td>\n",
       "      <td>государственный совет</td>\n",
       "      <td>консилия министров</td>\n",
       "      <td>верховный тайный совет</td>\n",
       "      <td>2</td>\n",
       "    </tr>\n",
       "    <tr>\n",
       "      <th>1</th>\n",
       "      <td>министр внутренних дел с 1904 г либерал автор ...</td>\n",
       "      <td>лорис меликов</td>\n",
       "      <td>святополк мирский</td>\n",
       "      <td>милюков</td>\n",
       "      <td>витте</td>\n",
       "      <td>2</td>\n",
       "    </tr>\n",
       "    <tr>\n",
       "      <th>2</th>\n",
       "      <td>какое из названных событий произошло 27 января...</td>\n",
       "      <td>подрыв флагманского корабля петропавловск</td>\n",
       "      <td>высадка японских войск на ляодунском полуострове</td>\n",
       "      <td>героический бой варяга и корейца</td>\n",
       "      <td>заключение портсмутского мирного договора</td>\n",
       "      <td>3</td>\n",
       "    </tr>\n",
       "    <tr>\n",
       "      <th>3</th>\n",
       "      <td>что из названного относится к результатам перв...</td>\n",
       "      <td>появление многопартийности</td>\n",
       "      <td>формирование конституционной монархии</td>\n",
       "      <td>ликвидация сословного строя</td>\n",
       "      <td>введение рабочего контроля за производством</td>\n",
       "      <td>1</td>\n",
       "    </tr>\n",
       "    <tr>\n",
       "      <th>4</th>\n",
       "      <td>творчество поэтов гумилева ахматовой мандельшт...</td>\n",
       "      <td>акмеизму</td>\n",
       "      <td>футуризму</td>\n",
       "      <td>импрессионизму</td>\n",
       "      <td>реализму</td>\n",
       "      <td>1</td>\n",
       "    </tr>\n",
       "  </tbody>\n",
       "</table>\n",
       "</div>"
      ],
      "text/plain": [
       "                                                   0  \\\n",
       "0   совещательный орган при императоре в начале xx в   \n",
       "1  министр внутренних дел с 1904 г либерал автор ...   \n",
       "2  какое из названных событий произошло 27 января...   \n",
       "3  что из названного относится к результатам перв...   \n",
       "4  творчество поэтов гумилева ахматовой мандельшт...   \n",
       "\n",
       "                                           1  \\\n",
       "0                                      сенат   \n",
       "1                              лорис меликов   \n",
       "2  подрыв флагманского корабля петропавловск   \n",
       "3                 появление многопартийности   \n",
       "4                                   акмеизму   \n",
       "\n",
       "                                                  2  \\\n",
       "0                             государственный совет   \n",
       "1                                 святополк мирский   \n",
       "2  высадка японских войск на ляодунском полуострове   \n",
       "3             формирование конституционной монархии   \n",
       "4                                         футуризму   \n",
       "\n",
       "                                  3  \\\n",
       "0                консилия министров   \n",
       "1                           милюков   \n",
       "2  героический бой варяга и корейца   \n",
       "3       ликвидация сословного строя   \n",
       "4                    импрессионизму   \n",
       "\n",
       "                                             4  5  \n",
       "0                       верховный тайный совет  2  \n",
       "1                                        витте  2  \n",
       "2    заключение портсмутского мирного договора  3  \n",
       "3  введение рабочего контроля за производством  1  \n",
       "4                                     реализму  1  "
      ]
     },
     "execution_count": 3,
     "metadata": {
      "tags": []
     },
     "output_type": "execute_result"
    }
   ],
   "source": [
    "import pandas as pd\n",
    "import numpy as np\n",
    "from progressbar import progressbar as pb\n",
    "df = pd.read_csv('/content/drive/My Drive/Embeddings/big_data_lower.csv')\n",
    "df.head()"
   ]
  },
  {
   "cell_type": "code",
   "execution_count": 30,
   "metadata": {
    "colab": {
     "base_uri": "https://localhost:8080/",
     "height": 289
    },
    "colab_type": "code",
    "id": "WH3IR-XCe2mb",
    "outputId": "ff91d0ce-a414-486d-9c77-8c4c352655c4"
   },
   "outputs": [
    {
     "data": {
      "text/html": [
       "<div>\n",
       "<style scoped>\n",
       "    .dataframe tbody tr th:only-of-type {\n",
       "        vertical-align: middle;\n",
       "    }\n",
       "\n",
       "    .dataframe tbody tr th {\n",
       "        vertical-align: top;\n",
       "    }\n",
       "\n",
       "    .dataframe thead th {\n",
       "        text-align: right;\n",
       "    }\n",
       "</style>\n",
       "<table border=\"1\" class=\"dataframe\">\n",
       "  <thead>\n",
       "    <tr style=\"text-align: right;\">\n",
       "      <th></th>\n",
       "      <th>0</th>\n",
       "      <th>1</th>\n",
       "      <th>2</th>\n",
       "      <th>3</th>\n",
       "      <th>4</th>\n",
       "      <th>5</th>\n",
       "      <th>label</th>\n",
       "    </tr>\n",
       "  </thead>\n",
       "  <tbody>\n",
       "    <tr>\n",
       "      <th>0</th>\n",
       "      <td>совещательный орган при императоре в начале xx в</td>\n",
       "      <td>сенат</td>\n",
       "      <td>государственный совет</td>\n",
       "      <td>консилия министров</td>\n",
       "      <td>верховный тайный совет</td>\n",
       "      <td>2</td>\n",
       "      <td>История</td>\n",
       "    </tr>\n",
       "    <tr>\n",
       "      <th>1</th>\n",
       "      <td>министр внутренних дел с 1904 г либерал автор ...</td>\n",
       "      <td>лорис меликов</td>\n",
       "      <td>святополк мирский</td>\n",
       "      <td>милюков</td>\n",
       "      <td>витте</td>\n",
       "      <td>2</td>\n",
       "      <td>История</td>\n",
       "    </tr>\n",
       "    <tr>\n",
       "      <th>2</th>\n",
       "      <td>какое из названных событий произошло 27 января...</td>\n",
       "      <td>подрыв флагманского корабля петропавловск</td>\n",
       "      <td>высадка японских войск на ляодунском полуострове</td>\n",
       "      <td>героический бой варяга и корейца</td>\n",
       "      <td>заключение портсмутского мирного договора</td>\n",
       "      <td>3</td>\n",
       "      <td>История</td>\n",
       "    </tr>\n",
       "    <tr>\n",
       "      <th>3</th>\n",
       "      <td>что из названного относится к результатам перв...</td>\n",
       "      <td>появление многопартийности</td>\n",
       "      <td>формирование конституционной монархии</td>\n",
       "      <td>ликвидация сословного строя</td>\n",
       "      <td>введение рабочего контроля за производством</td>\n",
       "      <td>1</td>\n",
       "      <td>История</td>\n",
       "    </tr>\n",
       "    <tr>\n",
       "      <th>4</th>\n",
       "      <td>творчество поэтов гумилева ахматовой мандельшт...</td>\n",
       "      <td>акмеизму</td>\n",
       "      <td>футуризму</td>\n",
       "      <td>импрессионизму</td>\n",
       "      <td>реализму</td>\n",
       "      <td>1</td>\n",
       "      <td>История</td>\n",
       "    </tr>\n",
       "  </tbody>\n",
       "</table>\n",
       "</div>"
      ],
      "text/plain": [
       "                                                   0  \\\n",
       "0   совещательный орган при императоре в начале xx в   \n",
       "1  министр внутренних дел с 1904 г либерал автор ...   \n",
       "2  какое из названных событий произошло 27 января...   \n",
       "3  что из названного относится к результатам перв...   \n",
       "4  творчество поэтов гумилева ахматовой мандельшт...   \n",
       "\n",
       "                                           1  \\\n",
       "0                                      сенат   \n",
       "1                              лорис меликов   \n",
       "2  подрыв флагманского корабля петропавловск   \n",
       "3                 появление многопартийности   \n",
       "4                                   акмеизму   \n",
       "\n",
       "                                                  2  \\\n",
       "0                             государственный совет   \n",
       "1                                 святополк мирский   \n",
       "2  высадка японских войск на ляодунском полуострове   \n",
       "3             формирование конституционной монархии   \n",
       "4                                         футуризму   \n",
       "\n",
       "                                  3  \\\n",
       "0                консилия министров   \n",
       "1                           милюков   \n",
       "2  героический бой варяга и корейца   \n",
       "3       ликвидация сословного строя   \n",
       "4                    импрессионизму   \n",
       "\n",
       "                                             4  5    label  \n",
       "0                       верховный тайный совет  2  История  \n",
       "1                                        витте  2  История  \n",
       "2    заключение портсмутского мирного договора  3  История  \n",
       "3  введение рабочего контроля за производством  1  История  \n",
       "4                                     реализму  1  История  "
      ]
     },
     "execution_count": 30,
     "metadata": {
      "tags": []
     },
     "output_type": "execute_result"
    }
   ],
   "source": [
    "df2 = pd.read_csv('/content/drive/My Drive/Embeddings/big_data_labels.csv')\n",
    "df['label'] = df2['label']\n",
    "df.head()"
   ]
  },
  {
   "cell_type": "code",
   "execution_count": 4,
   "metadata": {
    "colab": {},
    "colab_type": "code",
    "id": "SPgAqu3s-hDK"
   },
   "outputs": [],
   "source": [
    "import re\n",
    "import itertools\n",
    "import collections\n",
    "import numpy as np\n",
    "\n",
    "def gen_bigrams():\n",
    "    \"\"\"\n",
    "      Generates all bigrams for characters from `bigram_chars`\n",
    "    \"\"\"\n",
    "    trigram_chars=\"0123456789абвгдеёжзийклмнопрстуфхцчшщъыьэюя\"\n",
    "    t3=[''.join(x) for x in itertools.product(trigram_chars,repeat=2)] #len(words)>=3\n",
    "    t2_start=['#'+''.join(x) for x in itertools.product(trigram_chars)] #len(words)==2\n",
    "    t2_end=[''.join(x)+'#' for x in itertools.product(trigram_chars)] #len(words)==2\n",
    "    trigrams=t3+t2_start+t2_end\n",
    "    vocab_size=len(trigrams)\n",
    "    trigram_map=dict(zip(trigrams,range(1,vocab_size+1))) # trigram to index mapping, indices starting from 1\n",
    "    return trigram_map\n",
    "  \n",
    "def sentences_to_bag_of_bigrams(sentences):\n",
    "    \"\"\"\n",
    "      Converts a sentence to bag-of-trigrams\n",
    "      `sentences`: list of strings\n",
    "      `trigram_BOW`: return value, (len(sentences),len(trigram_map)) size array\n",
    "    \"\"\"\n",
    "    trigram_map=gen_bigrams()\n",
    "    trigram_BOW=np.zeros((len(sentences),len(trigram_map)+1)) # one row for each sentence\n",
    "    filter_pat=r'[\\!\"#&\\(\\)\\*\\+,-\\./:;<=>\\?\\[\\\\\\]\\^_`\\{\\|\\}~\\t\\n]' # characters to filter out from the input\n",
    "    for j,sent in enumerate(sentences):\n",
    "        sent=re.sub(filter_pat, '', sent).lower() # filter out special characters from input\n",
    "        sent=re.sub(r\"(\\s)\\s+\", r\"\\1\", sent) # reduce multiple whitespaces to single whitespace\n",
    "        words=sent.split(' ')\n",
    "        indices=collections.defaultdict(int)\n",
    "        for word in words:\n",
    "            word='#'+word+'#'\n",
    "            for k in range(len(word)-1): # generate all trigrams for word `word` and update `indices`\n",
    "                trig=word[k:k+2]\n",
    "                print(trig)\n",
    "                idx=trigram_map.get(trig, 0)\n",
    "                indices[idx]=indices[idx]+1\n",
    "        for key,val in indices.items(): #covert `indices` dict to np array\n",
    "            trigram_BOW[j,key]=val\n",
    "    return trigram_BOW"
   ]
  },
  {
   "cell_type": "code",
   "execution_count": 5,
   "metadata": {},
   "outputs": [
    {
     "name": "stdout",
     "output_type": "stream",
     "text": [
      "#н\n",
      "не\n",
      "ей\n",
      "йр\n",
      "ро\n",
      "он\n",
      "нн\n",
      "на\n",
      "ая\n",
      "я#\n",
      "#с\n",
      "се\n",
      "ет\n",
      "ть\n",
      "ь#\n"
     ]
    },
    {
     "data": {
      "text/plain": [
       "array([[0., 0., 0., ..., 0., 0., 1.]])"
      ]
     },
     "execution_count": 5,
     "metadata": {},
     "output_type": "execute_result"
    }
   ],
   "source": [
    "sentences_to_bag_of_bigrams(['нейронная сеть'])"
   ]
  },
  {
   "cell_type": "code",
   "execution_count": 5,
   "metadata": {
    "colab": {
     "base_uri": "https://localhost:8080/",
     "height": 34
    },
    "colab_type": "code",
    "id": "YCpdFe2-A1Z9",
    "outputId": "4dbb6e8b-0ea2-4503-a044-e623dd13721c"
   },
   "outputs": [
    {
     "name": "stderr",
     "output_type": "stream",
     "text": [
      "100% (13865 of 13865) |##################| Elapsed Time: 0:00:55 Time:  0:00:55\n"
     ]
    }
   ],
   "source": [
    "hashes = np.zeros((df.shape[0], df.shape[1]-1, 1936))\n",
    "\n",
    "for i in pb(range(df.shape[0])):\n",
    "  for j in range(df.shape[1]-1):\n",
    "    hashes[i,j] = sentences_to_bag_of_bigrams([df.iloc[i,j]])[0]"
   ]
  },
  {
   "cell_type": "code",
   "execution_count": 6,
   "metadata": {
    "colab": {
     "base_uri": "https://localhost:8080/",
     "height": 34
    },
    "colab_type": "code",
    "id": "OR1tWHIucFdM",
    "outputId": "40640d79-8107-4fa5-e62f-c2093dc71781"
   },
   "outputs": [
    {
     "data": {
      "text/plain": [
       "(13865, 5, 1936)"
      ]
     },
     "execution_count": 6,
     "metadata": {
      "tags": []
     },
     "output_type": "execute_result"
    }
   ],
   "source": [
    "hashes.shape"
   ]
  },
  {
   "cell_type": "code",
   "execution_count": 0,
   "metadata": {
    "colab": {},
    "colab_type": "code",
    "id": "_yXdJ7KwJNPO"
   },
   "outputs": [],
   "source": [
    "samples = hashes\n",
    "target = np.array(df['5'])\n",
    "\n",
    "X_train, X_test, y_train, y_test = TTS(hashes, target, test_size=0.25, random_state=4)"
   ]
  },
  {
   "cell_type": "code",
   "execution_count": 8,
   "metadata": {
    "colab": {
     "base_uri": "https://localhost:8080/",
     "height": 34
    },
    "colab_type": "code",
    "id": "BwyAjPn5I3gC",
    "outputId": "61ec993d-3008-43c5-f73c-ccb1346f2494"
   },
   "outputs": [
    {
     "data": {
      "text/plain": [
       "(10398, 5, 1936)"
      ]
     },
     "execution_count": 8,
     "metadata": {
      "tags": []
     },
     "output_type": "execute_result"
    }
   ],
   "source": [
    "X_train.shape"
   ]
  },
  {
   "cell_type": "code",
   "execution_count": 0,
   "metadata": {
    "colab": {},
    "colab_type": "code",
    "id": "TDnit4Ne9nnC"
   },
   "outputs": [],
   "source": [
    "import itertools\n",
    "import re\n",
    "import numpy as np\n",
    "import collections"
   ]
  },
  {
   "cell_type": "code",
   "execution_count": 0,
   "metadata": {
    "colab": {},
    "colab_type": "code",
    "id": "g3lq3VFAJNPS"
   },
   "outputs": [],
   "source": [
    "def get_batch(X_val, y_val, batch_sz=16):\n",
    "    \n",
    "    '''\n",
    "    Разбиение выборки на батчи заданного размера.\n",
    "    \n",
    "    X_val - векторное представление данных\n",
    "    y_val - разметка\n",
    "    batch_sz - размер одного батча\n",
    "    shuffle - перемешивание элементов по батчам\n",
    "    \n",
    "    return:\n",
    "    \n",
    "    X_batches, y_batches - разделенная по батчам выборка    \n",
    "    \n",
    "    '''\n",
    "    \n",
    "    X_batches, y_batches = [], []\n",
    "    \n",
    "    samples_num = len(X_val)\n",
    "    samples_inds = np.arange(samples_num)\n",
    "    np.random.shuffle(samples_inds)\n",
    "    \n",
    "    cur_x, cur_y = [], []\n",
    "    \n",
    "    for i, cur_ind in enumerate(samples_inds):\n",
    "        if i % batch_sz < batch_sz-1:\n",
    "            cur_x.append(X_val[cur_ind])\n",
    "            cur_y.append(y_val[cur_ind]-1)\n",
    "        else:\n",
    "            cur_x.append(X_val[cur_ind])\n",
    "            cur_y.append(y_val[cur_ind]-1)\n",
    "            X_batches.append(cur_x)\n",
    "            y_batches.append(cur_y)\n",
    "            cur_x, cur_y = [], []\n",
    "          \n",
    "    X_batches.append(cur_x)\n",
    "    y_batches.append(cur_y)\n",
    "    \n",
    "    return np.array(X_batches), np.array(y_batches)"
   ]
  },
  {
   "cell_type": "code",
   "execution_count": 11,
   "metadata": {
    "colab": {
     "base_uri": "https://localhost:8080/",
     "height": 34
    },
    "colab_type": "code",
    "id": "qg9HnDxSW15N",
    "outputId": "10867b3b-d8b1-4694-b822-7ccf60f666b9"
   },
   "outputs": [
    {
     "data": {
      "text/plain": [
       "(16, 5, 1936)"
      ]
     },
     "execution_count": 11,
     "metadata": {
      "tags": []
     },
     "output_type": "execute_result"
    }
   ],
   "source": [
    "np.array(get_batch(X_test, y_test)[0][0]).shape"
   ]
  },
  {
   "cell_type": "code",
   "execution_count": 0,
   "metadata": {
    "colab": {},
    "colab_type": "code",
    "id": "wMBApvEH_Zr8"
   },
   "outputs": [],
   "source": [
    "from sklearn.metrics import accuracy_score, precision_score, f1_score\n",
    "\n",
    "def get_score(preds, targets):\n",
    "        \n",
    "    accuracy = accuracy_score(targets, preds)\n",
    "    precision_macro = precision_score(targets, preds, average='macro')\n",
    "    precision_micro = precision_score(targets, preds, average='micro')\n",
    "    f1_macro = f1_score(targets, preds, average='macro')\n",
    "    f1_micro = f1_score(targets, preds, average='micro')\n",
    "    \n",
    "    return accuracy, precision_macro, precision_micro, f1_macro, f1_micro"
   ]
  },
  {
   "cell_type": "code",
   "execution_count": 0,
   "metadata": {
    "colab": {},
    "colab_type": "code",
    "id": "_cCjkQmNJNPW"
   },
   "outputs": [],
   "source": [
    "import torch \n",
    "import torch.nn as nn\n",
    "import torchvision.datasets as dsets\n",
    "import torchvision.transforms as transforms\n",
    "from torch.autograd import Variable\n",
    "import torch.nn.functional as F\n",
    "from sklearn.metrics import accuracy_score\n",
    "from sklearn.metrics.pairwise import cosine_similarity as cos"
   ]
  },
  {
   "cell_type": "code",
   "execution_count": 0,
   "metadata": {
    "colab": {},
    "colab_type": "code",
    "id": "fQeQvv7DJNPY"
   },
   "outputs": [],
   "source": [
    "class DSSMNet(nn.Module):\n",
    "    def __init__(self, bow_size):\n",
    "        super().__init__()\n",
    "        self.bow_size = bow_size\n",
    "        self.linear_0_1 = nn.Linear(bow_size, 300)\n",
    "        self.linear_0_2 = nn.Linear(300, 300)\n",
    "        self.linear_0_3 = nn.Linear(300, 128)\n",
    "        \n",
    "        self.linear_1_1 = nn.Linear(bow_size, 300)\n",
    "        self.linear_1_2 = nn.Linear(300, 300)\n",
    "        self.linear_1_3 = nn.Linear(300, 128)    \n",
    "        \n",
    "        self.linear_2_1 = nn.Linear(bow_size, 300)\n",
    "        self.linear_2_2 = nn.Linear(300, 300)\n",
    "        self.linear_2_3 = nn.Linear(300, 128)\n",
    "        \n",
    "        self.linear_3_1 = nn.Linear(bow_size, 300)\n",
    "        self.linear_3_2 = nn.Linear(300, 300)\n",
    "        self.linear_3_3 = nn.Linear(300, 128)\n",
    "        \n",
    "        self.linear_4_1 = nn.Linear(bow_size, 300)\n",
    "        self.linear_4_2 = nn.Linear(300, 300)\n",
    "        self.linear_4_3 = nn.Linear(300, 128)\n",
    "        \n",
    "    def forward(self, sample):\n",
    "        bow_size = self.bow_size\n",
    "        \n",
    "        question = sample[:,0,:]\n",
    "        answer1, answer2, answer3, answer4 = sample[:,1,:], sample[:,2,:], sample[:,3,:], sample[:,4,:]\n",
    "        \n",
    "        outputs = torch.Tensor().type(torch.cuda.FloatTensor)\n",
    "        cosines = torch.Tensor().type(torch.cuda.FloatTensor)\n",
    "        \n",
    "        question = torch.tanh(self.linear_0_1(question))\n",
    "        question = torch.tanh(self.linear_0_2(question))\n",
    "        question = torch.tanh(self.linear_0_3(question))\n",
    "        outputs = torch.cat((outputs, question.unsqueeze(0)), dim=0)\n",
    "        \n",
    "        answer1 = torch.tanh(self.linear_1_1(answer1))\n",
    "        answer1 = torch.tanh(self.linear_1_2(answer1))\n",
    "        answer1 = torch.tanh(self.linear_1_3(answer1))\n",
    "        outputs = torch.cat((outputs, answer1.unsqueeze(0)), dim=0)\n",
    "        \n",
    "        answer2 = torch.tanh(self.linear_2_1(answer2))\n",
    "        answer2 = torch.tanh(self.linear_2_2(answer2))\n",
    "        answer2 = torch.tanh(self.linear_2_3(answer2))\n",
    "        outputs = torch.cat((outputs, answer2.unsqueeze(0)), dim=0)\n",
    "        \n",
    "        answer3 = torch.tanh(self.linear_3_1(answer3))\n",
    "        answer3 = torch.tanh(self.linear_3_2(answer3))\n",
    "        answer3 = torch.tanh(self.linear_3_3(answer3))\n",
    "        outputs = torch.cat((outputs, answer3.unsqueeze(0)), dim=0)\n",
    "        \n",
    "        answer4 = torch.tanh(self.linear_4_1(answer4))\n",
    "        answer4 = torch.tanh(self.linear_4_2(answer4))\n",
    "        answer4 = torch.tanh(self.linear_4_3(answer4))\n",
    "        outputs = torch.cat((outputs, answer4.unsqueeze(0)), dim=0)\n",
    "        \n",
    "        \n",
    "        for i in range(1,len(outputs)):\n",
    "            cosines = torch.cat((cosines, F.cosine_similarity(outputs[0], outputs[i], dim=1).unsqueeze(0)))\n",
    "            \n",
    "        probs = F.softmax(cosines.view(-1,4))\n",
    "        \n",
    "        return probs     "
   ]
  },
  {
   "cell_type": "code",
   "execution_count": 0,
   "metadata": {
    "colab": {},
    "colab_type": "code",
    "id": "vO3vWsvzJNPd"
   },
   "outputs": [],
   "source": [
    "def train(model, optimizer, X_train, y_train, batch_size):\n",
    "    train_loss, all_preds, all_tests = [], [], []\n",
    "    model.train()\n",
    "    X_batches, y_batches = get_batch(X_train, y_train, batch_size)\n",
    "    \n",
    "    for batch in zip(X_batches, y_batches):\n",
    "        X_batch, y_batch = batch\n",
    "        X_batch, y_batch = np.array(X_batch), np.array(y_batch)\n",
    "        X_batch = torch.from_numpy(X_batch).type(torch.cuda.FloatTensor)\n",
    "        y_batch = torch.from_numpy(y_batch).type(torch.cuda.LongTensor)\n",
    "        \n",
    "        optimizer.zero_grad()\n",
    "        y_pred = model(X_batch)\n",
    "        loss = loss_fn(y_pred, y_batch)\n",
    "        \n",
    "        train_loss.append(loss.item())\n",
    "        \n",
    "        max_ind = y_pred.max(1, keepdim=True)[1]\n",
    "        y_pred = max_ind.view(1,-1)[0]\n",
    "        all_preds.extend(y_pred.detach().cpu().numpy())\n",
    "        all_tests.extend(y_batch.cpu().numpy())\n",
    "        \n",
    "        loss.backward()\n",
    "        optimizer.step()\n",
    "        \n",
    "    score = get_score(np.array(all_preds), np.array(all_tests))\n",
    "        \n",
    "    return np.mean(train_loss), list(score)"
   ]
  },
  {
   "cell_type": "code",
   "execution_count": 0,
   "metadata": {
    "colab": {},
    "colab_type": "code",
    "id": "3nSxKXQNJNPe",
    "scrolled": true
   },
   "outputs": [],
   "source": [
    "def validate(model, optimizer, X_test, y_test, batch_size):\n",
    "    val_loss, all_preds, all_tests = [], [], []\n",
    "    model.eval()\n",
    "    X_batches, y_batches = get_batch(X_test, y_test, batch_size)\n",
    "    \n",
    "    for batch in zip(X_batches, y_batches):\n",
    "        X_batch, y_batch = batch\n",
    "        X_batch, y_batch = np.array(X_batch), np.array(y_batch)\n",
    "        X_batch = torch.from_numpy(X_batch).type(torch.cuda.FloatTensor)\n",
    "        y_batch = torch.from_numpy(y_batch).type(torch.cuda.LongTensor)\n",
    "        \n",
    "        y_pred = model(X_batch)\n",
    "        loss = loss_fn(y_pred, y_batch)\n",
    "        \n",
    "        val_loss.append(loss.item())\n",
    "        \n",
    "        max_ind = y_pred.max(1, keepdim=True)[1]\n",
    "        y_pred = max_ind.view(1,-1)[0]\n",
    "        all_preds.extend(y_pred.detach().cpu().numpy())\n",
    "        all_tests.extend(y_batch.cpu().numpy())\n",
    "        \n",
    "    score = get_score(np.array(all_preds), np.array(all_tests))\n",
    "        \n",
    "    return np.mean(val_loss), list(score)"
   ]
  },
  {
   "cell_type": "code",
   "execution_count": 0,
   "metadata": {
    "colab": {},
    "colab_type": "code",
    "id": "u922e0-udVUh"
   },
   "outputs": [],
   "source": [
    "results_dict = {'Все данные': [], 'История': [], 'Медицина': [], 'Биология': []}"
   ]
  },
  {
   "cell_type": "code",
   "execution_count": 0,
   "metadata": {
    "colab": {},
    "colab_type": "code",
    "id": "sfrpP0hxJNPb"
   },
   "outputs": [],
   "source": [
    "model = DSSMNet(hashes.shape[2])\n",
    "model.cuda()\n",
    "optimizer = torch.optim.Adam(model.parameters())\n",
    "loss_fn = nn.CrossEntropyLoss()\n",
    "epochs = 30"
   ]
  },
  {
   "cell_type": "code",
   "execution_count": 24,
   "metadata": {
    "colab": {
     "base_uri": "https://localhost:8080/",
     "height": 136
    },
    "colab_type": "code",
    "id": "SmLRUmATCo0L",
    "outputId": "3e21f93e-be54-4780-f104-09705a6c6308"
   },
   "outputs": [
    {
     "name": "stderr",
     "output_type": "stream",
     "text": [
      "\r",
      "                                                                               \r",
      "\r",
      "100% (30 of 30) |########################| Elapsed Time: 0:01:52 Time:  0:01:52\n"
     ]
    },
    {
     "name": "stdout",
     "output_type": "stream",
     "text": [
      "Epoch 30:\n",
      "Train loss: 1.3872065738531258\n",
      "Validation loss: 1.386392950462306\n",
      "Train accuracy: 0.24687439892286978\n",
      "Validation accuracy: 0.24026535910008653\n",
      "Max validation accuracy: 0.26535910008653013\n"
     ]
    }
   ],
   "source": [
    "from IPython.display import clear_output\n",
    "import matplotlib.pyplot as plt\n",
    "all_train_loss, all_val_loss = [], []\n",
    "all_train_acc, all_val_acc = [], []\n",
    "all_scores = []\n",
    "max_acc = 0\n",
    "\n",
    "for epoch in pb(range(epochs)):\n",
    "    cur_train = train(model, optimizer, X_train, y_train, 32)\n",
    "    cur_val = validate(model, optimizer, X_test, y_test, 16)\n",
    "    all_train_loss.append(cur_train[0])\n",
    "    all_train_acc.append(cur_train[1][0])\n",
    "    all_val_loss.append(cur_val[0])\n",
    "    all_val_acc.append(cur_val[1][0])\n",
    "    all_scores.append(cur_val[1])\n",
    "    max_acc = cur_val[1][0] if cur_val[1][0] > max_acc else max_acc\n",
    "    clear_output()\n",
    "    print('Epoch {}:'.format(epoch+1))\n",
    "    print(\"Train loss: {}\".format(cur_train[0]))\n",
    "    print(\"Validation loss: {}\".format(cur_val[0]))\n",
    "    print(\"Train accuracy: {}\".format(cur_train[1][0]))\n",
    "    print(\"Validation accuracy: {}\".format(cur_val[1][0]))\n",
    "    print(\"Max validation accuracy: {}\".format(max_acc))\n",
    "\n",
    "    '''f, axarr = plt.subplots(1,2, figsize=(20,10))\n",
    "\n",
    "    axarr[0].plot(all_train_loss, label='Train loss')\n",
    "    axarr[0].plot(all_val_loss, label='Val loss')\n",
    "    axarr[0].grid()\n",
    "    axarr[0].legend(fontsize=15)\n",
    "    axarr[0].set_title('Loss after epoch #{}'.format(epoch+1), size=15)\n",
    "\n",
    "    axarr[1].plot(all_train_acc, label='Train accuracy')\n",
    "    axarr[1].plot(all_val_acc, label='Val accuracy')\n",
    "    axarr[1].grid()\n",
    "    axarr[1].legend(fontsize=15)\n",
    "    axarr[1].set_title('Accuracy after epoch #{}'.format(epoch+1), size=15)\n",
    "    plt.show()'''\n",
    "\n",
    "results_dict['Все данные'] = np.max(np.array(all_scores), axis=0).tolist()\n"
   ]
  },
  {
   "cell_type": "markdown",
   "metadata": {
    "colab_type": "text",
    "id": "BvAxTEoWel70"
   },
   "source": [
    "## История"
   ]
  },
  {
   "cell_type": "code",
   "execution_count": 31,
   "metadata": {
    "colab": {
     "base_uri": "https://localhost:8080/",
     "height": 34
    },
    "colab_type": "code",
    "id": "_kZC7gSlCm2a",
    "outputId": "d5c6bfdb-0e71-4b74-d120-1c22d39e9855"
   },
   "outputs": [
    {
     "data": {
      "text/plain": [
       "2498"
      ]
     },
     "execution_count": 31,
     "metadata": {
      "tags": []
     },
     "output_type": "execute_result"
    }
   ],
   "source": [
    "hist_inds = []\n",
    "\n",
    "for i in range(len(df)):\n",
    "  if df.iloc[i,6] == 'История':\n",
    "    hist_inds.append(i)\n",
    "len(hist_inds)"
   ]
  },
  {
   "cell_type": "code",
   "execution_count": 0,
   "metadata": {
    "colab": {},
    "colab_type": "code",
    "id": "Apxuog3RJNPi"
   },
   "outputs": [],
   "source": [
    "hashes_hist = hashes[hist_inds]\n",
    "target = list(df[df['label'] == 'История']['5'])\n",
    "\n",
    "X_train, X_test, y_train, y_test = TTS(hashes_hist, target, test_size=0.25, random_state=4)"
   ]
  },
  {
   "cell_type": "code",
   "execution_count": 0,
   "metadata": {
    "colab": {},
    "colab_type": "code",
    "id": "tW8NTCgqJNPk"
   },
   "outputs": [],
   "source": [
    "model = DSSMNet(hashes_hist.shape[2])\n",
    "model.cuda()\n",
    "optimizer = torch.optim.Adam(model.parameters())\n",
    "loss_fn = nn.CrossEntropyLoss()\n",
    "epochs = 30"
   ]
  },
  {
   "cell_type": "code",
   "execution_count": 46,
   "metadata": {
    "colab": {
     "base_uri": "https://localhost:8080/",
     "height": 136
    },
    "colab_type": "code",
    "id": "MJBNTQzQfQmV",
    "outputId": "f8090267-bc71-48bd-cb27-9ead514b2f22"
   },
   "outputs": [
    {
     "name": "stderr",
     "output_type": "stream",
     "text": [
      "\r",
      "                                                                               \r",
      "\r",
      "100% (30 of 30) |########################| Elapsed Time: 0:00:21 Time:  0:00:21\n"
     ]
    },
    {
     "name": "stdout",
     "output_type": "stream",
     "text": [
      "Epoch 30:\n",
      "Train loss: 1.3869654869629164\n",
      "Validation loss: 1.3875593304634095\n",
      "Train accuracy: 0.2402562733582488\n",
      "Validation accuracy: 0.2752\n",
      "Max validation accuracy: 0.2752\n"
     ]
    }
   ],
   "source": [
    "from IPython.display import clear_output\n",
    "import matplotlib.pyplot as plt\n",
    "all_train_loss, all_val_loss = [], []\n",
    "all_train_acc, all_val_acc = [], []\n",
    "all_scores = []\n",
    "max_acc = 0\n",
    "\n",
    "for epoch in pb(range(epochs)):\n",
    "    cur_train = train(model, optimizer, X_train, y_train, 32)\n",
    "    cur_val = validate(model, optimizer, X_test, y_test, 16)\n",
    "    all_train_loss.append(cur_train[0])\n",
    "    all_train_acc.append(cur_train[1][0])\n",
    "    all_val_loss.append(cur_val[0])\n",
    "    all_val_acc.append(cur_val[1][0])\n",
    "    all_scores.append(cur_val[1])\n",
    "    max_acc = cur_val[1][0] if cur_val[1][0] > max_acc else max_acc\n",
    "    clear_output()\n",
    "    print('Epoch {}:'.format(epoch+1))\n",
    "    print(\"Train loss: {}\".format(cur_train[0]))\n",
    "    print(\"Validation loss: {}\".format(cur_val[0]))\n",
    "    print(\"Train accuracy: {}\".format(cur_train[1][0]))\n",
    "    print(\"Validation accuracy: {}\".format(cur_val[1][0]))\n",
    "    print(\"Max validation accuracy: {}\".format(max_acc))\n",
    "\n",
    "    '''f, axarr = plt.subplots(1,2, figsize=(20,10))\n",
    "\n",
    "    axarr[0].plot(all_train_loss, label='Train loss')\n",
    "    axarr[0].plot(all_val_loss, label='Val loss')\n",
    "    axarr[0].grid()\n",
    "    axarr[0].legend(fontsize=15)\n",
    "    axarr[0].set_title('Loss after epoch #{}'.format(epoch+1), size=15)\n",
    "\n",
    "    axarr[1].plot(all_train_acc, label='Train accuracy')\n",
    "    axarr[1].plot(all_val_acc, label='Val accuracy')\n",
    "    axarr[1].grid()\n",
    "    axarr[1].legend(fontsize=15)\n",
    "    axarr[1].set_title('Accuracy after epoch #{}'.format(epoch+1), size=15)\n",
    "    plt.show()'''\n",
    "\n",
    "results_dict['История'] = np.max(np.array(all_scores), axis=0).tolist()\n"
   ]
  },
  {
   "cell_type": "markdown",
   "metadata": {
    "colab_type": "text",
    "id": "fhabSFxtgb9r"
   },
   "source": [
    "## Медицина"
   ]
  },
  {
   "cell_type": "code",
   "execution_count": 48,
   "metadata": {
    "colab": {
     "base_uri": "https://localhost:8080/",
     "height": 34
    },
    "colab_type": "code",
    "id": "PM7aWwdrfrz9",
    "outputId": "7d03f8db-1743-44b8-d7d1-acef3d9f0dec"
   },
   "outputs": [
    {
     "data": {
      "text/plain": [
       "4013"
      ]
     },
     "execution_count": 48,
     "metadata": {
      "tags": []
     },
     "output_type": "execute_result"
    }
   ],
   "source": [
    "med_inds = []\n",
    "\n",
    "for i in range(len(df)):\n",
    "  if df.iloc[i,6] == 'Медицина':\n",
    "    med_inds.append(i)\n",
    "len(med_inds)"
   ]
  },
  {
   "cell_type": "code",
   "execution_count": 0,
   "metadata": {
    "colab": {},
    "colab_type": "code",
    "id": "C8D4j9_mgfSU"
   },
   "outputs": [],
   "source": [
    "hashes_med = hashes[med_inds]\n",
    "target = list(df[df['label'] == 'Медицина']['5'])\n",
    "\n",
    "X_train, X_test, y_train, y_test = TTS(hashes_med, target, test_size=0.25, random_state=4)"
   ]
  },
  {
   "cell_type": "code",
   "execution_count": 0,
   "metadata": {
    "colab": {},
    "colab_type": "code",
    "id": "W08DrWrSgkKy"
   },
   "outputs": [],
   "source": [
    "model = DSSMNet(hashes_med.shape[2])\n",
    "model.cuda()\n",
    "optimizer = torch.optim.Adam(model.parameters())\n",
    "loss_fn = nn.CrossEntropyLoss()\n",
    "epochs = 30"
   ]
  },
  {
   "cell_type": "code",
   "execution_count": 54,
   "metadata": {
    "colab": {
     "base_uri": "https://localhost:8080/",
     "height": 136
    },
    "colab_type": "code",
    "id": "f2k_qT27goX6",
    "outputId": "f9878522-7fb6-4cd7-f9ac-3b90e1e1ea84"
   },
   "outputs": [
    {
     "name": "stderr",
     "output_type": "stream",
     "text": [
      "\r",
      "                                                                               \r",
      "\r",
      "100% (30 of 30) |########################| Elapsed Time: 0:00:33 Time:  0:00:33\n"
     ]
    },
    {
     "name": "stdout",
     "output_type": "stream",
     "text": [
      "Epoch 30:\n",
      "Train loss: 1.38766619029798\n",
      "Validation loss: 1.3864859645328824\n",
      "Train accuracy: 0.256563642406115\n",
      "Validation accuracy: 0.26294820717131473\n",
      "Max validation accuracy: 0.27191235059760954\n"
     ]
    }
   ],
   "source": [
    "from IPython.display import clear_output\n",
    "import matplotlib.pyplot as plt\n",
    "all_train_loss, all_val_loss = [], []\n",
    "all_train_acc, all_val_acc = [], []\n",
    "all_scores = []\n",
    "max_acc = 0\n",
    "\n",
    "for epoch in pb(range(epochs)):\n",
    "    cur_train = train(model, optimizer, X_train, y_train, 32)\n",
    "    cur_val = validate(model, optimizer, X_test, y_test, 16)\n",
    "    all_train_loss.append(cur_train[0])\n",
    "    all_train_acc.append(cur_train[1][0])\n",
    "    all_val_loss.append(cur_val[0])\n",
    "    all_val_acc.append(cur_val[1][0])\n",
    "    all_scores.append(cur_val[1])\n",
    "    max_acc = cur_val[1][0] if cur_val[1][0] > max_acc else max_acc\n",
    "    clear_output()\n",
    "    print('Epoch {}:'.format(epoch+1))\n",
    "    print(\"Train loss: {}\".format(cur_train[0]))\n",
    "    print(\"Validation loss: {}\".format(cur_val[0]))\n",
    "    print(\"Train accuracy: {}\".format(cur_train[1][0]))\n",
    "    print(\"Validation accuracy: {}\".format(cur_val[1][0]))\n",
    "    print(\"Max validation accuracy: {}\".format(max_acc))\n",
    "\n",
    "    '''f, axarr = plt.subplots(1,2, figsize=(20,10))\n",
    "\n",
    "    axarr[0].plot(all_train_loss, label='Train loss')\n",
    "    axarr[0].plot(all_val_loss, label='Val loss')\n",
    "    axarr[0].grid()\n",
    "    axarr[0].legend(fontsize=15)\n",
    "    axarr[0].set_title('Loss after epoch #{}'.format(epoch+1), size=15)\n",
    "\n",
    "    axarr[1].plot(all_train_acc, label='Train accuracy')\n",
    "    axarr[1].plot(all_val_acc, label='Val accuracy')\n",
    "    axarr[1].grid()\n",
    "    axarr[1].legend(fontsize=15)\n",
    "    axarr[1].set_title('Accuracy after epoch #{}'.format(epoch+1), size=15)\n",
    "    plt.show()'''\n",
    "\n",
    "results_dict['Медицина'] = np.max(np.array(all_scores), axis=0).tolist()\n"
   ]
  },
  {
   "cell_type": "markdown",
   "metadata": {
    "colab_type": "text",
    "id": "-3EykaEygyvi"
   },
   "source": [
    "## Биология"
   ]
  },
  {
   "cell_type": "code",
   "execution_count": 55,
   "metadata": {
    "colab": {
     "base_uri": "https://localhost:8080/",
     "height": 34
    },
    "colab_type": "code",
    "id": "SJtnCG79gqKS",
    "outputId": "64d4772f-8528-4920-99b7-58c91e6e90d4"
   },
   "outputs": [
    {
     "data": {
      "text/plain": [
       "2184"
      ]
     },
     "execution_count": 55,
     "metadata": {
      "tags": []
     },
     "output_type": "execute_result"
    }
   ],
   "source": [
    "bio_inds = []\n",
    "\n",
    "for i in range(len(df)):\n",
    "  if df.iloc[i,6] == 'Биология':\n",
    "    bio_inds.append(i)\n",
    "len(bio_inds)"
   ]
  },
  {
   "cell_type": "code",
   "execution_count": 0,
   "metadata": {
    "colab": {},
    "colab_type": "code",
    "id": "x3f5_Iplg4FE"
   },
   "outputs": [],
   "source": [
    "hashes_bio = hashes[bio_inds]\n",
    "target = list(df[df['label'] == 'Биология']['5'])\n",
    "\n",
    "X_train, X_test, y_train, y_test = TTS(hashes_bio, target, test_size=0.25, random_state=4)"
   ]
  },
  {
   "cell_type": "code",
   "execution_count": 0,
   "metadata": {
    "colab": {},
    "colab_type": "code",
    "id": "OM4q3_qlg8_r"
   },
   "outputs": [],
   "source": [
    "model = DSSMNet(hashes_bio.shape[2])\n",
    "model.cuda()\n",
    "optimizer = torch.optim.Adam(model.parameters())\n",
    "loss_fn = nn.CrossEntropyLoss()\n",
    "epochs = 30"
   ]
  },
  {
   "cell_type": "code",
   "execution_count": 58,
   "metadata": {
    "colab": {
     "base_uri": "https://localhost:8080/",
     "height": 136
    },
    "colab_type": "code",
    "id": "esyLBogyg_hj",
    "outputId": "c6e0d75a-78ac-4b23-fe82-6df1d9a75217"
   },
   "outputs": [
    {
     "name": "stderr",
     "output_type": "stream",
     "text": [
      "\r",
      "                                                                               \r",
      "\r",
      "100% (30 of 30) |########################| Elapsed Time: 0:00:18 Time:  0:00:18\n"
     ]
    },
    {
     "name": "stdout",
     "output_type": "stream",
     "text": [
      "Epoch 30:\n",
      "Train loss: 1.3871575754422407\n",
      "Validation loss: 1.3861306462969099\n",
      "Train accuracy: 0.2503052503052503\n",
      "Validation accuracy: 0.27106227106227104\n",
      "Max validation accuracy: 0.2967032967032967\n"
     ]
    }
   ],
   "source": [
    "from IPython.display import clear_output\n",
    "import matplotlib.pyplot as plt\n",
    "all_train_loss, all_val_loss = [], []\n",
    "all_train_acc, all_val_acc = [], []\n",
    "all_scores = []\n",
    "max_acc = 0\n",
    "\n",
    "for epoch in pb(range(epochs)):\n",
    "    cur_train = train(model, optimizer, X_train, y_train, 32)\n",
    "    cur_val = validate(model, optimizer, X_test, y_test, 16)\n",
    "    all_train_loss.append(cur_train[0])\n",
    "    all_train_acc.append(cur_train[1][0])\n",
    "    all_val_loss.append(cur_val[0])\n",
    "    all_val_acc.append(cur_val[1][0])\n",
    "    all_scores.append(cur_val[1])\n",
    "    max_acc = cur_val[1][0] if cur_val[1][0] > max_acc else max_acc\n",
    "    clear_output()\n",
    "    print('Epoch {}:'.format(epoch+1))\n",
    "    print(\"Train loss: {}\".format(cur_train[0]))\n",
    "    print(\"Validation loss: {}\".format(cur_val[0]))\n",
    "    print(\"Train accuracy: {}\".format(cur_train[1][0]))\n",
    "    print(\"Validation accuracy: {}\".format(cur_val[1][0]))\n",
    "    print(\"Max validation accuracy: {}\".format(max_acc))\n",
    "\n",
    "    '''f, axarr = plt.subplots(1,2, figsize=(20,10))\n",
    "\n",
    "    axarr[0].plot(all_train_loss, label='Train loss')\n",
    "    axarr[0].plot(all_val_loss, label='Val loss')\n",
    "    axarr[0].grid()\n",
    "    axarr[0].legend(fontsize=15)\n",
    "    axarr[0].set_title('Loss after epoch #{}'.format(epoch+1), size=15)\n",
    "\n",
    "    axarr[1].plot(all_train_acc, label='Train accuracy')\n",
    "    axarr[1].plot(all_val_acc, label='Val accuracy')\n",
    "    axarr[1].grid()\n",
    "    axarr[1].legend(fontsize=15)\n",
    "    axarr[1].set_title('Accuracy after epoch #{}'.format(epoch+1), size=15)\n",
    "    plt.show()'''\n",
    "\n",
    "results_dict['Биология'] = np.max(np.array(all_scores), axis=0).tolist()\n"
   ]
  },
  {
   "cell_type": "code",
   "execution_count": 59,
   "metadata": {
    "colab": {
     "base_uri": "https://localhost:8080/",
     "height": 204
    },
    "colab_type": "code",
    "id": "WtOqzmEihDgS",
    "outputId": "a47cce62-70cc-4e68-806b-dee49ad68996"
   },
   "outputs": [
    {
     "data": {
      "text/html": [
       "<div>\n",
       "<style scoped>\n",
       "    .dataframe tbody tr th:only-of-type {\n",
       "        vertical-align: middle;\n",
       "    }\n",
       "\n",
       "    .dataframe tbody tr th {\n",
       "        vertical-align: top;\n",
       "    }\n",
       "\n",
       "    .dataframe thead th {\n",
       "        text-align: right;\n",
       "    }\n",
       "</style>\n",
       "<table border=\"1\" class=\"dataframe\">\n",
       "  <thead>\n",
       "    <tr style=\"text-align: right;\">\n",
       "      <th></th>\n",
       "      <th>Все данные</th>\n",
       "      <th>История</th>\n",
       "      <th>Медицина</th>\n",
       "      <th>Биология</th>\n",
       "    </tr>\n",
       "  </thead>\n",
       "  <tbody>\n",
       "    <tr>\n",
       "      <th>Accuracy</th>\n",
       "      <td>0.265359</td>\n",
       "      <td>0.275200</td>\n",
       "      <td>0.271912</td>\n",
       "      <td>0.296703</td>\n",
       "    </tr>\n",
       "    <tr>\n",
       "      <th>Precision Macro</th>\n",
       "      <td>0.265455</td>\n",
       "      <td>0.272430</td>\n",
       "      <td>0.273681</td>\n",
       "      <td>0.296218</td>\n",
       "    </tr>\n",
       "    <tr>\n",
       "      <th>Precision Micro</th>\n",
       "      <td>0.265359</td>\n",
       "      <td>0.275200</td>\n",
       "      <td>0.271912</td>\n",
       "      <td>0.296703</td>\n",
       "    </tr>\n",
       "    <tr>\n",
       "      <th>F1 Macro</th>\n",
       "      <td>0.265134</td>\n",
       "      <td>0.272605</td>\n",
       "      <td>0.270291</td>\n",
       "      <td>0.291633</td>\n",
       "    </tr>\n",
       "    <tr>\n",
       "      <th>F1 Micro</th>\n",
       "      <td>0.265359</td>\n",
       "      <td>0.275200</td>\n",
       "      <td>0.271912</td>\n",
       "      <td>0.296703</td>\n",
       "    </tr>\n",
       "  </tbody>\n",
       "</table>\n",
       "</div>"
      ],
      "text/plain": [
       "                 Все данные   История  Медицина  Биология\n",
       "Accuracy           0.265359  0.275200  0.271912  0.296703\n",
       "Precision Macro    0.265455  0.272430  0.273681  0.296218\n",
       "Precision Micro    0.265359  0.275200  0.271912  0.296703\n",
       "F1 Macro           0.265134  0.272605  0.270291  0.291633\n",
       "F1 Micro           0.265359  0.275200  0.271912  0.296703"
      ]
     },
     "execution_count": 59,
     "metadata": {
      "tags": []
     },
     "output_type": "execute_result"
    }
   ],
   "source": [
    "results = pd.DataFrame(data=results_dict, columns=list(results_dict.keys()), \\\n",
    "                       index=['Accuracy', 'Precision Macro', 'Precision Micro', 'F1 Macro', 'F1 Micro'])\n",
    "results"
   ]
  },
  {
   "cell_type": "code",
   "execution_count": 0,
   "metadata": {
    "colab": {},
    "colab_type": "code",
    "id": "OEL42J8bhJzK"
   },
   "outputs": [],
   "source": []
  }
 ],
 "metadata": {
  "accelerator": "GPU",
  "colab": {
   "collapsed_sections": [],
   "name": "Approach DSSM bag of words hash.ipynb",
   "provenance": [],
   "version": "0.3.2"
  },
  "kernelspec": {
   "display_name": "Python 3",
   "language": "python",
   "name": "python3"
  },
  "language_info": {
   "codemirror_mode": {
    "name": "ipython",
    "version": 3
   },
   "file_extension": ".py",
   "mimetype": "text/x-python",
   "name": "python",
   "nbconvert_exporter": "python",
   "pygments_lexer": "ipython3",
   "version": "3.6.5"
  }
 },
 "nbformat": 4,
 "nbformat_minor": 1
}
