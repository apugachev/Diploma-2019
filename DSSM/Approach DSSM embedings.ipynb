{
  "nbformat": 4,
  "nbformat_minor": 0,
  "metadata": {
    "colab": {
      "name": "Approach DSSM embedings.ipynb",
      "version": "0.3.2",
      "provenance": [],
      "collapsed_sections": []
    },
    "language_info": {
      "codemirror_mode": {
        "name": "ipython",
        "version": 3
      },
      "file_extension": ".py",
      "mimetype": "text/x-python",
      "name": "python",
      "nbconvert_exporter": "python",
      "pygments_lexer": "ipython3",
      "version": "3.6.5"
    },
    "kernelspec": {
      "display_name": "Python 3",
      "language": "python",
      "name": "python3"
    },
    "accelerator": "GPU"
  },
  "cells": [
    {
      "metadata": {
        "id": "tM-ODurxO6cG",
        "colab_type": "code",
        "outputId": "67dfa9ef-cd2e-4afd-d053-bf912ea15fc4",
        "colab": {
          "base_uri": "https://localhost:8080/",
          "height": 122
        }
      },
      "cell_type": "code",
      "source": [
        "from google.colab import drive\n",
        "drive.mount('/content/drive')"
      ],
      "execution_count": 1,
      "outputs": [
        {
          "output_type": "stream",
          "text": [
            "Go to this URL in a browser: https://accounts.google.com/o/oauth2/auth?client_id=947318989803-6bn6qk8qdgf4n4g3pfee6491hc0brc4i.apps.googleusercontent.com&redirect_uri=urn%3Aietf%3Awg%3Aoauth%3A2.0%3Aoob&scope=email%20https%3A%2F%2Fwww.googleapis.com%2Fauth%2Fdocs.test%20https%3A%2F%2Fwww.googleapis.com%2Fauth%2Fdrive%20https%3A%2F%2Fwww.googleapis.com%2Fauth%2Fdrive.photos.readonly%20https%3A%2F%2Fwww.googleapis.com%2Fauth%2Fpeopleapi.readonly&response_type=code\n",
            "\n",
            "Enter your authorization code:\n",
            "··········\n",
            "Mounted at /content/drive\n"
          ],
          "name": "stdout"
        }
      ]
    },
    {
      "metadata": {
        "colab_type": "code",
        "id": "YeQhYEg1JNPF",
        "outputId": "5af92ff5-2363-4aba-ca79-110e395926cb",
        "colab": {
          "base_uri": "https://localhost:8080/",
          "height": 289
        }
      },
      "cell_type": "code",
      "source": [
        "import pandas as pd\n",
        "import numpy as np\n",
        "import re\n",
        "from sklearn.model_selection import train_test_split as TTS\n",
        "import itertools\n",
        "from progressbar import progressbar as pb\n",
        "\n",
        "data = pd.read_csv('/content/drive/My Drive/Embeddings/big_data_labels.csv')\n",
        "data.head()"
      ],
      "execution_count": 14,
      "outputs": [
        {
          "output_type": "execute_result",
          "data": {
            "text/html": [
              "<div>\n",
              "<style scoped>\n",
              "    .dataframe tbody tr th:only-of-type {\n",
              "        vertical-align: middle;\n",
              "    }\n",
              "\n",
              "    .dataframe tbody tr th {\n",
              "        vertical-align: top;\n",
              "    }\n",
              "\n",
              "    .dataframe thead th {\n",
              "        text-align: right;\n",
              "    }\n",
              "</style>\n",
              "<table border=\"1\" class=\"dataframe\">\n",
              "  <thead>\n",
              "    <tr style=\"text-align: right;\">\n",
              "      <th></th>\n",
              "      <th>0</th>\n",
              "      <th>1</th>\n",
              "      <th>2</th>\n",
              "      <th>3</th>\n",
              "      <th>4</th>\n",
              "      <th>5</th>\n",
              "      <th>label</th>\n",
              "    </tr>\n",
              "  </thead>\n",
              "  <tbody>\n",
              "    <tr>\n",
              "      <th>0</th>\n",
              "      <td>Совещательный орган при императоре в начале XX в</td>\n",
              "      <td>Сенат</td>\n",
              "      <td>Государственный совет</td>\n",
              "      <td>Консилия министров</td>\n",
              "      <td>Верховный тайный совет</td>\n",
              "      <td>2</td>\n",
              "      <td>История</td>\n",
              "    </tr>\n",
              "    <tr>\n",
              "      <th>1</th>\n",
              "      <td>Министр внутренних дел с 1904 г либерал автор ...</td>\n",
              "      <td>Лорис Меликов</td>\n",
              "      <td>Святополк Мирский</td>\n",
              "      <td>Милюков</td>\n",
              "      <td>Витте</td>\n",
              "      <td>2</td>\n",
              "      <td>История</td>\n",
              "    </tr>\n",
              "    <tr>\n",
              "      <th>2</th>\n",
              "      <td>Какое из названных событий произошло 27 января...</td>\n",
              "      <td>подрыв флагманского корабля Петропавловск</td>\n",
              "      <td>высадка японских войск на Ляодунском полуострове</td>\n",
              "      <td>героический бой Варяга и Корейца</td>\n",
              "      <td>заключение Портсмутского мирного договора</td>\n",
              "      <td>3</td>\n",
              "      <td>История</td>\n",
              "    </tr>\n",
              "    <tr>\n",
              "      <th>3</th>\n",
              "      <td>Что из названного относится к результатам перв...</td>\n",
              "      <td>появление многопартийности</td>\n",
              "      <td>формирование конституционной монархии</td>\n",
              "      <td>ликвидация сословного строя</td>\n",
              "      <td>введение рабочего контроля за производством</td>\n",
              "      <td>1</td>\n",
              "      <td>История</td>\n",
              "    </tr>\n",
              "    <tr>\n",
              "      <th>4</th>\n",
              "      <td>Творчество поэтов Гумилева Ахматовой Мандельшт...</td>\n",
              "      <td>акмеизму</td>\n",
              "      <td>футуризму</td>\n",
              "      <td>импрессионизму</td>\n",
              "      <td>реализму</td>\n",
              "      <td>1</td>\n",
              "      <td>История</td>\n",
              "    </tr>\n",
              "  </tbody>\n",
              "</table>\n",
              "</div>"
            ],
            "text/plain": [
              "                                                   0  \\\n",
              "0   Совещательный орган при императоре в начале XX в   \n",
              "1  Министр внутренних дел с 1904 г либерал автор ...   \n",
              "2  Какое из названных событий произошло 27 января...   \n",
              "3  Что из названного относится к результатам перв...   \n",
              "4  Творчество поэтов Гумилева Ахматовой Мандельшт...   \n",
              "\n",
              "                                           1  \\\n",
              "0                                      Сенат   \n",
              "1                              Лорис Меликов   \n",
              "2  подрыв флагманского корабля Петропавловск   \n",
              "3                 появление многопартийности   \n",
              "4                                   акмеизму   \n",
              "\n",
              "                                                  2  \\\n",
              "0                             Государственный совет   \n",
              "1                                 Святополк Мирский   \n",
              "2  высадка японских войск на Ляодунском полуострове   \n",
              "3             формирование конституционной монархии   \n",
              "4                                         футуризму   \n",
              "\n",
              "                                  3  \\\n",
              "0                Консилия министров   \n",
              "1                           Милюков   \n",
              "2  героический бой Варяга и Корейца   \n",
              "3       ликвидация сословного строя   \n",
              "4                    импрессионизму   \n",
              "\n",
              "                                             4  5    label  \n",
              "0                       Верховный тайный совет  2  История  \n",
              "1                                        Витте  2  История  \n",
              "2    заключение Портсмутского мирного договора  3  История  \n",
              "3  введение рабочего контроля за производством  1  История  \n",
              "4                                     реализму  1  История  "
            ]
          },
          "metadata": {
            "tags": []
          },
          "execution_count": 14
        }
      ]
    },
    {
      "metadata": {
        "colab_type": "code",
        "id": "mj2MGZdQJNPL",
        "colab": {}
      },
      "cell_type": "code",
      "source": [
        "import pickle\n",
        "\n",
        "with open('/content/drive/My Drive/Embeddings/elmo_embed_big.pickle', 'rb') as f:\n",
        "    elmo_embs = pickle.load(f)\n",
        "\n",
        "elmo_embs = np.array(elmo_embs)\n",
        "\n",
        "with open('/content/drive/My Drive/Embeddings/bert_embed_big.pickle', 'rb') as f:\n",
        "    bert_embs = pickle.load(f)\n",
        "\n",
        "bert_embs = np.array(bert_embs)\n",
        "\n",
        "with open('/content/drive/My Drive/Embeddings/fasttext_embed_big.pickle', 'rb') as f:\n",
        "    fasttext_embs = pickle.load(f)\n",
        "\n",
        "fasttext_embs = np.array(fasttext_embs)\n",
        "\n",
        "with open('/content/drive/My Drive/Embeddings/rusvec_embed_big.pickle', 'rb') as f:\n",
        "    rusvec_embs = pickle.load(f)\n",
        "\n",
        "rusvec_embs = np.array(rusvec_embs)"
      ],
      "execution_count": 0,
      "outputs": []
    },
    {
      "metadata": {
        "colab_type": "code",
        "id": "g3lq3VFAJNPS",
        "colab": {}
      },
      "cell_type": "code",
      "source": [
        "def get_batch(X_val, y_val, batch_sz=16):\n",
        "    \n",
        "    '''\n",
        "    Разбиение выборки на батчи заданного размера.\n",
        "    \n",
        "    X_val - векторное представление данных\n",
        "    y_val - разметка\n",
        "    batch_sz - размер одного батча\n",
        "    shuffle - перемешивание элементов по батчам\n",
        "    \n",
        "    return:\n",
        "    \n",
        "    X_batches, y_batches - разделенная по батчам выборка    \n",
        "    \n",
        "    '''\n",
        "    \n",
        "    X_batches, y_batches = [], []\n",
        "    \n",
        "    samples_num = len(X_val)\n",
        "    samples_inds = np.arange(samples_num)\n",
        "    np.random.shuffle(samples_inds)\n",
        "    \n",
        "    cur_x, cur_y = [], []\n",
        "    \n",
        "    for i, cur_ind in enumerate(samples_inds):\n",
        "        if i % batch_sz < batch_sz-1:\n",
        "            cur_x.append(X_val[cur_ind])\n",
        "            cur_y.append(y_val[cur_ind]-1)\n",
        "        else:\n",
        "            cur_x.append(X_val[cur_ind])\n",
        "            cur_y.append(y_val[cur_ind]-1)\n",
        "            X_batches.append(cur_x)\n",
        "            y_batches.append(cur_y)\n",
        "            cur_x, cur_y = [], []\n",
        "          \n",
        "    X_batches.append(cur_x)\n",
        "    y_batches.append(cur_y)\n",
        "    \n",
        "    return np.array(X_batches), np.array(y_batches)"
      ],
      "execution_count": 0,
      "outputs": []
    },
    {
      "metadata": {
        "id": "oasO8nVUR2yP",
        "colab_type": "code",
        "colab": {}
      },
      "cell_type": "code",
      "source": [
        "from sklearn.metrics import accuracy_score, precision_score, f1_score\n",
        "\n",
        "def get_score(preds, targets):\n",
        "        \n",
        "    accuracy = accuracy_score(targets, preds)\n",
        "    precision_macro = precision_score(targets, preds, average='macro')\n",
        "    precision_micro = precision_score(targets, preds, average='micro')\n",
        "    f1_macro = f1_score(targets, preds, average='macro')\n",
        "    f1_micro = f1_score(targets, preds, average='micro')\n",
        "    \n",
        "    return accuracy, precision_macro, precision_micro, f1_macro, f1_micro"
      ],
      "execution_count": 0,
      "outputs": []
    },
    {
      "metadata": {
        "colab_type": "code",
        "id": "_cCjkQmNJNPW",
        "colab": {}
      },
      "cell_type": "code",
      "source": [
        "import torch \n",
        "import torch.nn as nn\n",
        "import torchvision.datasets as dsets\n",
        "import torchvision.transforms as transforms\n",
        "from torch.autograd import Variable\n",
        "import torch.nn.functional as F\n",
        "from sklearn.metrics import accuracy_score\n",
        "from sklearn.metrics.pairwise import cosine_similarity as cos"
      ],
      "execution_count": 0,
      "outputs": []
    },
    {
      "metadata": {
        "id": "b6YPPJNEOoLn",
        "colab_type": "text"
      },
      "cell_type": "markdown",
      "source": [
        "Подаем в сеть ембеддинг вопроса и ембеддинги вариантов ответов. Сеть содержит отдельные слои для вопроса и отдельные слои для всех вариантов ответов."
      ]
    },
    {
      "metadata": {
        "colab_type": "code",
        "id": "fQeQvv7DJNPY",
        "colab": {}
      },
      "cell_type": "code",
      "source": [
        "class DSSMNet(nn.Module):\n",
        "    def __init__(self, bow_size):\n",
        "        super().__init__()\n",
        "        self.bow_size = bow_size\n",
        "        self.linear_0_1 = nn.Linear(bow_size, 300)\n",
        "        self.linear_0_2 = nn.Linear(300, 300)\n",
        "        self.linear_0_3 = nn.Linear(300, 128)\n",
        "        \n",
        "        self.linear_1_1 = nn.Linear(bow_size, 300)\n",
        "        self.linear_1_2 = nn.Linear(300, 300)\n",
        "        self.linear_1_3 = nn.Linear(300, 128)    \n",
        "        \n",
        "        self.linear_2_1 = nn.Linear(bow_size, 300)\n",
        "        self.linear_2_2 = nn.Linear(300, 300)\n",
        "        self.linear_2_3 = nn.Linear(300, 128)\n",
        "        \n",
        "        self.linear_3_1 = nn.Linear(bow_size, 300)\n",
        "        self.linear_3_2 = nn.Linear(300, 300)\n",
        "        self.linear_3_3 = nn.Linear(300, 128)\n",
        "        \n",
        "        self.linear_4_1 = nn.Linear(bow_size, 300)\n",
        "        self.linear_4_2 = nn.Linear(300, 300)\n",
        "        self.linear_4_3 = nn.Linear(300, 128)\n",
        "        \n",
        "    def forward(self, sample):\n",
        "        bow_size = self.bow_size\n",
        "        \n",
        "        question = sample[:,0,:]\n",
        "        answer1, answer2, answer3, answer4 = sample[:,1,:], sample[:,2,:], sample[:,3,:], sample[:,4,:]\n",
        "        \n",
        "        outputs = torch.Tensor().type(torch.cuda.FloatTensor)\n",
        "        cosines = torch.Tensor().type(torch.cuda.FloatTensor)\n",
        "        \n",
        "        question = torch.tanh(self.linear_0_1(question))\n",
        "        question = torch.tanh(self.linear_0_2(question))\n",
        "        question = torch.tanh(self.linear_0_3(question))\n",
        "        outputs = torch.cat((outputs, question.unsqueeze(0)), dim=0)\n",
        "        \n",
        "        answer1 = torch.tanh(self.linear_1_1(answer1))\n",
        "        answer1 = torch.tanh(self.linear_1_2(answer1))\n",
        "        answer1 = torch.tanh(self.linear_1_3(answer1))\n",
        "        outputs = torch.cat((outputs, answer1.unsqueeze(0)), dim=0)\n",
        "        \n",
        "        answer2 = torch.tanh(self.linear_2_1(answer2))\n",
        "        answer2 = torch.tanh(self.linear_2_2(answer2))\n",
        "        answer2 = torch.tanh(self.linear_2_3(answer2))\n",
        "        outputs = torch.cat((outputs, answer2.unsqueeze(0)), dim=0)\n",
        "        \n",
        "        answer3 = torch.tanh(self.linear_3_1(answer3))\n",
        "        answer3 = torch.tanh(self.linear_3_2(answer3))\n",
        "        answer3 = torch.tanh(self.linear_3_3(answer3))\n",
        "        outputs = torch.cat((outputs, answer3.unsqueeze(0)), dim=0)\n",
        "        \n",
        "        answer4 = torch.tanh(self.linear_4_1(answer4))\n",
        "        answer4 = torch.tanh(self.linear_4_2(answer4))\n",
        "        answer4 = torch.tanh(self.linear_4_3(answer4))\n",
        "        outputs = torch.cat((outputs, answer4.unsqueeze(0)), dim=0)\n",
        "        \n",
        "        \n",
        "        for i in range(1,len(outputs)):\n",
        "            cosines = torch.cat((cosines, F.cosine_similarity(outputs[0], outputs[i], dim=1).unsqueeze(0)))\n",
        "            \n",
        "        probs = F.softmax(cosines.view(-1,4))\n",
        "        \n",
        "        return probs     "
      ],
      "execution_count": 0,
      "outputs": []
    },
    {
      "metadata": {
        "colab_type": "code",
        "id": "vO3vWsvzJNPd",
        "colab": {}
      },
      "cell_type": "code",
      "source": [
        "def train(model, optimizer, X_train, y_train, batch_size):\n",
        "    train_loss, all_preds, all_tests = [], [], []\n",
        "    model.train()\n",
        "    X_batches, y_batches = get_batch(X_train, y_train, batch_size)\n",
        "    \n",
        "    for batch in zip(X_batches, y_batches):\n",
        "        X_batch, y_batch = batch\n",
        "        X_batch, y_batch = np.array(X_batch), np.array(y_batch)\n",
        "        X_batch = torch.from_numpy(X_batch).type(torch.cuda.FloatTensor)\n",
        "        y_batch = torch.from_numpy(y_batch).type(torch.cuda.LongTensor)\n",
        "        \n",
        "        optimizer.zero_grad()\n",
        "        y_pred = model(X_batch)\n",
        "        loss = loss_fn(y_pred, y_batch)\n",
        "        \n",
        "        train_loss.append(loss.item())\n",
        "        \n",
        "        max_ind = y_pred.max(1, keepdim=True)[1]\n",
        "        y_pred = max_ind.view(1,-1)[0]\n",
        "        all_preds.extend(y_pred.detach().cpu().numpy())\n",
        "        all_tests.extend(y_batch.cpu().numpy())\n",
        "        \n",
        "        loss.backward()\n",
        "        optimizer.step()\n",
        "        \n",
        "    score = get_score(np.array(all_preds), np.array(all_tests))\n",
        "        \n",
        "    return np.mean(train_loss), list(score)"
      ],
      "execution_count": 0,
      "outputs": []
    },
    {
      "metadata": {
        "colab_type": "code",
        "id": "3nSxKXQNJNPe",
        "scrolled": true,
        "colab": {}
      },
      "cell_type": "code",
      "source": [
        "def validate(model, optimizer, X_test, y_test, batch_size):\n",
        "    val_loss, all_preds, all_tests = [], [], []\n",
        "    model.eval()\n",
        "    X_batches, y_batches = get_batch(X_test, y_test, batch_size)\n",
        "    \n",
        "    for batch in zip(X_batches, y_batches):\n",
        "        X_batch, y_batch = batch\n",
        "        X_batch, y_batch = np.array(X_batch), np.array(y_batch)\n",
        "        X_batch = torch.from_numpy(X_batch).type(torch.cuda.FloatTensor)\n",
        "        y_batch = torch.from_numpy(y_batch).type(torch.cuda.LongTensor)\n",
        "        \n",
        "        y_pred = model(X_batch)\n",
        "        loss = loss_fn(y_pred, y_batch)\n",
        "        \n",
        "        val_loss.append(loss.item())\n",
        "        \n",
        "        max_ind = y_pred.max(1, keepdim=True)[1]\n",
        "        y_pred = max_ind.view(1,-1)[0]\n",
        "        all_preds.extend(y_pred.detach().cpu().numpy())\n",
        "        all_tests.extend(y_batch.cpu().numpy())\n",
        "        \n",
        "    score = get_score(np.array(all_preds), np.array(all_tests))\n",
        "        \n",
        "    return np.mean(val_loss), list(score)"
      ],
      "execution_count": 0,
      "outputs": []
    },
    {
      "metadata": {
        "colab_type": "code",
        "id": "X8qYU5mfJNPg",
        "colab": {}
      },
      "cell_type": "code",
      "source": [
        "from IPython.display import clear_output\n",
        "def launch_net(model, optimizer, X_train, y_train, X_test, y_test,\n",
        "               train_batch=64, test_batch=16, epochs=25, graph=False):\n",
        "    all_train_loss, all_val_loss = [], []\n",
        "    all_train_acc, all_val_acc = [], []\n",
        "    all_scores = []\n",
        "    max_acc = 0\n",
        "\n",
        "    for epoch in pb(range(epochs)):\n",
        "        cur_train = train(model, optimizer, X_train, y_train, train_batch)\n",
        "        cur_val = validate(model, optimizer, X_test, y_test, test_batch)\n",
        "        all_train_loss.append(cur_train[0])\n",
        "        all_train_acc.append(cur_train[1][0])\n",
        "        all_val_loss.append(cur_val[0])\n",
        "        all_val_acc.append(cur_val[1][0])\n",
        "        all_scores.append(cur_val[1])\n",
        "        max_acc = cur_val[1][0] if cur_val[1][0] > max_acc else max_acc\n",
        "        clear_output()\n",
        "        print('Epoch {}:'.format(epoch+1))\n",
        "        print(\"Train loss: {}\".format(cur_train[0]))\n",
        "        print(\"Validation loss: {}\".format(cur_val[0]))\n",
        "        print(\"Train accuracy: {}\".format(cur_train[1][0]))\n",
        "        print(\"Validation accuracy: {}\".format(cur_val[1][0]))\n",
        "        print(\"Max validation accuracy: {}\".format(max_acc))\n",
        "        \n",
        "        if graph:\n",
        "          f, axarr = plt.subplots(1,2, figsize=(20,10))\n",
        "\n",
        "          axarr[0].plot(all_train_loss, label='Train loss')\n",
        "          axarr[0].plot(all_val_loss, label='Val loss')\n",
        "          axarr[0].grid()\n",
        "          axarr[0].legend(fontsize=15)\n",
        "          axarr[0].set_title('Loss after epoch #{}'.format(epoch+1), size=15)\n",
        "\n",
        "          axarr[1].plot(all_train_acc, label='Train accuracy')\n",
        "          axarr[1].plot(all_val_acc, label='Val accuracy')\n",
        "          axarr[1].grid()\n",
        "          axarr[1].legend(fontsize=15)\n",
        "          axarr[1].set_title('Accuracy after epoch #{}'.format(epoch+1), size=15)\n",
        "          plt.show()\n",
        "        \n",
        "    all_scores = np.max(np.array(all_scores), axis=0)\n",
        "    return all_scores"
      ],
      "execution_count": 0,
      "outputs": []
    },
    {
      "metadata": {
        "id": "iz81fBsznmSI",
        "colab_type": "code",
        "colab": {}
      },
      "cell_type": "code",
      "source": [
        "results_dict = {'RusVectores': [], 'FastText': [], 'ELMO': [], 'BERT': []}"
      ],
      "execution_count": 0,
      "outputs": []
    },
    {
      "metadata": {
        "id": "688L-YjVp-YU",
        "colab_type": "text"
      },
      "cell_type": "markdown",
      "source": [
        "## FastText"
      ]
    },
    {
      "metadata": {
        "colab_type": "code",
        "id": "tW8NTCgqJNPk",
        "colab": {}
      },
      "cell_type": "code",
      "source": [
        "embeddings = fasttext_embs\n",
        "target = np.array(df['5'])\n",
        "\n",
        "X_train, X_test, y_train, y_test = TTS(embeddings, target, test_size=0.25, random_state=4)"
      ],
      "execution_count": 0,
      "outputs": []
    },
    {
      "metadata": {
        "colab_type": "code",
        "id": "sfrpP0hxJNPb",
        "colab": {}
      },
      "cell_type": "code",
      "source": [
        "model = DSSMNet(embeddings.shape[2]).cuda()\n",
        "optimizer = torch.optim.Adam(model.parameters(), lr=0.001)\n",
        "loss_fn = nn.CrossEntropyLoss()\n",
        "epochs = 30"
      ],
      "execution_count": 0,
      "outputs": []
    },
    {
      "metadata": {
        "id": "hObAfENkp5d6",
        "colab_type": "code",
        "outputId": "398be7ef-b8a4-4cde-cfaf-24e4a3b6ac95",
        "colab": {
          "base_uri": "https://localhost:8080/",
          "height": 136
        }
      },
      "cell_type": "code",
      "source": [
        "results = launch_net(model, optimizer, X_train, y_train, X_test, y_test, 64, 16, epochs)\n",
        "results_dict['FastText'] = results"
      ],
      "execution_count": 25,
      "outputs": [
        {
          "output_type": "stream",
          "text": [
            "\r                                                                               \r\r100% (30 of 30) |########################| Elapsed Time: 0:00:52 Time:  0:00:52\n"
          ],
          "name": "stderr"
        },
        {
          "output_type": "stream",
          "text": [
            "Epoch 30:\n",
            "Train loss: 1.386393184785719\n",
            "Validation loss: 1.3864986274300553\n",
            "Train accuracy: 0.24510403916768667\n",
            "Validation accuracy: 0.24686448455185073\n",
            "Max validation accuracy: 0.27011318446007954\n"
          ],
          "name": "stdout"
        }
      ]
    },
    {
      "metadata": {
        "id": "POyMaovprAMB",
        "colab_type": "text"
      },
      "cell_type": "markdown",
      "source": [
        "## ELMO"
      ]
    },
    {
      "metadata": {
        "id": "YDghzSR0qPRw",
        "colab_type": "code",
        "colab": {}
      },
      "cell_type": "code",
      "source": [
        "embeddings = elmo_embs\n",
        "target = np.array(df['5'])\n",
        "\n",
        "X_train, X_test, y_train, y_test = TTS(embeddings, target, test_size=0.25, random_state=4)"
      ],
      "execution_count": 0,
      "outputs": []
    },
    {
      "metadata": {
        "id": "EgHTn7urrJDB",
        "colab_type": "code",
        "colab": {}
      },
      "cell_type": "code",
      "source": [
        "model = DSSMNet(embeddings.shape[2]).cuda()\n",
        "optimizer = torch.optim.Adam(model.parameters(), lr=0.001)\n",
        "loss_fn = nn.CrossEntropyLoss()\n",
        "epochs = 25"
      ],
      "execution_count": 0,
      "outputs": []
    },
    {
      "metadata": {
        "id": "5AXY-1_orNyR",
        "colab_type": "code",
        "outputId": "fc16f1ae-665c-490c-cbd3-0b0da7ed8d69",
        "colab": {
          "base_uri": "https://localhost:8080/",
          "height": 136
        }
      },
      "cell_type": "code",
      "source": [
        "results = launch_net(model, optimizer, X_train, y_train, X_test, y_test, 64, 16, epochs)\n",
        "results_dict['ELMO'] = results"
      ],
      "execution_count": 28,
      "outputs": [
        {
          "output_type": "stream",
          "text": [
            "\r                                                                               \r\r100% (25 of 25) |########################| Elapsed Time: 0:00:51 Time:  0:00:51\n"
          ],
          "name": "stderr"
        },
        {
          "output_type": "stream",
          "text": [
            "Epoch 25:\n",
            "Train loss: 1.3862954014307494\n",
            "Validation loss: 1.3863021333043168\n",
            "Train accuracy: 0.24204406364749081\n",
            "Validation accuracy: 0.24931171612113795\n",
            "Max validation accuracy: 0.2627714897522178\n"
          ],
          "name": "stdout"
        }
      ]
    },
    {
      "metadata": {
        "id": "bXzim_HurfsC",
        "colab_type": "text"
      },
      "cell_type": "markdown",
      "source": [
        "## BERT"
      ]
    },
    {
      "metadata": {
        "id": "mDQMFyhzrQPx",
        "colab_type": "code",
        "colab": {}
      },
      "cell_type": "code",
      "source": [
        "embeddings = bert_embs\n",
        "target = np.array(df['5'])\n",
        "\n",
        "X_train, X_test, y_train, y_test = TTS(embeddings, target, test_size=0.25, random_state=4)"
      ],
      "execution_count": 0,
      "outputs": []
    },
    {
      "metadata": {
        "id": "Ifo-NIZ0rkFf",
        "colab_type": "code",
        "colab": {}
      },
      "cell_type": "code",
      "source": [
        "model = DSSMNet(embeddings.shape[2]).cuda()\n",
        "optimizer = torch.optim.Adam(model.parameters(), lr=0.001)\n",
        "loss_fn = nn.CrossEntropyLoss()\n",
        "epochs = 25"
      ],
      "execution_count": 0,
      "outputs": []
    },
    {
      "metadata": {
        "id": "CjJFgw5PrmJX",
        "colab_type": "code",
        "outputId": "25798ffe-8653-4e06-a26f-46e155bdf67b",
        "colab": {
          "base_uri": "https://localhost:8080/",
          "height": 136
        }
      },
      "cell_type": "code",
      "source": [
        "results = launch_net(model, optimizer, X_train, y_train, X_test, y_test, 64, 16, epochs)\n",
        "results_dict['BERT'] = results"
      ],
      "execution_count": 31,
      "outputs": [
        {
          "output_type": "stream",
          "text": [
            "\r                                                                               \r\r100% (25 of 25) |########################| Elapsed Time: 0:00:47 Time:  0:00:47\n"
          ],
          "name": "stderr"
        },
        {
          "output_type": "stream",
          "text": [
            "Epoch 25:\n",
            "Train loss: 1.3862950221284644\n",
            "Validation loss: 1.3863451230816726\n",
            "Train accuracy: 0.24581803345573236\n",
            "Validation accuracy: 0.25910064239828695\n",
            "Max validation accuracy: 0.2615478739675742\n"
          ],
          "name": "stdout"
        }
      ]
    },
    {
      "metadata": {
        "id": "M18tbdVErzs2",
        "colab_type": "text"
      },
      "cell_type": "markdown",
      "source": [
        "## RusVectores"
      ]
    },
    {
      "metadata": {
        "id": "bQY64_yOrsRD",
        "colab_type": "code",
        "colab": {}
      },
      "cell_type": "code",
      "source": [
        "embeddings = rusvec_embs\n",
        "target = np.array(df['5'])\n",
        "\n",
        "X_train, X_test, y_train, y_test = TTS(embeddings, target, test_size=0.25, random_state=4)"
      ],
      "execution_count": 0,
      "outputs": []
    },
    {
      "metadata": {
        "id": "6e7E8nbwr3g-",
        "colab_type": "code",
        "colab": {}
      },
      "cell_type": "code",
      "source": [
        "model = DSSMNet(embeddings.shape[2]).cuda()\n",
        "optimizer = torch.optim.Adam(model.parameters(), lr=0.001)\n",
        "loss_fn = nn.CrossEntropyLoss()\n",
        "epochs = 25"
      ],
      "execution_count": 0,
      "outputs": []
    },
    {
      "metadata": {
        "id": "jgPwUAhAr94N",
        "colab_type": "code",
        "outputId": "8e3ef059-453d-4435-bbbf-d7147cc09d8c",
        "colab": {
          "base_uri": "https://localhost:8080/",
          "height": 136
        }
      },
      "cell_type": "code",
      "source": [
        "results = launch_net(model, optimizer, X_train, y_train, X_test, y_test, 64, 16, epochs)\n",
        "results_dict['RusVectores'] = results"
      ],
      "execution_count": 34,
      "outputs": [
        {
          "output_type": "stream",
          "text": [
            "\r                                                                               \r\r100% (25 of 25) |########################| Elapsed Time: 0:00:43 Time:  0:00:43\n"
          ],
          "name": "stderr"
        },
        {
          "output_type": "stream",
          "text": [
            "Epoch 25:\n",
            "Train loss: 1.3862735915493656\n",
            "Validation loss: 1.3863289542314483\n",
            "Train accuracy: 0.253467972256222\n",
            "Validation accuracy: 0.2410523095747935\n",
            "Max validation accuracy: 0.2667482410523096\n"
          ],
          "name": "stdout"
        }
      ]
    },
    {
      "metadata": {
        "id": "cyCZJqwir_BG",
        "colab_type": "code",
        "outputId": "f7a0134d-f946-474c-e5b8-b3f23de04d8d",
        "colab": {
          "base_uri": "https://localhost:8080/",
          "height": 204
        }
      },
      "cell_type": "code",
      "source": [
        "results = pd.DataFrame(data=results_dict, columns=list(results_dict.keys()), \\\n",
        "                       index=['Accuracy', 'Precision Macro', 'Precision Micro', 'F1 Macro', 'F1 Micro'])\n",
        "results"
      ],
      "execution_count": 35,
      "outputs": [
        {
          "output_type": "execute_result",
          "data": {
            "text/html": [
              "<div>\n",
              "<style scoped>\n",
              "    .dataframe tbody tr th:only-of-type {\n",
              "        vertical-align: middle;\n",
              "    }\n",
              "\n",
              "    .dataframe tbody tr th {\n",
              "        vertical-align: top;\n",
              "    }\n",
              "\n",
              "    .dataframe thead th {\n",
              "        text-align: right;\n",
              "    }\n",
              "</style>\n",
              "<table border=\"1\" class=\"dataframe\">\n",
              "  <thead>\n",
              "    <tr style=\"text-align: right;\">\n",
              "      <th></th>\n",
              "      <th>RusVectores</th>\n",
              "      <th>FastText</th>\n",
              "      <th>ELMO</th>\n",
              "      <th>BERT</th>\n",
              "    </tr>\n",
              "  </thead>\n",
              "  <tbody>\n",
              "    <tr>\n",
              "      <th>Accuracy</th>\n",
              "      <td>0.266748</td>\n",
              "      <td>0.270113</td>\n",
              "      <td>0.262771</td>\n",
              "      <td>0.261548</td>\n",
              "    </tr>\n",
              "    <tr>\n",
              "      <th>Precision Macro</th>\n",
              "      <td>0.267006</td>\n",
              "      <td>0.270243</td>\n",
              "      <td>0.263015</td>\n",
              "      <td>0.260641</td>\n",
              "    </tr>\n",
              "    <tr>\n",
              "      <th>Precision Micro</th>\n",
              "      <td>0.266748</td>\n",
              "      <td>0.270113</td>\n",
              "      <td>0.262771</td>\n",
              "      <td>0.261548</td>\n",
              "    </tr>\n",
              "    <tr>\n",
              "      <th>F1 Macro</th>\n",
              "      <td>0.266540</td>\n",
              "      <td>0.270199</td>\n",
              "      <td>0.262578</td>\n",
              "      <td>0.260611</td>\n",
              "    </tr>\n",
              "    <tr>\n",
              "      <th>F1 Micro</th>\n",
              "      <td>0.266748</td>\n",
              "      <td>0.270113</td>\n",
              "      <td>0.262771</td>\n",
              "      <td>0.261548</td>\n",
              "    </tr>\n",
              "  </tbody>\n",
              "</table>\n",
              "</div>"
            ],
            "text/plain": [
              "                 RusVectores  FastText      ELMO      BERT\n",
              "Accuracy            0.266748  0.270113  0.262771  0.261548\n",
              "Precision Macro     0.267006  0.270243  0.263015  0.260641\n",
              "Precision Micro     0.266748  0.270113  0.262771  0.261548\n",
              "F1 Macro            0.266540  0.270199  0.262578  0.260611\n",
              "F1 Micro            0.266748  0.270113  0.262771  0.261548"
            ]
          },
          "metadata": {
            "tags": []
          },
          "execution_count": 35
        }
      ]
    },
    {
      "metadata": {
        "id": "BzLyX0epZH_-",
        "colab_type": "text"
      },
      "cell_type": "markdown",
      "source": [
        "# История"
      ]
    },
    {
      "metadata": {
        "id": "ZIsPGtsdsBZv",
        "colab_type": "code",
        "colab": {
          "base_uri": "https://localhost:8080/",
          "height": 34
        },
        "outputId": "3f762f7e-0eae-438d-8228-3de23287c1be"
      },
      "cell_type": "code",
      "source": [
        "hist_inds = []\n",
        "\n",
        "for i in range(len(data)):\n",
        "  if data.iloc[i,6] == 'История':\n",
        "    hist_inds.append(i)\n",
        "len(hist_inds)"
      ],
      "execution_count": 15,
      "outputs": [
        {
          "output_type": "execute_result",
          "data": {
            "text/plain": [
              "2498"
            ]
          },
          "metadata": {
            "tags": []
          },
          "execution_count": 15
        }
      ]
    },
    {
      "metadata": {
        "id": "67yj-e3jZO9O",
        "colab_type": "code",
        "colab": {}
      },
      "cell_type": "code",
      "source": [
        "elmo_embs_hist = elmo_embs[hist_inds]\n",
        "bert_embs_hist = bert_embs[hist_inds]\n",
        "fasttext_embs_hist = fasttext_embs[hist_inds]\n",
        "rusvec_embs_hist = rusvec_embs[hist_inds]"
      ],
      "execution_count": 0,
      "outputs": []
    },
    {
      "metadata": {
        "id": "zlpC-__LZXNH",
        "colab_type": "code",
        "colab": {}
      },
      "cell_type": "code",
      "source": [
        "results_dict = {'RusVectores': [], 'FastText': [], 'ELMO': [], 'BERT': []}\n",
        "data2 = data[data['label'] == 'История']\n",
        "epochs = 20"
      ],
      "execution_count": 0,
      "outputs": []
    },
    {
      "metadata": {
        "id": "h9Dk4E9AZZ1e",
        "colab_type": "text"
      },
      "cell_type": "markdown",
      "source": [
        "## FastText"
      ]
    },
    {
      "metadata": {
        "id": "Nhb0gZnrZZFX",
        "colab_type": "code",
        "colab": {}
      },
      "cell_type": "code",
      "source": [
        "embeddings = fasttext_embs_hist\n",
        "target = np.array(data2['5'])\n",
        "\n",
        "X_train, X_test, y_train, y_test = TTS(embeddings, target, test_size=0.25, random_state=4)"
      ],
      "execution_count": 0,
      "outputs": []
    },
    {
      "metadata": {
        "id": "4DF3wjmBZerX",
        "colab_type": "code",
        "colab": {}
      },
      "cell_type": "code",
      "source": [
        "model = DSSMNet(embeddings.shape[2])\n",
        "model.cuda()\n",
        "optimizer = torch.optim.Adam(model.parameters())\n",
        "loss_fn = nn.CrossEntropyLoss()\n",
        "epochs = 30"
      ],
      "execution_count": 0,
      "outputs": []
    },
    {
      "metadata": {
        "id": "nKgvD7r6ahPg",
        "colab_type": "code",
        "colab": {
          "base_uri": "https://localhost:8080/",
          "height": 136
        },
        "outputId": "45121d8b-f8da-456e-adeb-819eb197fc25"
      },
      "cell_type": "code",
      "source": [
        "results = launch_net(model, optimizer, X_train, y_train, X_test, y_test, 64, 16, epochs)\n",
        "results_dict['FastText'] = results"
      ],
      "execution_count": 22,
      "outputs": [
        {
          "output_type": "stream",
          "text": [
            "\r                                                                               \r\r100% (30 of 30) |########################| Elapsed Time: 0:00:10 Time:  0:00:10\n"
          ],
          "name": "stderr"
        },
        {
          "output_type": "stream",
          "text": [
            "Epoch 30:\n",
            "Train loss: 1.3858301719029744\n",
            "Validation loss: 1.389969825744629\n",
            "Train accuracy: 0.25253603844100375\n",
            "Validation accuracy: 0.2304\n",
            "Max validation accuracy: 0.2928\n"
          ],
          "name": "stdout"
        }
      ]
    },
    {
      "metadata": {
        "id": "BXGK_NPFau1u",
        "colab_type": "text"
      },
      "cell_type": "markdown",
      "source": [
        "## ELMO"
      ]
    },
    {
      "metadata": {
        "id": "Kc1HW6hJarhC",
        "colab_type": "code",
        "colab": {}
      },
      "cell_type": "code",
      "source": [
        "embeddings = elmo_embs_hist\n",
        "target = np.array(data2['5'])\n",
        "\n",
        "X_train, X_test, y_train, y_test = TTS(embeddings, target, test_size=0.25, random_state=4)"
      ],
      "execution_count": 0,
      "outputs": []
    },
    {
      "metadata": {
        "id": "w3LH3ZT7az5r",
        "colab_type": "code",
        "colab": {}
      },
      "cell_type": "code",
      "source": [
        "model = DSSMNet(embeddings.shape[2])\n",
        "model.cuda()\n",
        "optimizer = torch.optim.Adam(model.parameters())\n",
        "loss_fn = nn.CrossEntropyLoss()\n",
        "epochs = 30"
      ],
      "execution_count": 0,
      "outputs": []
    },
    {
      "metadata": {
        "id": "wShh5pCMa2fJ",
        "colab_type": "code",
        "colab": {
          "base_uri": "https://localhost:8080/",
          "height": 136
        },
        "outputId": "9f45c20f-2c9d-4be8-ca1a-b76a98cd8f5e"
      },
      "cell_type": "code",
      "source": [
        "results = launch_net(model, optimizer, X_train, y_train, X_test, y_test, 64, 16, epochs)\n",
        "results_dict['ELMO'] = results"
      ],
      "execution_count": 25,
      "outputs": [
        {
          "output_type": "stream",
          "text": [
            "\r                                                                               \r\r100% (30 of 30) |########################| Elapsed Time: 0:00:12 Time:  0:00:12\n"
          ],
          "name": "stderr"
        },
        {
          "output_type": "stream",
          "text": [
            "Epoch 30:\n",
            "Train loss: 1.3859500447909037\n",
            "Validation loss: 1.3872271567583083\n",
            "Train accuracy: 0.24719701014415377\n",
            "Validation accuracy: 0.2192\n",
            "Max validation accuracy: 0.2768\n"
          ],
          "name": "stdout"
        }
      ]
    },
    {
      "metadata": {
        "id": "NfHlHS3FbBu_",
        "colab_type": "text"
      },
      "cell_type": "markdown",
      "source": [
        "## BERT"
      ]
    },
    {
      "metadata": {
        "id": "vSosYIyVa9Dh",
        "colab_type": "code",
        "colab": {}
      },
      "cell_type": "code",
      "source": [
        "embeddings = bert_embs_hist\n",
        "target = np.array(data2['5'])\n",
        "\n",
        "X_train, X_test, y_train, y_test = TTS(embeddings, target, test_size=0.25, random_state=4)"
      ],
      "execution_count": 0,
      "outputs": []
    },
    {
      "metadata": {
        "id": "YmKI1U4zbNNz",
        "colab_type": "code",
        "colab": {}
      },
      "cell_type": "code",
      "source": [
        "model = DSSMNet(embeddings.shape[2])\n",
        "model.cuda()\n",
        "optimizer = torch.optim.Adam(model.parameters())\n",
        "loss_fn = nn.CrossEntropyLoss()\n",
        "epochs = 30"
      ],
      "execution_count": 0,
      "outputs": []
    },
    {
      "metadata": {
        "id": "6NjY_VgAbOYJ",
        "colab_type": "code",
        "colab": {
          "base_uri": "https://localhost:8080/",
          "height": 136
        },
        "outputId": "2efdda56-c5e1-41f3-dc16-a40da915e1f8"
      },
      "cell_type": "code",
      "source": [
        "results = launch_net(model, optimizer, X_train, y_train, X_test, y_test, 64, 16, epochs)\n",
        "results_dict['BERT'] = results"
      ],
      "execution_count": 28,
      "outputs": [
        {
          "output_type": "stream",
          "text": [
            "\r                                                                               \r\r100% (30 of 30) |########################| Elapsed Time: 0:00:11 Time:  0:00:11\n"
          ],
          "name": "stderr"
        },
        {
          "output_type": "stream",
          "text": [
            "Epoch 30:\n",
            "Train loss: 1.386215047041575\n",
            "Validation loss: 1.3847931772470474\n",
            "Train accuracy: 0.24826481580352375\n",
            "Validation accuracy: 0.2592\n",
            "Max validation accuracy: 0.28\n"
          ],
          "name": "stdout"
        }
      ]
    },
    {
      "metadata": {
        "id": "EO9lOme0bRd3",
        "colab_type": "text"
      },
      "cell_type": "markdown",
      "source": [
        "## RusVectores"
      ]
    },
    {
      "metadata": {
        "id": "-vC5H0uFbQnz",
        "colab_type": "code",
        "colab": {}
      },
      "cell_type": "code",
      "source": [
        "embeddings = rusvec_embs_hist\n",
        "target = np.array(data2['5'])\n",
        "\n",
        "X_train, X_test, y_train, y_test = TTS(embeddings, target, test_size=0.25, random_state=4)"
      ],
      "execution_count": 0,
      "outputs": []
    },
    {
      "metadata": {
        "id": "zXvn8tiabVoz",
        "colab_type": "code",
        "colab": {}
      },
      "cell_type": "code",
      "source": [
        "model = DSSMNet(embeddings.shape[2])\n",
        "model.cuda()\n",
        "optimizer = torch.optim.Adam(model.parameters())\n",
        "loss_fn = nn.CrossEntropyLoss()\n",
        "epochs = 30"
      ],
      "execution_count": 0,
      "outputs": []
    },
    {
      "metadata": {
        "id": "IVHbmEXUbYEb",
        "colab_type": "code",
        "colab": {
          "base_uri": "https://localhost:8080/",
          "height": 136
        },
        "outputId": "fc6285ef-2008-48c9-f734-f3736b02d330"
      },
      "cell_type": "code",
      "source": [
        "results = launch_net(model, optimizer, X_train, y_train, X_test, y_test, 64, 16, epochs)\n",
        "results_dict['RusVectores'] = results"
      ],
      "execution_count": 31,
      "outputs": [
        {
          "output_type": "stream",
          "text": [
            "\r                                                                               \r\r100% (30 of 30) |########################| Elapsed Time: 0:00:10 Time:  0:00:10\n"
          ],
          "name": "stderr"
        },
        {
          "output_type": "stream",
          "text": [
            "Epoch 30:\n",
            "Train loss: 1.3861871242523194\n",
            "Validation loss: 1.387191393971443\n",
            "Train accuracy: 0.2594767752269087\n",
            "Validation accuracy: 0.2448\n",
            "Max validation accuracy: 0.2944\n"
          ],
          "name": "stdout"
        }
      ]
    },
    {
      "metadata": {
        "id": "MCecjLZtbZ4K",
        "colab_type": "code",
        "colab": {
          "base_uri": "https://localhost:8080/",
          "height": 204
        },
        "outputId": "014e6dca-0965-48f8-a8d9-e17e867e25c4"
      },
      "cell_type": "code",
      "source": [
        "results = pd.DataFrame(data=results_dict, columns=list(results_dict.keys()), \\\n",
        "                       index=['Accuracy', 'Precision Macro', 'Precision Micro', 'F1 Macro', 'F1 Micro'])\n",
        "results"
      ],
      "execution_count": 32,
      "outputs": [
        {
          "output_type": "execute_result",
          "data": {
            "text/html": [
              "<div>\n",
              "<style scoped>\n",
              "    .dataframe tbody tr th:only-of-type {\n",
              "        vertical-align: middle;\n",
              "    }\n",
              "\n",
              "    .dataframe tbody tr th {\n",
              "        vertical-align: top;\n",
              "    }\n",
              "\n",
              "    .dataframe thead th {\n",
              "        text-align: right;\n",
              "    }\n",
              "</style>\n",
              "<table border=\"1\" class=\"dataframe\">\n",
              "  <thead>\n",
              "    <tr style=\"text-align: right;\">\n",
              "      <th></th>\n",
              "      <th>RusVectores</th>\n",
              "      <th>FastText</th>\n",
              "      <th>ELMO</th>\n",
              "      <th>BERT</th>\n",
              "    </tr>\n",
              "  </thead>\n",
              "  <tbody>\n",
              "    <tr>\n",
              "      <th>Accuracy</th>\n",
              "      <td>0.294400</td>\n",
              "      <td>0.292800</td>\n",
              "      <td>0.276800</td>\n",
              "      <td>0.280000</td>\n",
              "    </tr>\n",
              "    <tr>\n",
              "      <th>Precision Macro</th>\n",
              "      <td>0.293435</td>\n",
              "      <td>0.295615</td>\n",
              "      <td>0.275867</td>\n",
              "      <td>0.280598</td>\n",
              "    </tr>\n",
              "    <tr>\n",
              "      <th>Precision Micro</th>\n",
              "      <td>0.294400</td>\n",
              "      <td>0.292800</td>\n",
              "      <td>0.276800</td>\n",
              "      <td>0.280000</td>\n",
              "    </tr>\n",
              "    <tr>\n",
              "      <th>F1 Macro</th>\n",
              "      <td>0.294034</td>\n",
              "      <td>0.292644</td>\n",
              "      <td>0.275175</td>\n",
              "      <td>0.279996</td>\n",
              "    </tr>\n",
              "    <tr>\n",
              "      <th>F1 Micro</th>\n",
              "      <td>0.294400</td>\n",
              "      <td>0.292800</td>\n",
              "      <td>0.276800</td>\n",
              "      <td>0.280000</td>\n",
              "    </tr>\n",
              "  </tbody>\n",
              "</table>\n",
              "</div>"
            ],
            "text/plain": [
              "                 RusVectores  FastText      ELMO      BERT\n",
              "Accuracy            0.294400  0.292800  0.276800  0.280000\n",
              "Precision Macro     0.293435  0.295615  0.275867  0.280598\n",
              "Precision Micro     0.294400  0.292800  0.276800  0.280000\n",
              "F1 Macro            0.294034  0.292644  0.275175  0.279996\n",
              "F1 Micro            0.294400  0.292800  0.276800  0.280000"
            ]
          },
          "metadata": {
            "tags": []
          },
          "execution_count": 32
        }
      ]
    },
    {
      "metadata": {
        "id": "awkHdbrHbkEn",
        "colab_type": "text"
      },
      "cell_type": "markdown",
      "source": [
        "# Медицина"
      ]
    },
    {
      "metadata": {
        "id": "JA8-X2w7bdA5",
        "colab_type": "code",
        "colab": {
          "base_uri": "https://localhost:8080/",
          "height": 34
        },
        "outputId": "12ad6e79-b2dc-47d2-a8a5-0faa65ba1796"
      },
      "cell_type": "code",
      "source": [
        "med_inds = []\n",
        "\n",
        "for i in range(len(data)):\n",
        "  if data.iloc[i,6] == 'Медицина':\n",
        "    med_inds.append(i)\n",
        "len(med_inds)"
      ],
      "execution_count": 34,
      "outputs": [
        {
          "output_type": "execute_result",
          "data": {
            "text/plain": [
              "4013"
            ]
          },
          "metadata": {
            "tags": []
          },
          "execution_count": 34
        }
      ]
    },
    {
      "metadata": {
        "id": "5dOHcuB4b2MM",
        "colab_type": "code",
        "colab": {}
      },
      "cell_type": "code",
      "source": [
        "elmo_embs_med = elmo_embs[med_inds]\n",
        "bert_embs_med = bert_embs[med_inds]\n",
        "fasttext_embs_med = fasttext_embs[med_inds]\n",
        "rusvec_embs_med = rusvec_embs[med_inds]"
      ],
      "execution_count": 0,
      "outputs": []
    },
    {
      "metadata": {
        "id": "QlPHpNXCcepf",
        "colab_type": "code",
        "colab": {}
      },
      "cell_type": "code",
      "source": [
        "results_dict = {'RusVectores': [], 'FastText': [], 'ELMO': [], 'BERT': []}\n",
        "data2 = data[data['label'] == 'Медицина']\n",
        "epochs = 20"
      ],
      "execution_count": 0,
      "outputs": []
    },
    {
      "metadata": {
        "id": "VGQA8uw1cjae",
        "colab_type": "text"
      },
      "cell_type": "markdown",
      "source": [
        "## FastText"
      ]
    },
    {
      "metadata": {
        "id": "j5OgXstQci0N",
        "colab_type": "code",
        "colab": {}
      },
      "cell_type": "code",
      "source": [
        "embeddings = fasttext_embs_med\n",
        "target = np.array(data2['5'])\n",
        "\n",
        "X_train, X_test, y_train, y_test = TTS(embeddings, target, test_size=0.25, random_state=4)"
      ],
      "execution_count": 0,
      "outputs": []
    },
    {
      "metadata": {
        "id": "PUOfr-rOcsax",
        "colab_type": "code",
        "colab": {}
      },
      "cell_type": "code",
      "source": [
        "model = DSSMNet(embeddings.shape[2])\n",
        "model.cuda()\n",
        "optimizer = torch.optim.Adam(model.parameters())\n",
        "loss_fn = nn.CrossEntropyLoss()\n",
        "epochs = 30"
      ],
      "execution_count": 0,
      "outputs": []
    },
    {
      "metadata": {
        "id": "rWbcFxfocuyS",
        "colab_type": "code",
        "colab": {
          "base_uri": "https://localhost:8080/",
          "height": 136
        },
        "outputId": "47cf8aee-e1fc-48e0-9bf3-c4b5edb4533d"
      },
      "cell_type": "code",
      "source": [
        "results = launch_net(model, optimizer, X_train, y_train, X_test, y_test, 64, 16, epochs)\n",
        "results_dict['FastText'] = results"
      ],
      "execution_count": 39,
      "outputs": [
        {
          "output_type": "stream",
          "text": [
            "\r                                                                               \r\r100% (30 of 30) |########################| Elapsed Time: 0:00:17 Time:  0:00:17\n"
          ],
          "name": "stderr"
        },
        {
          "output_type": "stream",
          "text": [
            "Epoch 30:\n",
            "Train loss: 1.38615878423055\n",
            "Validation loss: 1.3864139337388297\n",
            "Train accuracy: 0.25390495181123296\n",
            "Validation accuracy: 0.22609561752988047\n",
            "Max validation accuracy: 0.28286852589641437\n"
          ],
          "name": "stdout"
        }
      ]
    },
    {
      "metadata": {
        "id": "AxECSGB2cyfL",
        "colab_type": "text"
      },
      "cell_type": "markdown",
      "source": [
        "## ELMO"
      ]
    },
    {
      "metadata": {
        "id": "qTFB4hhbcxtJ",
        "colab_type": "code",
        "colab": {}
      },
      "cell_type": "code",
      "source": [
        "embeddings = elmo_embs_med\n",
        "target = np.array(data2['5'])\n",
        "\n",
        "X_train, X_test, y_train, y_test = TTS(embeddings, target, test_size=0.25, random_state=4)"
      ],
      "execution_count": 0,
      "outputs": []
    },
    {
      "metadata": {
        "id": "5A4WpXCOdCwi",
        "colab_type": "code",
        "colab": {}
      },
      "cell_type": "code",
      "source": [
        "model = DSSMNet(embeddings.shape[2])\n",
        "model.cuda()\n",
        "optimizer = torch.optim.Adam(model.parameters())\n",
        "loss_fn = nn.CrossEntropyLoss()\n",
        "epochs = 30"
      ],
      "execution_count": 0,
      "outputs": []
    },
    {
      "metadata": {
        "id": "NiA8VJOmdFex",
        "colab_type": "code",
        "colab": {
          "base_uri": "https://localhost:8080/",
          "height": 136
        },
        "outputId": "33e22fbd-e0f0-4aeb-eaba-3ac0cea2e502"
      },
      "cell_type": "code",
      "source": [
        "results = launch_net(model, optimizer, X_train, y_train, X_test, y_test, 64, 16, epochs)\n",
        "results_dict['ELMO'] = results"
      ],
      "execution_count": 42,
      "outputs": [
        {
          "output_type": "stream",
          "text": [
            "\r                                                                               \r\r100% (30 of 30) |########################| Elapsed Time: 0:00:19 Time:  0:00:19\n"
          ],
          "name": "stderr"
        },
        {
          "output_type": "stream",
          "text": [
            "Epoch 30:\n",
            "Train loss: 1.3853320231040318\n",
            "Validation loss: 1.3862686327525549\n",
            "Train accuracy: 0.257892987703556\n",
            "Validation accuracy: 0.24800796812749004\n",
            "Max validation accuracy: 0.2818725099601594\n"
          ],
          "name": "stdout"
        }
      ]
    },
    {
      "metadata": {
        "id": "9x-gdscvdKft",
        "colab_type": "text"
      },
      "cell_type": "markdown",
      "source": [
        "## BERT"
      ]
    },
    {
      "metadata": {
        "id": "RwAm69pedJE0",
        "colab_type": "code",
        "colab": {}
      },
      "cell_type": "code",
      "source": [
        "embeddings = bert_embs_med\n",
        "target = np.array(data2['5'])\n",
        "\n",
        "X_train, X_test, y_train, y_test = TTS(embeddings, target, test_size=0.25, random_state=4)"
      ],
      "execution_count": 0,
      "outputs": []
    },
    {
      "metadata": {
        "id": "n-wk3HEXdQqp",
        "colab_type": "code",
        "colab": {}
      },
      "cell_type": "code",
      "source": [
        "model = DSSMNet(embeddings.shape[2])\n",
        "model.cuda()\n",
        "optimizer = torch.optim.Adam(model.parameters())\n",
        "loss_fn = nn.CrossEntropyLoss()\n",
        "epochs = 30"
      ],
      "execution_count": 0,
      "outputs": []
    },
    {
      "metadata": {
        "id": "hgJUhr5ldRr6",
        "colab_type": "code",
        "colab": {
          "base_uri": "https://localhost:8080/",
          "height": 136
        },
        "outputId": "8066b36c-02c0-4bdf-d232-c2bec8d59708"
      },
      "cell_type": "code",
      "source": [
        "results = launch_net(model, optimizer, X_train, y_train, X_test, y_test, 64, 16, epochs)\n",
        "results_dict['BERT'] = results"
      ],
      "execution_count": 45,
      "outputs": [
        {
          "output_type": "stream",
          "text": [
            "\r                                                                               \r\r100% (30 of 30) |########################| Elapsed Time: 0:00:19 Time:  0:00:19\n"
          ],
          "name": "stderr"
        },
        {
          "output_type": "stream",
          "text": [
            "Epoch 30:\n",
            "Train loss: 1.3853332921862602\n",
            "Validation loss: 1.386294378174676\n",
            "Train accuracy: 0.2535726154868727\n",
            "Validation accuracy: 0.2340637450199203\n",
            "Max validation accuracy: 0.30278884462151395\n"
          ],
          "name": "stdout"
        }
      ]
    },
    {
      "metadata": {
        "id": "Z7zR22ytdaxR",
        "colab_type": "text"
      },
      "cell_type": "markdown",
      "source": [
        "## RusVectores"
      ]
    },
    {
      "metadata": {
        "id": "jK_Zv2FfdTKh",
        "colab_type": "code",
        "colab": {}
      },
      "cell_type": "code",
      "source": [
        "embeddings = rusvec_embs_med\n",
        "target = np.array(data2['5'])\n",
        "\n",
        "X_train, X_test, y_train, y_test = TTS(embeddings, target, test_size=0.25, random_state=4)"
      ],
      "execution_count": 0,
      "outputs": []
    },
    {
      "metadata": {
        "id": "6Li-JODJdeO_",
        "colab_type": "code",
        "colab": {}
      },
      "cell_type": "code",
      "source": [
        "model = DSSMNet(embeddings.shape[2])\n",
        "model.cuda()\n",
        "optimizer = torch.optim.Adam(model.parameters())\n",
        "loss_fn = nn.CrossEntropyLoss()\n",
        "epochs = 30"
      ],
      "execution_count": 0,
      "outputs": []
    },
    {
      "metadata": {
        "id": "A1fU6l2Adjun",
        "colab_type": "code",
        "colab": {
          "base_uri": "https://localhost:8080/",
          "height": 136
        },
        "outputId": "a200ac60-5cc2-4406-b126-86e9f2392940"
      },
      "cell_type": "code",
      "source": [
        "results = launch_net(model, optimizer, X_train, y_train, X_test, y_test, 64, 16, epochs)\n",
        "results_dict['RusVectores'] = results"
      ],
      "execution_count": 49,
      "outputs": [
        {
          "output_type": "stream",
          "text": [
            "\r                                                                               \r\r100% (30 of 30) |########################| Elapsed Time: 0:00:16 Time:  0:00:16\n"
          ],
          "name": "stderr"
        },
        {
          "output_type": "stream",
          "text": [
            "Epoch 30:\n",
            "Train loss: 1.3829824849963188\n",
            "Validation loss: 1.386589595249721\n",
            "Train accuracy: 0.26021934197407776\n",
            "Validation accuracy: 0.23705179282868527\n",
            "Max validation accuracy: 0.2739043824701195\n"
          ],
          "name": "stdout"
        }
      ]
    },
    {
      "metadata": {
        "id": "JpA_myU_dlud",
        "colab_type": "code",
        "colab": {
          "base_uri": "https://localhost:8080/",
          "height": 204
        },
        "outputId": "221fc081-36e9-4b3c-b6bd-253ee24dd573"
      },
      "cell_type": "code",
      "source": [
        "results = pd.DataFrame(data=results_dict, columns=list(results_dict.keys()), \\\n",
        "                       index=['Accuracy', 'Precision Macro', 'Precision Micro', 'F1 Macro', 'F1 Micro'])\n",
        "results"
      ],
      "execution_count": 50,
      "outputs": [
        {
          "output_type": "execute_result",
          "data": {
            "text/html": [
              "<div>\n",
              "<style scoped>\n",
              "    .dataframe tbody tr th:only-of-type {\n",
              "        vertical-align: middle;\n",
              "    }\n",
              "\n",
              "    .dataframe tbody tr th {\n",
              "        vertical-align: top;\n",
              "    }\n",
              "\n",
              "    .dataframe thead th {\n",
              "        text-align: right;\n",
              "    }\n",
              "</style>\n",
              "<table border=\"1\" class=\"dataframe\">\n",
              "  <thead>\n",
              "    <tr style=\"text-align: right;\">\n",
              "      <th></th>\n",
              "      <th>RusVectores</th>\n",
              "      <th>FastText</th>\n",
              "      <th>ELMO</th>\n",
              "      <th>BERT</th>\n",
              "    </tr>\n",
              "  </thead>\n",
              "  <tbody>\n",
              "    <tr>\n",
              "      <th>Accuracy</th>\n",
              "      <td>0.273904</td>\n",
              "      <td>0.282869</td>\n",
              "      <td>0.281873</td>\n",
              "      <td>0.302789</td>\n",
              "    </tr>\n",
              "    <tr>\n",
              "      <th>Precision Macro</th>\n",
              "      <td>0.275671</td>\n",
              "      <td>0.283622</td>\n",
              "      <td>0.281040</td>\n",
              "      <td>0.301072</td>\n",
              "    </tr>\n",
              "    <tr>\n",
              "      <th>Precision Micro</th>\n",
              "      <td>0.273904</td>\n",
              "      <td>0.282869</td>\n",
              "      <td>0.281873</td>\n",
              "      <td>0.302789</td>\n",
              "    </tr>\n",
              "    <tr>\n",
              "      <th>F1 Macro</th>\n",
              "      <td>0.272586</td>\n",
              "      <td>0.280716</td>\n",
              "      <td>0.277321</td>\n",
              "      <td>0.295789</td>\n",
              "    </tr>\n",
              "    <tr>\n",
              "      <th>F1 Micro</th>\n",
              "      <td>0.273904</td>\n",
              "      <td>0.282869</td>\n",
              "      <td>0.281873</td>\n",
              "      <td>0.302789</td>\n",
              "    </tr>\n",
              "  </tbody>\n",
              "</table>\n",
              "</div>"
            ],
            "text/plain": [
              "                 RusVectores  FastText      ELMO      BERT\n",
              "Accuracy            0.273904  0.282869  0.281873  0.302789\n",
              "Precision Macro     0.275671  0.283622  0.281040  0.301072\n",
              "Precision Micro     0.273904  0.282869  0.281873  0.302789\n",
              "F1 Macro            0.272586  0.280716  0.277321  0.295789\n",
              "F1 Micro            0.273904  0.282869  0.281873  0.302789"
            ]
          },
          "metadata": {
            "tags": []
          },
          "execution_count": 50
        }
      ]
    },
    {
      "metadata": {
        "id": "1k54YBzre2X_",
        "colab_type": "text"
      },
      "cell_type": "markdown",
      "source": [
        "## Биология"
      ]
    },
    {
      "metadata": {
        "id": "-QJfT38pdqSP",
        "colab_type": "code",
        "colab": {
          "base_uri": "https://localhost:8080/",
          "height": 34
        },
        "outputId": "5932416d-76f1-42c4-f01a-89f665eb2a3d"
      },
      "cell_type": "code",
      "source": [
        "bio_inds = []\n",
        "\n",
        "for i in range(len(data)):\n",
        "  if data.iloc[i,6] == 'Биология':\n",
        "    bio_inds.append(i)\n",
        "len(bio_inds)"
      ],
      "execution_count": 51,
      "outputs": [
        {
          "output_type": "execute_result",
          "data": {
            "text/plain": [
              "2184"
            ]
          },
          "metadata": {
            "tags": []
          },
          "execution_count": 51
        }
      ]
    },
    {
      "metadata": {
        "id": "pxbYM38yfA1E",
        "colab_type": "code",
        "colab": {}
      },
      "cell_type": "code",
      "source": [
        "elmo_embs_bio = elmo_embs[bio_inds]\n",
        "bert_embs_bio = bert_embs[bio_inds]\n",
        "fasttext_embs_bio = fasttext_embs[bio_inds]\n",
        "rusvec_embs_bio = rusvec_embs[bio_inds]"
      ],
      "execution_count": 0,
      "outputs": []
    },
    {
      "metadata": {
        "id": "Ij0oofogfMpD",
        "colab_type": "code",
        "colab": {}
      },
      "cell_type": "code",
      "source": [
        "results_dict = {'RusVectores': [], 'FastText': [], 'ELMO': [], 'BERT': []}\n",
        "data2 = data[data['label'] == 'Биология']\n",
        "epochs = 20"
      ],
      "execution_count": 0,
      "outputs": []
    },
    {
      "metadata": {
        "id": "ijqjkdtEfQij",
        "colab_type": "text"
      },
      "cell_type": "markdown",
      "source": [
        "## FastText"
      ]
    },
    {
      "metadata": {
        "id": "iaeJMiU8fQCC",
        "colab_type": "code",
        "colab": {}
      },
      "cell_type": "code",
      "source": [
        "embeddings = fasttext_embs_bio\n",
        "target = np.array(data2['5'])\n",
        "\n",
        "X_train, X_test, y_train, y_test = TTS(embeddings, target, test_size=0.25, random_state=4)"
      ],
      "execution_count": 0,
      "outputs": []
    },
    {
      "metadata": {
        "id": "eUmNO-8ffZxR",
        "colab_type": "code",
        "colab": {}
      },
      "cell_type": "code",
      "source": [
        "model = DSSMNet(embeddings.shape[2])\n",
        "model.cuda()\n",
        "optimizer = torch.optim.Adam(model.parameters())\n",
        "loss_fn = nn.CrossEntropyLoss()\n",
        "epochs = 30"
      ],
      "execution_count": 0,
      "outputs": []
    },
    {
      "metadata": {
        "id": "4zLlWuUNfcd6",
        "colab_type": "code",
        "colab": {
          "base_uri": "https://localhost:8080/",
          "height": 136
        },
        "outputId": "f0a97d1e-5f40-4483-9ea5-430277d2c528"
      },
      "cell_type": "code",
      "source": [
        "results = launch_net(model, optimizer, X_train, y_train, X_test, y_test, 64, 16, epochs)\n",
        "results_dict['FastText'] = results"
      ],
      "execution_count": 58,
      "outputs": [
        {
          "output_type": "stream",
          "text": [
            "\r                                                                               \r\r100% (30 of 30) |########################| Elapsed Time: 0:00:10 Time:  0:00:10\n"
          ],
          "name": "stderr"
        },
        {
          "output_type": "stream",
          "text": [
            "Epoch 30:\n",
            "Train loss: 1.3864129644173842\n",
            "Validation loss: 1.386205073765346\n",
            "Train accuracy: 0.24236874236874237\n",
            "Validation accuracy: 0.24175824175824176\n",
            "Max validation accuracy: 0.2802197802197802\n"
          ],
          "name": "stdout"
        }
      ]
    },
    {
      "metadata": {
        "id": "sNuyCVCWfgct",
        "colab_type": "text"
      },
      "cell_type": "markdown",
      "source": [
        "## ELMO"
      ]
    },
    {
      "metadata": {
        "id": "0tRGOXoIfflv",
        "colab_type": "code",
        "colab": {}
      },
      "cell_type": "code",
      "source": [
        "embeddings = elmo_embs_bio\n",
        "target = np.array(data2['5'])\n",
        "\n",
        "X_train, X_test, y_train, y_test = TTS(embeddings, target, test_size=0.25, random_state=4)"
      ],
      "execution_count": 0,
      "outputs": []
    },
    {
      "metadata": {
        "id": "ag94pjzYftcc",
        "colab_type": "code",
        "colab": {}
      },
      "cell_type": "code",
      "source": [
        "model = DSSMNet(embeddings.shape[2])\n",
        "model.cuda()\n",
        "optimizer = torch.optim.Adam(model.parameters())\n",
        "loss_fn = nn.CrossEntropyLoss()\n",
        "epochs = 30"
      ],
      "execution_count": 0,
      "outputs": []
    },
    {
      "metadata": {
        "id": "ohKLLfpzfu5r",
        "colab_type": "code",
        "colab": {
          "base_uri": "https://localhost:8080/",
          "height": 136
        },
        "outputId": "9e0a61ca-5f16-4b6e-8d06-20c5b4e9a4f9"
      },
      "cell_type": "code",
      "source": [
        "results = launch_net(model, optimizer, X_train, y_train, X_test, y_test, 64, 16, epochs)\n",
        "results_dict['ELMO'] = results"
      ],
      "execution_count": 61,
      "outputs": [
        {
          "output_type": "stream",
          "text": [
            "\r                                                                               \r\r100% (30 of 30) |########################| Elapsed Time: 0:00:10 Time:  0:00:10\n"
          ],
          "name": "stderr"
        },
        {
          "output_type": "stream",
          "text": [
            "Epoch 30:\n",
            "Train loss: 1.3862673456852252\n",
            "Validation loss: 1.386000953401838\n",
            "Train accuracy: 0.2625152625152625\n",
            "Validation accuracy: 0.27289377289377287\n",
            "Max validation accuracy: 0.2948717948717949\n"
          ],
          "name": "stdout"
        }
      ]
    },
    {
      "metadata": {
        "id": "I3CbAxJhfzgy",
        "colab_type": "text"
      },
      "cell_type": "markdown",
      "source": [
        "## BERT"
      ]
    },
    {
      "metadata": {
        "id": "skX-bhgvfw75",
        "colab_type": "code",
        "colab": {}
      },
      "cell_type": "code",
      "source": [
        "embeddings = bert_embs_bio\n",
        "target = np.array(data2['5'])\n",
        "\n",
        "X_train, X_test, y_train, y_test = TTS(embeddings, target, test_size=0.25, random_state=4)"
      ],
      "execution_count": 0,
      "outputs": []
    },
    {
      "metadata": {
        "id": "LJcntWqtgAco",
        "colab_type": "code",
        "colab": {}
      },
      "cell_type": "code",
      "source": [
        "model = DSSMNet(embeddings.shape[2])\n",
        "model.cuda()\n",
        "optimizer = torch.optim.Adam(model.parameters())\n",
        "loss_fn = nn.CrossEntropyLoss()\n",
        "epochs = 30"
      ],
      "execution_count": 0,
      "outputs": []
    },
    {
      "metadata": {
        "id": "rNNki9vsgCln",
        "colab_type": "code",
        "colab": {
          "base_uri": "https://localhost:8080/",
          "height": 136
        },
        "outputId": "42f10240-98ff-495c-a3da-efe33d01fa1a"
      },
      "cell_type": "code",
      "source": [
        "results = launch_net(model, optimizer, X_train, y_train, X_test, y_test, 64, 16, epochs)\n",
        "results_dict['BERT'] = results"
      ],
      "execution_count": 64,
      "outputs": [
        {
          "output_type": "stream",
          "text": [
            "\r                                                                               \r\r100% (30 of 30) |########################| Elapsed Time: 0:00:10 Time:  0:00:10\n"
          ],
          "name": "stderr"
        },
        {
          "output_type": "stream",
          "text": [
            "Epoch 30:\n",
            "Train loss: 1.386308518739847\n",
            "Validation loss: 1.3858578375407629\n",
            "Train accuracy: 0.24114774114774115\n",
            "Validation accuracy: 0.27472527472527475\n",
            "Max validation accuracy: 0.2893772893772894\n"
          ],
          "name": "stdout"
        }
      ]
    },
    {
      "metadata": {
        "id": "ZgdrICbvgNu0",
        "colab_type": "text"
      },
      "cell_type": "markdown",
      "source": [
        "## RusVectores"
      ]
    },
    {
      "metadata": {
        "id": "sYgwQPvlgEmP",
        "colab_type": "code",
        "colab": {}
      },
      "cell_type": "code",
      "source": [
        "embeddings = rusvec_embs_bio\n",
        "target = np.array(data2['5'])\n",
        "\n",
        "X_train, X_test, y_train, y_test = TTS(embeddings, target, test_size=0.25, random_state=4)"
      ],
      "execution_count": 0,
      "outputs": []
    },
    {
      "metadata": {
        "id": "c3xrc91jgRCf",
        "colab_type": "code",
        "colab": {}
      },
      "cell_type": "code",
      "source": [
        "model = DSSMNet(embeddings.shape[2])\n",
        "model.cuda()\n",
        "optimizer = torch.optim.Adam(model.parameters())\n",
        "loss_fn = nn.CrossEntropyLoss()\n",
        "epochs = 30"
      ],
      "execution_count": 0,
      "outputs": []
    },
    {
      "metadata": {
        "id": "3OE1kMi5gX49",
        "colab_type": "code",
        "colab": {
          "base_uri": "https://localhost:8080/",
          "height": 136
        },
        "outputId": "ef5fadc9-58d7-4a8a-cfc5-5702e43ea24d"
      },
      "cell_type": "code",
      "source": [
        "results = launch_net(model, optimizer, X_train, y_train, X_test, y_test, 64, 16, epochs)\n",
        "results_dict['RusVectores'] = results"
      ],
      "execution_count": 67,
      "outputs": [
        {
          "output_type": "stream",
          "text": [
            "\r                                                                               \r\r100% (30 of 30) |########################| Elapsed Time: 0:00:10 Time:  0:00:10\n"
          ],
          "name": "stderr"
        },
        {
          "output_type": "stream",
          "text": [
            "Epoch 30:\n",
            "Train loss: 1.3862801790237427\n",
            "Validation loss: 1.3865962096623012\n",
            "Train accuracy: 0.2509157509157509\n",
            "Validation accuracy: 0.24358974358974358\n",
            "Max validation accuracy: 0.2765567765567766\n"
          ],
          "name": "stdout"
        }
      ]
    },
    {
      "metadata": {
        "id": "i9ox1H5Mgax0",
        "colab_type": "code",
        "colab": {
          "base_uri": "https://localhost:8080/",
          "height": 204
        },
        "outputId": "0ee9845c-ea1e-4676-d941-425ba3b2d084"
      },
      "cell_type": "code",
      "source": [
        "results = pd.DataFrame(data=results_dict, columns=list(results_dict.keys()), \\\n",
        "                       index=['Accuracy', 'Precision Macro', 'Precision Micro', 'F1 Macro', 'F1 Micro'])\n",
        "results"
      ],
      "execution_count": 68,
      "outputs": [
        {
          "output_type": "execute_result",
          "data": {
            "text/html": [
              "<div>\n",
              "<style scoped>\n",
              "    .dataframe tbody tr th:only-of-type {\n",
              "        vertical-align: middle;\n",
              "    }\n",
              "\n",
              "    .dataframe tbody tr th {\n",
              "        vertical-align: top;\n",
              "    }\n",
              "\n",
              "    .dataframe thead th {\n",
              "        text-align: right;\n",
              "    }\n",
              "</style>\n",
              "<table border=\"1\" class=\"dataframe\">\n",
              "  <thead>\n",
              "    <tr style=\"text-align: right;\">\n",
              "      <th></th>\n",
              "      <th>RusVectores</th>\n",
              "      <th>FastText</th>\n",
              "      <th>ELMO</th>\n",
              "      <th>BERT</th>\n",
              "    </tr>\n",
              "  </thead>\n",
              "  <tbody>\n",
              "    <tr>\n",
              "      <th>Accuracy</th>\n",
              "      <td>0.276557</td>\n",
              "      <td>0.280220</td>\n",
              "      <td>0.294872</td>\n",
              "      <td>0.289377</td>\n",
              "    </tr>\n",
              "    <tr>\n",
              "      <th>Precision Macro</th>\n",
              "      <td>0.277054</td>\n",
              "      <td>0.280572</td>\n",
              "      <td>0.297706</td>\n",
              "      <td>0.289367</td>\n",
              "    </tr>\n",
              "    <tr>\n",
              "      <th>Precision Micro</th>\n",
              "      <td>0.276557</td>\n",
              "      <td>0.280220</td>\n",
              "      <td>0.294872</td>\n",
              "      <td>0.289377</td>\n",
              "    </tr>\n",
              "    <tr>\n",
              "      <th>F1 Macro</th>\n",
              "      <td>0.276782</td>\n",
              "      <td>0.280425</td>\n",
              "      <td>0.294769</td>\n",
              "      <td>0.288787</td>\n",
              "    </tr>\n",
              "    <tr>\n",
              "      <th>F1 Micro</th>\n",
              "      <td>0.276557</td>\n",
              "      <td>0.280220</td>\n",
              "      <td>0.294872</td>\n",
              "      <td>0.289377</td>\n",
              "    </tr>\n",
              "  </tbody>\n",
              "</table>\n",
              "</div>"
            ],
            "text/plain": [
              "                 RusVectores  FastText      ELMO      BERT\n",
              "Accuracy            0.276557  0.280220  0.294872  0.289377\n",
              "Precision Macro     0.277054  0.280572  0.297706  0.289367\n",
              "Precision Micro     0.276557  0.280220  0.294872  0.289377\n",
              "F1 Macro            0.276782  0.280425  0.294769  0.288787\n",
              "F1 Micro            0.276557  0.280220  0.294872  0.289377"
            ]
          },
          "metadata": {
            "tags": []
          },
          "execution_count": 68
        }
      ]
    },
    {
      "metadata": {
        "id": "FMBNp85Jgc5S",
        "colab_type": "code",
        "colab": {}
      },
      "cell_type": "code",
      "source": [
        ""
      ],
      "execution_count": 0,
      "outputs": []
    }
  ]
}