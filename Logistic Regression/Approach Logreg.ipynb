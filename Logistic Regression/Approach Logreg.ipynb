{
 "cells": [
  {
   "cell_type": "code",
   "execution_count": 1,
   "metadata": {},
   "outputs": [
    {
     "data": {
      "text/html": [
       "<div>\n",
       "<style scoped>\n",
       "    .dataframe tbody tr th:only-of-type {\n",
       "        vertical-align: middle;\n",
       "    }\n",
       "\n",
       "    .dataframe tbody tr th {\n",
       "        vertical-align: top;\n",
       "    }\n",
       "\n",
       "    .dataframe thead th {\n",
       "        text-align: right;\n",
       "    }\n",
       "</style>\n",
       "<table border=\"1\" class=\"dataframe\">\n",
       "  <thead>\n",
       "    <tr style=\"text-align: right;\">\n",
       "      <th></th>\n",
       "      <th>0</th>\n",
       "      <th>1</th>\n",
       "      <th>2</th>\n",
       "      <th>3</th>\n",
       "      <th>4</th>\n",
       "      <th>5</th>\n",
       "    </tr>\n",
       "  </thead>\n",
       "  <tbody>\n",
       "    <tr>\n",
       "      <th>0</th>\n",
       "      <td>Совещательный орган при императоре в начале XX в</td>\n",
       "      <td>Сенат</td>\n",
       "      <td>Государственный совет</td>\n",
       "      <td>Консилия министров</td>\n",
       "      <td>Верховный тайный совет</td>\n",
       "      <td>2</td>\n",
       "    </tr>\n",
       "    <tr>\n",
       "      <th>1</th>\n",
       "      <td>Министр внутренних дел с 1904 г либерал автор ...</td>\n",
       "      <td>Лорис Меликов</td>\n",
       "      <td>Святополк Мирский</td>\n",
       "      <td>Милюков</td>\n",
       "      <td>Витте</td>\n",
       "      <td>2</td>\n",
       "    </tr>\n",
       "    <tr>\n",
       "      <th>2</th>\n",
       "      <td>Какое из названных событий произошло 27 января...</td>\n",
       "      <td>подрыв флагманского корабля Петропавловск</td>\n",
       "      <td>высадка японских войск на Ляодунском полуострове</td>\n",
       "      <td>героический бой Варяга и Корейца</td>\n",
       "      <td>заключение Портсмутского мирного договора</td>\n",
       "      <td>3</td>\n",
       "    </tr>\n",
       "    <tr>\n",
       "      <th>3</th>\n",
       "      <td>Что из названного относится к результатам перв...</td>\n",
       "      <td>появление многопартийности</td>\n",
       "      <td>формирование конституционной монархии</td>\n",
       "      <td>ликвидация сословного строя</td>\n",
       "      <td>введение рабочего контроля за производством</td>\n",
       "      <td>1</td>\n",
       "    </tr>\n",
       "    <tr>\n",
       "      <th>4</th>\n",
       "      <td>Для выхода из экономического кризиса вызванног...</td>\n",
       "      <td>ввело 8 часовой рабочий день в промышленности</td>\n",
       "      <td>ликвидировало помещичье землевладение</td>\n",
       "      <td>отменило выкупные платежи</td>\n",
       "      <td>ввело продовольственную разверстку</td>\n",
       "      <td>4</td>\n",
       "    </tr>\n",
       "  </tbody>\n",
       "</table>\n",
       "</div>"
      ],
      "text/plain": [
       "                                                   0  \\\n",
       "0   Совещательный орган при императоре в начале XX в   \n",
       "1  Министр внутренних дел с 1904 г либерал автор ...   \n",
       "2  Какое из названных событий произошло 27 января...   \n",
       "3  Что из названного относится к результатам перв...   \n",
       "4  Для выхода из экономического кризиса вызванног...   \n",
       "\n",
       "                                               1  \\\n",
       "0                                          Сенат   \n",
       "1                                  Лорис Меликов   \n",
       "2      подрыв флагманского корабля Петропавловск   \n",
       "3                     появление многопартийности   \n",
       "4  ввело 8 часовой рабочий день в промышленности   \n",
       "\n",
       "                                                  2  \\\n",
       "0                             Государственный совет   \n",
       "1                                 Святополк Мирский   \n",
       "2  высадка японских войск на Ляодунском полуострове   \n",
       "3             формирование конституционной монархии   \n",
       "4             ликвидировало помещичье землевладение   \n",
       "\n",
       "                                  3  \\\n",
       "0                Консилия министров   \n",
       "1                           Милюков   \n",
       "2  героический бой Варяга и Корейца   \n",
       "3       ликвидация сословного строя   \n",
       "4         отменило выкупные платежи   \n",
       "\n",
       "                                             4  5  \n",
       "0                       Верховный тайный совет  2  \n",
       "1                                        Витте  2  \n",
       "2    заключение Портсмутского мирного договора  3  \n",
       "3  введение рабочего контроля за производством  1  \n",
       "4           ввело продовольственную разверстку  4  "
      ]
     },
     "execution_count": 1,
     "metadata": {},
     "output_type": "execute_result"
    }
   ],
   "source": [
    "import pandas as pd\n",
    "import numpy as np\n",
    "from progressbar import progressbar as pb\n",
    "\n",
    "data = pd.read_csv('all_data_fixed3.csv', index_col=False)w\n",
    "data.head()"
   ]
  },
  {
   "cell_type": "markdown",
   "metadata": {},
   "source": [
    "Логрегрессию обучаем ледующим образом. Из вектора вопроса (q_vec) и векторов ответов (a1_vec, ... a2_vec) создаем четыре вектора q_vec | a1_vec), ... (q_vec | a2_vec) с соответствующей бинарной разметкой, где | - конкатенация. Затем каждый из таких сэмплов с соответствующей разметкой подаем на вход логрегрессии."
   ]
  },
  {
   "cell_type": "code",
   "execution_count": 2,
   "metadata": {},
   "outputs": [],
   "source": [
    "from sklearn.linear_model import LogisticRegression as LR\n",
    "from sklearn.metrics import accuracy_score\n",
    "\n",
    "def get_samples(data, embeddings, train_part=0.75, random_seed=4):\n",
    "    \n",
    "    '''\n",
    "    Из вектора вопроса (q_vec) и векторов ответов (a1_vec, ... a2_vec) \n",
    "    создаем четыре вектора (q_vec | a1_vec), ... (q_vec | a2_vec) \n",
    "    с соответствующей бинарной разметкой, где | - конкатенация. \n",
    "    \n",
    "    Делим выборку на трейн и тест. \n",
    "    \n",
    "    data - исходный датасет с разметкой\n",
    "    embeddings - векторное представление исходного датасета\n",
    "    train_part - доля тренировочной выборки\n",
    "    random_seed - сид для повторяемости эксперимента\n",
    "    \n",
    "    return:\n",
    "    \n",
    "    X_train, X_test, y_train, y_test - разделенная на тренировочную и тестовую части выборка,\n",
    "    имеющая вышеописанную структуру\n",
    "    \n",
    "    '''\n",
    "    \n",
    "    predata = np.zeros((embeddings.shape[0] * 4, embeddings.shape[2] * 2))\n",
    "    target = []\n",
    "    np.random.seed(random_seed)\n",
    "\n",
    "    for i in range(len(data)):\n",
    "        for j in range(1,5):\n",
    "            cur_targ = 1 if j == int(data.iloc[i,5]) else 0\n",
    "            cur_vec = np.hstack((embeddings[i,0], embeddings[i,j]))\n",
    "            predata[i*4+j-1] = cur_vec\n",
    "            target.append(cur_targ)\n",
    "            \n",
    "    all_inds = np.arange(embeddings.shape[0])\n",
    "    train_size = int(len(all_inds) * train_part)\n",
    "    train_inds = np.random.choice(all_inds, size=train_size, replace=False)\n",
    "    test_inds = np.array(list(set(all_inds) - set(train_inds)))\n",
    "    \n",
    "    X_train, X_test, y_train, y_test = [],[],[],[]\n",
    "\n",
    "    for i in range(len(train_inds)):\n",
    "        for j in range(4):\n",
    "            X_train.append(predata[train_inds[i] * 4 + j])\n",
    "            y_train.append(target[train_inds[i] * 4 + j])\n",
    "\n",
    "    for i in range(len(test_inds)):\n",
    "        for j in range(4):\n",
    "            X_test.append(predata[test_inds[i] * 4 + j])\n",
    "            y_test.append(target[test_inds[i] * 4 + j])\n",
    "            \n",
    "    return X_train, X_test, y_train, y_test\n",
    "\n",
    "\n",
    "def approach_logreg(data, embeddings, train_part=0.75, random_seed=4):\n",
    "    \n",
    "    '''\n",
    "    Обучаем логрегрессию и делаем предсказание.\n",
    "    \n",
    "    data - исходный датасет с разметкой\n",
    "    embeddings - векторное представление исходного датасета\n",
    "    train_part - доля тренировочной выборки\n",
    "    random_seed - сид для повторяемости эксперимента\n",
    "    \n",
    "    return:\n",
    "    \n",
    "    accuracy - значение метрики точности для предсказания\n",
    "    \n",
    "    '''\n",
    "    \n",
    "    X_train, X_test, y_train, y_test = get_samples(data, embeddings, train_part)\n",
    "    \n",
    "    clf = LR()\n",
    "    clf.fit(X_train, y_train)\n",
    "    \n",
    "    y_pred = clf.predict_proba(X_test)\n",
    "    y_pred_new = []\n",
    "\n",
    "    for i in range(len(y_pred) // 4):\n",
    "        cur_probs, preds = [], [0,0,0,0]\n",
    "        for j in range(4):\n",
    "            cur_probs.append(y_pred[i*4 + j][1])\n",
    "        preds[np.argmax(cur_probs)] = 1\n",
    "        y_pred_new.extend(preds)\n",
    "        \n",
    "    y_pred_splitted, y_test_splitted = [], []\n",
    "\n",
    "    for i in range(len(y_pred) // 4):\n",
    "        y_pred_splitted.append(np.argmax(y_pred_new[i*4:i*4+4]))\n",
    "        y_test_splitted.append(np.argmax(y_test[i*4:i*4+4]))\n",
    "        \n",
    "    accuracy = accuracy_score(y_test_splitted, y_pred_splitted)\n",
    "    \n",
    "    return accuracy"
   ]
  },
  {
   "cell_type": "code",
   "execution_count": 3,
   "metadata": {},
   "outputs": [
    {
     "data": {
      "text/plain": [
       "0.3075768942235559"
      ]
     },
     "execution_count": 3,
     "metadata": {},
     "output_type": "execute_result"
    }
   ],
   "source": [
    "import pickle\n",
    "\n",
    "with open('Embeddings/elmo_embed3.pickle', 'rb') as f:\n",
    "    elmo_embs = pickle.load(f)\n",
    "\n",
    "elmo_embs = np.array(elmo_embs)\n",
    "approach_logreg(data, elmo_embs)"
   ]
  },
  {
   "cell_type": "code",
   "execution_count": 4,
   "metadata": {},
   "outputs": [
    {
     "data": {
      "text/plain": [
       "0.2948237059264816"
      ]
     },
     "execution_count": 4,
     "metadata": {},
     "output_type": "execute_result"
    }
   ],
   "source": [
    "import pickle\n",
    "\n",
    "with open('Embeddings/fasttext_embed3.pickle', 'rb') as f:\n",
    "    fasttext_embs = pickle.load(f)\n",
    "\n",
    "fasttext_embs = np.array(fasttext_embs)\n",
    "approach_logreg(data, fasttext_embs)"
   ]
  },
  {
   "cell_type": "code",
   "execution_count": 5,
   "metadata": {},
   "outputs": [
    {
     "data": {
      "text/plain": [
       "0.2888222055513878"
      ]
     },
     "execution_count": 5,
     "metadata": {},
     "output_type": "execute_result"
    }
   ],
   "source": [
    "import pickle\n",
    "\n",
    "with open('Embeddings/rusvec_embed3.pickle', 'rb') as f:\n",
    "    rusvec_embs = pickle.load(f)\n",
    "\n",
    "rusvec_embs = np.array(rusvec_embs)\n",
    "approach_logreg(data, rusvec_embs)"
   ]
  },
  {
   "cell_type": "code",
   "execution_count": 6,
   "metadata": {},
   "outputs": [
    {
     "data": {
      "text/plain": [
       "0.2940735183795949"
      ]
     },
     "execution_count": 6,
     "metadata": {},
     "output_type": "execute_result"
    }
   ],
   "source": [
    "import pickle\n",
    "\n",
    "with open('Embeddings/bert_embed3.pickle', 'rb') as f:\n",
    "    bert_embs = pickle.load(f)\n",
    "\n",
    "bert_embs = np.array(bert_embs)\n",
    "approach_logreg(data, bert_embs)"
   ]
  },
  {
   "cell_type": "code",
   "execution_count": null,
   "metadata": {},
   "outputs": [],
   "source": []
  }
 ],
 "metadata": {
  "kernelspec": {
   "display_name": "Python 3",
   "language": "python",
   "name": "python3"
  },
  "language_info": {
   "codemirror_mode": {
    "name": "ipython",
    "version": 3
   },
   "file_extension": ".py",
   "mimetype": "text/x-python",
   "name": "python",
   "nbconvert_exporter": "python",
   "pygments_lexer": "ipython3",
   "version": "3.6.5"
  }
 },
 "nbformat": 4,
 "nbformat_minor": 2
}
