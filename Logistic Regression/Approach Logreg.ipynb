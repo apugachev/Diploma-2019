{
 "cells": [
  {
   "cell_type": "code",
   "execution_count": 1,
   "metadata": {},
   "outputs": [
    {
     "name": "stdout",
     "output_type": "stream",
     "text": [
      "13073\n"
     ]
    },
    {
     "data": {
      "text/html": [
       "<div>\n",
       "<style scoped>\n",
       "    .dataframe tbody tr th:only-of-type {\n",
       "        vertical-align: middle;\n",
       "    }\n",
       "\n",
       "    .dataframe tbody tr th {\n",
       "        vertical-align: top;\n",
       "    }\n",
       "\n",
       "    .dataframe thead th {\n",
       "        text-align: right;\n",
       "    }\n",
       "</style>\n",
       "<table border=\"1\" class=\"dataframe\">\n",
       "  <thead>\n",
       "    <tr style=\"text-align: right;\">\n",
       "      <th></th>\n",
       "      <th>0</th>\n",
       "      <th>1</th>\n",
       "      <th>2</th>\n",
       "      <th>3</th>\n",
       "      <th>4</th>\n",
       "      <th>5</th>\n",
       "      <th>label</th>\n",
       "    </tr>\n",
       "  </thead>\n",
       "  <tbody>\n",
       "    <tr>\n",
       "      <th>0</th>\n",
       "      <td>Совещательный орган при императоре в начале XX в</td>\n",
       "      <td>Сенат</td>\n",
       "      <td>Государственный совет</td>\n",
       "      <td>Консилия министров</td>\n",
       "      <td>Верховный тайный совет</td>\n",
       "      <td>2</td>\n",
       "      <td>История</td>\n",
       "    </tr>\n",
       "    <tr>\n",
       "      <th>1</th>\n",
       "      <td>Министр внутренних дел с 1904 г либерал автор ...</td>\n",
       "      <td>Лорис Меликов</td>\n",
       "      <td>Святополк Мирский</td>\n",
       "      <td>Милюков</td>\n",
       "      <td>Витте</td>\n",
       "      <td>2</td>\n",
       "      <td>История</td>\n",
       "    </tr>\n",
       "    <tr>\n",
       "      <th>2</th>\n",
       "      <td>Какое из названных событий произошло 27 января...</td>\n",
       "      <td>подрыв флагманского корабля Петропавловск</td>\n",
       "      <td>высадка японских войск на Ляодунском полуострове</td>\n",
       "      <td>героический бой Варяга и Корейца</td>\n",
       "      <td>заключение Портсмутского мирного договора</td>\n",
       "      <td>3</td>\n",
       "      <td>История</td>\n",
       "    </tr>\n",
       "    <tr>\n",
       "      <th>3</th>\n",
       "      <td>Что из названного относится к результатам перв...</td>\n",
       "      <td>появление многопартийности</td>\n",
       "      <td>формирование конституционной монархии</td>\n",
       "      <td>ликвидация сословного строя</td>\n",
       "      <td>введение рабочего контроля за производством</td>\n",
       "      <td>1</td>\n",
       "      <td>История</td>\n",
       "    </tr>\n",
       "    <tr>\n",
       "      <th>4</th>\n",
       "      <td>Творчество поэтов Гумилева Ахматовой Мандельшт...</td>\n",
       "      <td>акмеизму</td>\n",
       "      <td>футуризму</td>\n",
       "      <td>импрессионизму</td>\n",
       "      <td>реализму</td>\n",
       "      <td>1</td>\n",
       "      <td>История</td>\n",
       "    </tr>\n",
       "  </tbody>\n",
       "</table>\n",
       "</div>"
      ],
      "text/plain": [
       "                                                   0  \\\n",
       "0   Совещательный орган при императоре в начале XX в   \n",
       "1  Министр внутренних дел с 1904 г либерал автор ...   \n",
       "2  Какое из названных событий произошло 27 января...   \n",
       "3  Что из названного относится к результатам перв...   \n",
       "4  Творчество поэтов Гумилева Ахматовой Мандельшт...   \n",
       "\n",
       "                                           1  \\\n",
       "0                                      Сенат   \n",
       "1                              Лорис Меликов   \n",
       "2  подрыв флагманского корабля Петропавловск   \n",
       "3                 появление многопартийности   \n",
       "4                                   акмеизму   \n",
       "\n",
       "                                                  2  \\\n",
       "0                             Государственный совет   \n",
       "1                                 Святополк Мирский   \n",
       "2  высадка японских войск на Ляодунском полуострове   \n",
       "3             формирование конституционной монархии   \n",
       "4                                         футуризму   \n",
       "\n",
       "                                  3  \\\n",
       "0                Консилия министров   \n",
       "1                           Милюков   \n",
       "2  героический бой Варяга и Корейца   \n",
       "3       ликвидация сословного строя   \n",
       "4                    импрессионизму   \n",
       "\n",
       "                                             4  5    label  \n",
       "0                       Верховный тайный совет  2  История  \n",
       "1                                        Витте  2  История  \n",
       "2    заключение Портсмутского мирного договора  3  История  \n",
       "3  введение рабочего контроля за производством  1  История  \n",
       "4                                     реализму  1  История  "
      ]
     },
     "execution_count": 1,
     "metadata": {},
     "output_type": "execute_result"
    }
   ],
   "source": [
    "import pandas as pd\n",
    "import numpy as np\n",
    "from progressbar import progressbar as pb\n",
    "\n",
    "data = pd.read_csv('big_data_labels.csv', index_col=False)\n",
    "print(len(data))\n",
    "data.head()"
   ]
  },
  {
   "cell_type": "markdown",
   "metadata": {},
   "source": [
    "Логрегрессию обучаем ледующим образом. Из вектора вопроса (q_vec) и векторов ответов (a1_vec, ... a4_vec) создаем четыре вектора q_vec | a1_vec), ... (q_vec | a4_vec) с соответствующей бинарной разметкой, где | - конкатенация. Затем каждый из таких сэмплов с соответствующей разметкой подаем на вход логрегрессии."
   ]
  },
  {
   "cell_type": "code",
   "execution_count": 2,
   "metadata": {},
   "outputs": [],
   "source": [
    "import pickle\n",
    "\n",
    "with open('/Users/user/Python/Diploma/Embeddings/elmo_embed_big.pickle', 'rb') as f:\n",
    "    elmo_embs = pickle.load(f)\n",
    "\n",
    "elmo_embs = np.array(elmo_embs)\n",
    "\n",
    "with open('/Users/user/Python/Diploma/Embeddings/fasttext_embed_big.pickle', 'rb') as f:\n",
    "    fasttext_embs = pickle.load(f)\n",
    "\n",
    "fasttext_embs = np.array(fasttext_embs)\n",
    "\n",
    "with open('/Users/user/Python/Diploma/Embeddings/rusvec_embed_big.pickle', 'rb') as f:\n",
    "    rusvec_embs = pickle.load(f)\n",
    "\n",
    "rusvec_embs = np.array(rusvec_embs)\n",
    "\n",
    "with open('/Users/user/Python/Diploma/Embeddings/bert_embed_big.pickle', 'rb') as f:\n",
    "    bert_embs = pickle.load(f)\n",
    "\n",
    "bert_embs = np.array(bert_embs)"
   ]
  },
  {
   "cell_type": "code",
   "execution_count": 3,
   "metadata": {},
   "outputs": [],
   "source": [
    "embeddings = {'RusVectores': rusvec_embs, 'FastText': fasttext_embs, 'ELMO': elmo_embs, 'BERT': bert_embs}"
   ]
  },
  {
   "cell_type": "code",
   "execution_count": 4,
   "metadata": {},
   "outputs": [],
   "source": [
    "from sklearn.linear_model import LogisticRegression as LR\n",
    "from sklearn.metrics import accuracy_score, precision_score, f1_score\n",
    "\n",
    "def get_samples(data, embeddings, train_part, random_seed):\n",
    "    \n",
    "    '''\n",
    "    Из вектора вопроса (q_vec) и векторов ответов (a1_vec, ... a2_vec) \n",
    "    создаем четыре вектора (q_vec | a1_vec), ... (q_vec | a2_vec) \n",
    "    с соответствующей бинарной разметкой, где | - конкатенация. \n",
    "    \n",
    "    Делим выборку на трейн и тест. \n",
    "    \n",
    "    data - исходный датасет с разметкой\n",
    "    embeddings - векторное представление исходного датасета\n",
    "    train_part - доля тренировочной выборки\n",
    "    random_seed - сид для повторяемости эксперимента\n",
    "    \n",
    "    return:\n",
    "    \n",
    "    X_train, X_test, y_train, y_test - разделенная на тренировочную и тестовую части выборка,\n",
    "    имеющая вышеописанную структуру\n",
    "    \n",
    "    '''\n",
    "    \n",
    "    predata = np.zeros((embeddings.shape[0] * 4, embeddings.shape[2] * 2))\n",
    "    target = []\n",
    "    np.random.seed(random_seed)\n",
    "\n",
    "    for i in range(len(data)):\n",
    "        for j in range(1,5):\n",
    "            cur_targ = 1 if j == int(data.iloc[i,5]) else 0\n",
    "            cur_vec = np.hstack((embeddings[i,0], embeddings[i,j]))\n",
    "            predata[i*4+j-1] = cur_vec\n",
    "            target.append(cur_targ)\n",
    "            \n",
    "    all_inds = np.arange(embeddings.shape[0])\n",
    "    train_size = int(len(all_inds) * train_part)\n",
    "    train_inds = np.random.choice(all_inds, size=train_size, replace=False)\n",
    "    test_inds = np.array(list(set(all_inds) - set(train_inds)))\n",
    "    \n",
    "    X_train, X_test, y_train, y_test = [],[],[],[]\n",
    "\n",
    "    for i in range(len(train_inds)):\n",
    "        for j in range(4):\n",
    "            X_train.append(predata[train_inds[i] * 4 + j])\n",
    "            y_train.append(target[train_inds[i] * 4 + j])\n",
    "\n",
    "    for i in range(len(test_inds)):\n",
    "        for j in range(4):\n",
    "            X_test.append(predata[test_inds[i] * 4 + j])\n",
    "            y_test.append(target[test_inds[i] * 4 + j])\n",
    "            \n",
    "    return X_train, X_test, y_train, y_test\n",
    "\n",
    "\n",
    "def approach_logreg(data, embeddings, train_part=0.7, random_seed=4):\n",
    "    \n",
    "    '''\n",
    "    Обучаем логрегрессию и делаем предсказание.\n",
    "    \n",
    "    data - исходный датасет с разметкой\n",
    "    embeddings - векторное представление исходного датасета\n",
    "    train_part - доля тренировочной выборки\n",
    "    random_seed - сид для повторяемости эксперимента\n",
    "    \n",
    "    return:\n",
    "    \n",
    "    accuracy - значение метрики точности для предсказания\n",
    "    \n",
    "    '''\n",
    "    \n",
    "    X_train, X_test, y_train, y_test = get_samples(data, embeddings, train_part, random_seed)\n",
    "    \n",
    "    clf = LR()\n",
    "    clf.fit(X_train, y_train)\n",
    "    \n",
    "    y_pred = clf.predict_proba(X_test)\n",
    "    y_pred_new = []\n",
    "\n",
    "    for i in range(len(y_pred) // 4):\n",
    "        cur_probs, y_pred_splitted = [], [0,0,0,0]\n",
    "        for j in range(4):\n",
    "            cur_probs.append(y_pred[i*4 + j][1])\n",
    "        y_pred_splitted[np.argmax(cur_probs)] = 1\n",
    "        y_pred_new.extend(y_pred_splitted)\n",
    "        \n",
    "    y_pred_splitted, y_test_splitted = [], []\n",
    "\n",
    "    for i in range(len(y_pred) // 4):\n",
    "        y_pred_splitted.append(np.argmax(y_pred_new[i*4:i*4+4]))\n",
    "        y_test_splitted.append(np.argmax(y_test[i*4:i*4+4]))\n",
    "        \n",
    "    accuracy = accuracy_score(y_test_splitted, y_pred_splitted)\n",
    "    precision_macro = precision_score(y_test_splitted, y_pred_splitted, average='macro')\n",
    "    precision_micro = precision_score(y_test_splitted, y_pred_splitted, average='micro')\n",
    "    f1_macro = f1_score(y_test_splitted, y_pred_splitted, average='macro')\n",
    "    f1_micro = f1_score(y_test_splitted, y_pred_splitted, average='micro')\n",
    "    \n",
    "    return accuracy, precision_macro, precision_micro, f1_macro, f1_micro"
   ]
  },
  {
   "cell_type": "code",
   "execution_count": 26,
   "metadata": {},
   "outputs": [],
   "source": [
    "results_dict = {}\n",
    "for key, embed in embeddings.items():\n",
    "    results_dict[key] = approach_logreg(data, embed)"
   ]
  },
  {
   "cell_type": "code",
   "execution_count": 27,
   "metadata": {},
   "outputs": [
    {
     "data": {
      "text/html": [
       "<div>\n",
       "<style scoped>\n",
       "    .dataframe tbody tr th:only-of-type {\n",
       "        vertical-align: middle;\n",
       "    }\n",
       "\n",
       "    .dataframe tbody tr th {\n",
       "        vertical-align: top;\n",
       "    }\n",
       "\n",
       "    .dataframe thead th {\n",
       "        text-align: right;\n",
       "    }\n",
       "</style>\n",
       "<table border=\"1\" class=\"dataframe\">\n",
       "  <thead>\n",
       "    <tr style=\"text-align: right;\">\n",
       "      <th></th>\n",
       "      <th>RusVectores</th>\n",
       "      <th>FastText</th>\n",
       "      <th>ELMO</th>\n",
       "      <th>BERT</th>\n",
       "    </tr>\n",
       "  </thead>\n",
       "  <tbody>\n",
       "    <tr>\n",
       "      <th>Accuracy</th>\n",
       "      <td>0.287608</td>\n",
       "      <td>0.303672</td>\n",
       "      <td>0.308771</td>\n",
       "      <td>0.318205</td>\n",
       "    </tr>\n",
       "    <tr>\n",
       "      <th>Precision Macro</th>\n",
       "      <td>0.288244</td>\n",
       "      <td>0.301829</td>\n",
       "      <td>0.307374</td>\n",
       "      <td>0.317983</td>\n",
       "    </tr>\n",
       "    <tr>\n",
       "      <th>Precision Micro</th>\n",
       "      <td>0.287608</td>\n",
       "      <td>0.303672</td>\n",
       "      <td>0.308771</td>\n",
       "      <td>0.318205</td>\n",
       "    </tr>\n",
       "    <tr>\n",
       "      <th>F1 Macro</th>\n",
       "      <td>0.287345</td>\n",
       "      <td>0.301640</td>\n",
       "      <td>0.307148</td>\n",
       "      <td>0.317563</td>\n",
       "    </tr>\n",
       "    <tr>\n",
       "      <th>F1 Micro</th>\n",
       "      <td>0.287608</td>\n",
       "      <td>0.303672</td>\n",
       "      <td>0.308771</td>\n",
       "      <td>0.318205</td>\n",
       "    </tr>\n",
       "  </tbody>\n",
       "</table>\n",
       "</div>"
      ],
      "text/plain": [
       "                 RusVectores  FastText      ELMO      BERT\n",
       "Accuracy            0.287608  0.303672  0.308771  0.318205\n",
       "Precision Macro     0.288244  0.301829  0.307374  0.317983\n",
       "Precision Micro     0.287608  0.303672  0.308771  0.318205\n",
       "F1 Macro            0.287345  0.301640  0.307148  0.317563\n",
       "F1 Micro            0.287608  0.303672  0.308771  0.318205"
      ]
     },
     "execution_count": 27,
     "metadata": {},
     "output_type": "execute_result"
    }
   ],
   "source": [
    "results = pd.DataFrame(data=results_dict, columns=list(embeddings.keys()), \\\n",
    "                       index=['Accuracy', 'Precision Macro', 'Precision Micro', 'F1 Macro', 'F1 Micro'])\n",
    "results"
   ]
  },
  {
   "cell_type": "markdown",
   "metadata": {},
   "source": [
    "# История"
   ]
  },
  {
   "cell_type": "code",
   "execution_count": 5,
   "metadata": {},
   "outputs": [
    {
     "data": {
      "text/plain": [
       "2498"
      ]
     },
     "execution_count": 5,
     "metadata": {},
     "output_type": "execute_result"
    }
   ],
   "source": [
    "hist_inds = []\n",
    "\n",
    "for i in range(len(data)):\n",
    "    if data.iloc[i,6] == 'История':\n",
    "        hist_inds.append(i)\n",
    "len(hist_inds)"
   ]
  },
  {
   "cell_type": "code",
   "execution_count": 6,
   "metadata": {},
   "outputs": [],
   "source": [
    "elmo_embs_hist = elmo_embs[hist_inds]\n",
    "bert_embs_hist = bert_embs[hist_inds]\n",
    "fasttext_embs_hist = fasttext_embs[hist_inds]\n",
    "rusvec_embs_hist = rusvec_embs[hist_inds]"
   ]
  },
  {
   "cell_type": "code",
   "execution_count": 7,
   "metadata": {},
   "outputs": [],
   "source": [
    "embeddings = {'RusVectores': rusvec_embs_hist, 'FastText': fasttext_embs_hist, 'ELMO': elmo_embs_hist, 'BERT': bert_embs_hist}\n",
    "data2 = data[data['label'] == 'История']"
   ]
  },
  {
   "cell_type": "code",
   "execution_count": 8,
   "metadata": {},
   "outputs": [
    {
     "name": "stderr",
     "output_type": "stream",
     "text": [
      "100% (4 of 4) |##########################| Elapsed Time: 0:00:34 Time:  0:00:34\n"
     ]
    }
   ],
   "source": [
    "results_dict = {}\n",
    "for key, embed in pb(embeddings.items()):\n",
    "    results_dict[key] = approach_logreg(data2, embed)"
   ]
  },
  {
   "cell_type": "code",
   "execution_count": 9,
   "metadata": {},
   "outputs": [
    {
     "data": {
      "text/html": [
       "<div>\n",
       "<style scoped>\n",
       "    .dataframe tbody tr th:only-of-type {\n",
       "        vertical-align: middle;\n",
       "    }\n",
       "\n",
       "    .dataframe tbody tr th {\n",
       "        vertical-align: top;\n",
       "    }\n",
       "\n",
       "    .dataframe thead th {\n",
       "        text-align: right;\n",
       "    }\n",
       "</style>\n",
       "<table border=\"1\" class=\"dataframe\">\n",
       "  <thead>\n",
       "    <tr style=\"text-align: right;\">\n",
       "      <th></th>\n",
       "      <th>RusVectores</th>\n",
       "      <th>FastText</th>\n",
       "      <th>ELMO</th>\n",
       "      <th>BERT</th>\n",
       "    </tr>\n",
       "  </thead>\n",
       "  <tbody>\n",
       "    <tr>\n",
       "      <th>Accuracy</th>\n",
       "      <td>0.280000</td>\n",
       "      <td>0.296000</td>\n",
       "      <td>0.318667</td>\n",
       "      <td>0.285333</td>\n",
       "    </tr>\n",
       "    <tr>\n",
       "      <th>Precision Macro</th>\n",
       "      <td>0.283367</td>\n",
       "      <td>0.294129</td>\n",
       "      <td>0.318767</td>\n",
       "      <td>0.284942</td>\n",
       "    </tr>\n",
       "    <tr>\n",
       "      <th>Precision Micro</th>\n",
       "      <td>0.280000</td>\n",
       "      <td>0.296000</td>\n",
       "      <td>0.318667</td>\n",
       "      <td>0.285333</td>\n",
       "    </tr>\n",
       "    <tr>\n",
       "      <th>F1 Macro</th>\n",
       "      <td>0.280170</td>\n",
       "      <td>0.293863</td>\n",
       "      <td>0.318622</td>\n",
       "      <td>0.284480</td>\n",
       "    </tr>\n",
       "    <tr>\n",
       "      <th>F1 Micro</th>\n",
       "      <td>0.280000</td>\n",
       "      <td>0.296000</td>\n",
       "      <td>0.318667</td>\n",
       "      <td>0.285333</td>\n",
       "    </tr>\n",
       "  </tbody>\n",
       "</table>\n",
       "</div>"
      ],
      "text/plain": [
       "                 RusVectores  FastText      ELMO      BERT\n",
       "Accuracy            0.280000  0.296000  0.318667  0.285333\n",
       "Precision Macro     0.283367  0.294129  0.318767  0.284942\n",
       "Precision Micro     0.280000  0.296000  0.318667  0.285333\n",
       "F1 Macro            0.280170  0.293863  0.318622  0.284480\n",
       "F1 Micro            0.280000  0.296000  0.318667  0.285333"
      ]
     },
     "execution_count": 9,
     "metadata": {},
     "output_type": "execute_result"
    }
   ],
   "source": [
    "results = pd.DataFrame(data=results_dict, columns=list(embeddings.keys()), \\\n",
    "                       index=['Accuracy', 'Precision Macro', 'Precision Micro', 'F1 Macro', 'F1 Micro'])\n",
    "results"
   ]
  },
  {
   "cell_type": "markdown",
   "metadata": {},
   "source": [
    "## Медицина"
   ]
  },
  {
   "cell_type": "code",
   "execution_count": 10,
   "metadata": {},
   "outputs": [
    {
     "data": {
      "text/plain": [
       "4013"
      ]
     },
     "execution_count": 10,
     "metadata": {},
     "output_type": "execute_result"
    }
   ],
   "source": [
    "med_inds = []\n",
    "\n",
    "for i in range(len(data)):\n",
    "    if data.iloc[i,6] == 'Медицина':\n",
    "        med_inds.append(i)\n",
    "len(med_inds)"
   ]
  },
  {
   "cell_type": "code",
   "execution_count": 11,
   "metadata": {},
   "outputs": [],
   "source": [
    "elmo_embs_med = elmo_embs[med_inds]\n",
    "bert_embs_med = bert_embs[med_inds]\n",
    "fasttext_embs_med = fasttext_embs[med_inds]\n",
    "rusvec_embs_med = rusvec_embs[med_inds]"
   ]
  },
  {
   "cell_type": "code",
   "execution_count": 12,
   "metadata": {},
   "outputs": [],
   "source": [
    "embeddings = {'RusVectores': rusvec_embs_med, 'FastText': fasttext_embs_med, 'ELMO': elmo_embs_med, 'BERT': bert_embs_med}\n",
    "data2 = data[data['label'] == 'Медицина']"
   ]
  },
  {
   "cell_type": "code",
   "execution_count": 14,
   "metadata": {},
   "outputs": [
    {
     "name": "stderr",
     "output_type": "stream",
     "text": [
      "100% (4 of 4) |##########################| Elapsed Time: 0:01:00 Time:  0:01:00\n"
     ]
    }
   ],
   "source": [
    "results_dict = {}\n",
    "for key, embed in pb(embeddings.items()):\n",
    "    results_dict[key] = approach_logreg(data2, embed)"
   ]
  },
  {
   "cell_type": "code",
   "execution_count": 15,
   "metadata": {},
   "outputs": [
    {
     "data": {
      "text/html": [
       "<div>\n",
       "<style scoped>\n",
       "    .dataframe tbody tr th:only-of-type {\n",
       "        vertical-align: middle;\n",
       "    }\n",
       "\n",
       "    .dataframe tbody tr th {\n",
       "        vertical-align: top;\n",
       "    }\n",
       "\n",
       "    .dataframe thead th {\n",
       "        text-align: right;\n",
       "    }\n",
       "</style>\n",
       "<table border=\"1\" class=\"dataframe\">\n",
       "  <thead>\n",
       "    <tr style=\"text-align: right;\">\n",
       "      <th></th>\n",
       "      <th>RusVectores</th>\n",
       "      <th>FastText</th>\n",
       "      <th>ELMO</th>\n",
       "      <th>BERT</th>\n",
       "    </tr>\n",
       "  </thead>\n",
       "  <tbody>\n",
       "    <tr>\n",
       "      <th>Accuracy</th>\n",
       "      <td>0.299834</td>\n",
       "      <td>0.343023</td>\n",
       "      <td>0.344684</td>\n",
       "      <td>0.335548</td>\n",
       "    </tr>\n",
       "    <tr>\n",
       "      <th>Precision Macro</th>\n",
       "      <td>0.300021</td>\n",
       "      <td>0.333593</td>\n",
       "      <td>0.338423</td>\n",
       "      <td>0.323557</td>\n",
       "    </tr>\n",
       "    <tr>\n",
       "      <th>Precision Micro</th>\n",
       "      <td>0.299834</td>\n",
       "      <td>0.343023</td>\n",
       "      <td>0.344684</td>\n",
       "      <td>0.335548</td>\n",
       "    </tr>\n",
       "    <tr>\n",
       "      <th>F1 Macro</th>\n",
       "      <td>0.294520</td>\n",
       "      <td>0.333505</td>\n",
       "      <td>0.335830</td>\n",
       "      <td>0.321993</td>\n",
       "    </tr>\n",
       "    <tr>\n",
       "      <th>F1 Micro</th>\n",
       "      <td>0.299834</td>\n",
       "      <td>0.343023</td>\n",
       "      <td>0.344684</td>\n",
       "      <td>0.335548</td>\n",
       "    </tr>\n",
       "  </tbody>\n",
       "</table>\n",
       "</div>"
      ],
      "text/plain": [
       "                 RusVectores  FastText      ELMO      BERT\n",
       "Accuracy            0.299834  0.343023  0.344684  0.335548\n",
       "Precision Macro     0.300021  0.333593  0.338423  0.323557\n",
       "Precision Micro     0.299834  0.343023  0.344684  0.335548\n",
       "F1 Macro            0.294520  0.333505  0.335830  0.321993\n",
       "F1 Micro            0.299834  0.343023  0.344684  0.335548"
      ]
     },
     "execution_count": 15,
     "metadata": {},
     "output_type": "execute_result"
    }
   ],
   "source": [
    "results = pd.DataFrame(data=results_dict, columns=list(embeddings.keys()), \\\n",
    "                       index=['Accuracy', 'Precision Macro', 'Precision Micro', 'F1 Macro', 'F1 Micro'])\n",
    "results"
   ]
  },
  {
   "cell_type": "markdown",
   "metadata": {},
   "source": [
    "## Биология"
   ]
  },
  {
   "cell_type": "code",
   "execution_count": 16,
   "metadata": {},
   "outputs": [
    {
     "data": {
      "text/plain": [
       "2184"
      ]
     },
     "execution_count": 16,
     "metadata": {},
     "output_type": "execute_result"
    }
   ],
   "source": [
    "bio_inds = []\n",
    "\n",
    "for i in range(len(data)):\n",
    "    if data.iloc[i,6] == 'Биология':\n",
    "        bio_inds.append(i)\n",
    "len(bio_inds)"
   ]
  },
  {
   "cell_type": "code",
   "execution_count": 17,
   "metadata": {},
   "outputs": [],
   "source": [
    "elmo_embs_bio = elmo_embs[bio_inds]\n",
    "bert_embs_bio = bert_embs[bio_inds]\n",
    "fasttext_embs_bio = fasttext_embs[bio_inds]\n",
    "rusvec_embs_bio = rusvec_embs[bio_inds]"
   ]
  },
  {
   "cell_type": "code",
   "execution_count": 18,
   "metadata": {},
   "outputs": [],
   "source": [
    "embeddings = {'RusVectores': rusvec_embs_bio, 'FastText': fasttext_embs_bio, 'ELMO': elmo_embs_bio, 'BERT': bert_embs_bio}\n",
    "data2 = data[data['label'] == 'Биология']"
   ]
  },
  {
   "cell_type": "code",
   "execution_count": 19,
   "metadata": {},
   "outputs": [
    {
     "name": "stderr",
     "output_type": "stream",
     "text": [
      "100% (4 of 4) |##########################| Elapsed Time: 0:00:26 Time:  0:00:26\n"
     ]
    }
   ],
   "source": [
    "results_dict = {}\n",
    "for key, embed in pb(embeddings.items()):\n",
    "    results_dict[key] = approach_logreg(data2, embed)"
   ]
  },
  {
   "cell_type": "code",
   "execution_count": 20,
   "metadata": {},
   "outputs": [
    {
     "data": {
      "text/html": [
       "<div>\n",
       "<style scoped>\n",
       "    .dataframe tbody tr th:only-of-type {\n",
       "        vertical-align: middle;\n",
       "    }\n",
       "\n",
       "    .dataframe tbody tr th {\n",
       "        vertical-align: top;\n",
       "    }\n",
       "\n",
       "    .dataframe thead th {\n",
       "        text-align: right;\n",
       "    }\n",
       "</style>\n",
       "<table border=\"1\" class=\"dataframe\">\n",
       "  <thead>\n",
       "    <tr style=\"text-align: right;\">\n",
       "      <th></th>\n",
       "      <th>RusVectores</th>\n",
       "      <th>FastText</th>\n",
       "      <th>ELMO</th>\n",
       "      <th>BERT</th>\n",
       "    </tr>\n",
       "  </thead>\n",
       "  <tbody>\n",
       "    <tr>\n",
       "      <th>Accuracy</th>\n",
       "      <td>0.309451</td>\n",
       "      <td>0.338415</td>\n",
       "      <td>0.280488</td>\n",
       "      <td>0.272866</td>\n",
       "    </tr>\n",
       "    <tr>\n",
       "      <th>Precision Macro</th>\n",
       "      <td>0.310827</td>\n",
       "      <td>0.337511</td>\n",
       "      <td>0.280388</td>\n",
       "      <td>0.272495</td>\n",
       "    </tr>\n",
       "    <tr>\n",
       "      <th>Precision Micro</th>\n",
       "      <td>0.309451</td>\n",
       "      <td>0.338415</td>\n",
       "      <td>0.280488</td>\n",
       "      <td>0.272866</td>\n",
       "    </tr>\n",
       "    <tr>\n",
       "      <th>F1 Macro</th>\n",
       "      <td>0.308527</td>\n",
       "      <td>0.337219</td>\n",
       "      <td>0.280434</td>\n",
       "      <td>0.273114</td>\n",
       "    </tr>\n",
       "    <tr>\n",
       "      <th>F1 Micro</th>\n",
       "      <td>0.309451</td>\n",
       "      <td>0.338415</td>\n",
       "      <td>0.280488</td>\n",
       "      <td>0.272866</td>\n",
       "    </tr>\n",
       "  </tbody>\n",
       "</table>\n",
       "</div>"
      ],
      "text/plain": [
       "                 RusVectores  FastText      ELMO      BERT\n",
       "Accuracy            0.309451  0.338415  0.280488  0.272866\n",
       "Precision Macro     0.310827  0.337511  0.280388  0.272495\n",
       "Precision Micro     0.309451  0.338415  0.280488  0.272866\n",
       "F1 Macro            0.308527  0.337219  0.280434  0.273114\n",
       "F1 Micro            0.309451  0.338415  0.280488  0.272866"
      ]
     },
     "execution_count": 20,
     "metadata": {},
     "output_type": "execute_result"
    }
   ],
   "source": [
    "results = pd.DataFrame(data=results_dict, columns=list(embeddings.keys()), \\\n",
    "                       index=['Accuracy', 'Precision Macro', 'Precision Micro', 'F1 Macro', 'F1 Micro'])\n",
    "results"
   ]
  },
  {
   "cell_type": "code",
   "execution_count": null,
   "metadata": {},
   "outputs": [],
   "source": []
  }
 ],
 "metadata": {
  "kernelspec": {
   "display_name": "Python 3",
   "language": "python",
   "name": "python3"
  },
  "language_info": {
   "codemirror_mode": {
    "name": "ipython",
    "version": 3
   },
   "file_extension": ".py",
   "mimetype": "text/x-python",
   "name": "python",
   "nbconvert_exporter": "python",
   "pygments_lexer": "ipython3",
   "version": "3.6.5"
  }
 },
 "nbformat": 4,
 "nbformat_minor": 2
}
