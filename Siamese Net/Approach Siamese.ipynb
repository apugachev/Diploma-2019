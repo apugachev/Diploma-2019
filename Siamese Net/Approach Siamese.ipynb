{
 "cells": [
  {
   "cell_type": "code",
   "execution_count": 1,
   "metadata": {
    "colab": {
     "base_uri": "https://localhost:8080/",
     "height": 34
    },
    "colab_type": "code",
    "id": "eQuX9vzrxD0H",
    "outputId": "996a00b8-8af9-4e6f-948c-c550eda121dc"
   },
   "outputs": [
    {
     "name": "stdout",
     "output_type": "stream",
     "text": [
      "Drive already mounted at /content/drive; to attempt to forcibly remount, call drive.mount(\"/content/drive\", force_remount=True).\n"
     ]
    }
   ],
   "source": [
    "from google.colab import drive\n",
    "drive.mount('/content/drive')"
   ]
  },
  {
   "cell_type": "code",
   "execution_count": 2,
   "metadata": {
    "colab": {
     "base_uri": "https://localhost:8080/",
     "height": 289
    },
    "colab_type": "code",
    "id": "u_RzQlVtw85u",
    "outputId": "16076f7f-42f2-4ab8-eb70-6223c3fe1954"
   },
   "outputs": [
    {
     "data": {
      "text/html": [
       "<div>\n",
       "<style scoped>\n",
       "    .dataframe tbody tr th:only-of-type {\n",
       "        vertical-align: middle;\n",
       "    }\n",
       "\n",
       "    .dataframe tbody tr th {\n",
       "        vertical-align: top;\n",
       "    }\n",
       "\n",
       "    .dataframe thead th {\n",
       "        text-align: right;\n",
       "    }\n",
       "</style>\n",
       "<table border=\"1\" class=\"dataframe\">\n",
       "  <thead>\n",
       "    <tr style=\"text-align: right;\">\n",
       "      <th></th>\n",
       "      <th>0</th>\n",
       "      <th>1</th>\n",
       "      <th>2</th>\n",
       "      <th>3</th>\n",
       "      <th>4</th>\n",
       "      <th>5</th>\n",
       "      <th>label</th>\n",
       "    </tr>\n",
       "  </thead>\n",
       "  <tbody>\n",
       "    <tr>\n",
       "      <th>0</th>\n",
       "      <td>Совещательный орган при императоре в начале XX в</td>\n",
       "      <td>Сенат</td>\n",
       "      <td>Государственный совет</td>\n",
       "      <td>Консилия министров</td>\n",
       "      <td>Верховный тайный совет</td>\n",
       "      <td>2</td>\n",
       "      <td>История</td>\n",
       "    </tr>\n",
       "    <tr>\n",
       "      <th>1</th>\n",
       "      <td>Министр внутренних дел с 1904 г либерал автор ...</td>\n",
       "      <td>Лорис Меликов</td>\n",
       "      <td>Святополк Мирский</td>\n",
       "      <td>Милюков</td>\n",
       "      <td>Витте</td>\n",
       "      <td>2</td>\n",
       "      <td>История</td>\n",
       "    </tr>\n",
       "    <tr>\n",
       "      <th>2</th>\n",
       "      <td>Какое из названных событий произошло 27 января...</td>\n",
       "      <td>подрыв флагманского корабля Петропавловск</td>\n",
       "      <td>высадка японских войск на Ляодунском полуострове</td>\n",
       "      <td>героический бой Варяга и Корейца</td>\n",
       "      <td>заключение Портсмутского мирного договора</td>\n",
       "      <td>3</td>\n",
       "      <td>История</td>\n",
       "    </tr>\n",
       "    <tr>\n",
       "      <th>3</th>\n",
       "      <td>Что из названного относится к результатам перв...</td>\n",
       "      <td>появление многопартийности</td>\n",
       "      <td>формирование конституционной монархии</td>\n",
       "      <td>ликвидация сословного строя</td>\n",
       "      <td>введение рабочего контроля за производством</td>\n",
       "      <td>1</td>\n",
       "      <td>История</td>\n",
       "    </tr>\n",
       "    <tr>\n",
       "      <th>4</th>\n",
       "      <td>Творчество поэтов Гумилева Ахматовой Мандельшт...</td>\n",
       "      <td>акмеизму</td>\n",
       "      <td>футуризму</td>\n",
       "      <td>импрессионизму</td>\n",
       "      <td>реализму</td>\n",
       "      <td>1</td>\n",
       "      <td>История</td>\n",
       "    </tr>\n",
       "  </tbody>\n",
       "</table>\n",
       "</div>"
      ],
      "text/plain": [
       "                                                   0  \\\n",
       "0   Совещательный орган при императоре в начале XX в   \n",
       "1  Министр внутренних дел с 1904 г либерал автор ...   \n",
       "2  Какое из названных событий произошло 27 января...   \n",
       "3  Что из названного относится к результатам перв...   \n",
       "4  Творчество поэтов Гумилева Ахматовой Мандельшт...   \n",
       "\n",
       "                                           1  \\\n",
       "0                                      Сенат   \n",
       "1                              Лорис Меликов   \n",
       "2  подрыв флагманского корабля Петропавловск   \n",
       "3                 появление многопартийности   \n",
       "4                                   акмеизму   \n",
       "\n",
       "                                                  2  \\\n",
       "0                             Государственный совет   \n",
       "1                                 Святополк Мирский   \n",
       "2  высадка японских войск на Ляодунском полуострове   \n",
       "3             формирование конституционной монархии   \n",
       "4                                         футуризму   \n",
       "\n",
       "                                  3  \\\n",
       "0                Консилия министров   \n",
       "1                           Милюков   \n",
       "2  героический бой Варяга и Корейца   \n",
       "3       ликвидация сословного строя   \n",
       "4                    импрессионизму   \n",
       "\n",
       "                                             4  5    label  \n",
       "0                       Верховный тайный совет  2  История  \n",
       "1                                        Витте  2  История  \n",
       "2    заключение Портсмутского мирного договора  3  История  \n",
       "3  введение рабочего контроля за производством  1  История  \n",
       "4                                     реализму  1  История  "
      ]
     },
     "execution_count": 2,
     "metadata": {
      "tags": []
     },
     "output_type": "execute_result"
    }
   ],
   "source": [
    "import pandas as pd\n",
    "import numpy as np\n",
    "%matplotlib inline\n",
    "from IPython.display import clear_output\n",
    "import matplotlib.pyplot as plt\n",
    "from progressbar import progressbar as pb\n",
    "\n",
    "data = pd.read_csv('/content/drive/My Drive/Embeddings/big_data_labels.csv', index_col=False)\n",
    "data.head()"
   ]
  },
  {
   "cell_type": "code",
   "execution_count": 0,
   "metadata": {
    "colab": {},
    "colab_type": "code",
    "id": "L5oGSuCZw85x"
   },
   "outputs": [],
   "source": [
    "import pickle\n",
    "\n",
    "with open('/content/drive/My Drive/Embeddings/elmo_embed_big.pickle', 'rb') as f:\n",
    "    elmo_embs = pickle.load(f)\n",
    "\n",
    "elmo_embs = np.array(elmo_embs)\n",
    "\n",
    "with open('/content/drive/My Drive/Embeddings/bert_embed_big.pickle', 'rb') as f:\n",
    "    bert_embs = pickle.load(f)\n",
    "\n",
    "bert_embs = np.array(bert_embs)\n",
    "\n",
    "with open('/content/drive/My Drive/Embeddings/fasttext_embed_big.pickle', 'rb') as f:\n",
    "    fasttext_embs = pickle.load(f)\n",
    "\n",
    "fasttext_embs = np.array(fasttext_embs)\n",
    "\n",
    "with open('/content/drive/My Drive/Embeddings/rusvec_embed_big.pickle', 'rb') as f:\n",
    "    rusvec_embs = pickle.load(f)\n",
    "\n",
    "rusvec_embs = np.array(rusvec_embs)"
   ]
  },
  {
   "cell_type": "code",
   "execution_count": 0,
   "metadata": {
    "colab": {},
    "colab_type": "code",
    "id": "7VaDWiRkw850"
   },
   "outputs": [],
   "source": [
    "def get_samples(data, embeddings, train_part=0.75):\n",
    "    predata = np.zeros((embeddings.shape[0] * 4, embeddings.shape[2] * 2))\n",
    "    target = []\n",
    "\n",
    "    for i in range(len(data)):\n",
    "        for j in range(1,5):\n",
    "            cur_targ = 1 if j == int(data.iloc[i,5]) else 0\n",
    "            cur_vec = np.hstack((embeddings[i,0], embeddings[i,j]))\n",
    "            predata[i*4+j-1] = cur_vec\n",
    "            target.append(cur_targ)\n",
    "            \n",
    "    all_inds = np.arange(embeddings.shape[0])\n",
    "    train_size = int(len(all_inds) * train_part)\n",
    "    train_inds = np.random.choice(all_inds, size=train_size, replace=False)\n",
    "    test_inds = np.array(list(set(all_inds) - set(train_inds)))\n",
    "    \n",
    "    X_train, X_test, y_train, y_test = [],[],[],[]\n",
    "\n",
    "    for i in range(len(train_inds)):\n",
    "        for j in range(4):\n",
    "            X_train.append(predata[train_inds[i] * 4 + j])\n",
    "            y_train.append(target[train_inds[i] * 4 + j])\n",
    "\n",
    "    for i in range(len(test_inds)):\n",
    "        for j in range(4):\n",
    "            X_test.append(predata[test_inds[i] * 4 + j])\n",
    "            y_test.append(target[test_inds[i] * 4 + j])\n",
    "            \n",
    "    return np.array(X_train), np.array(X_test), np.array(y_train), np.array(y_test)"
   ]
  },
  {
   "cell_type": "code",
   "execution_count": 0,
   "metadata": {
    "colab": {},
    "colab_type": "code",
    "id": "q5QEZxDDw854"
   },
   "outputs": [],
   "source": [
    "def get_batch(X_val, y_val, batch_sz=16):\n",
    "    X_batches, y_batches = [], []\n",
    "    \n",
    "    samples_num = len(X_val) // 4\n",
    "    samples_inds = np.arange(samples_num)\n",
    "    np.random.shuffle(samples_inds)\n",
    "    \n",
    "    cur_x, cur_y = [], []\n",
    "    \n",
    "    for i, cur_ind in enumerate(samples_inds):\n",
    "        if i % batch_sz < batch_sz-1:\n",
    "            cur_x.extend(X_val[cur_ind:cur_ind+4])\n",
    "            cur_y.extend(y_val[cur_ind:cur_ind+4])\n",
    "        else:\n",
    "            cur_x.extend(X_val[cur_ind:cur_ind+4])\n",
    "            cur_y.extend(y_val[cur_ind:cur_ind+4])\n",
    "            X_batches.append(cur_x)\n",
    "            y_batches.append(cur_y)\n",
    "            cur_x, cur_y = [], []\n",
    "            \n",
    "    X_batches.append(cur_x)\n",
    "    y_batches.append(cur_y)\n",
    "    \n",
    "    return np.array(X_batches), np.array(y_batches)"
   ]
  },
  {
   "cell_type": "code",
   "execution_count": 0,
   "metadata": {
    "colab": {},
    "colab_type": "code",
    "id": "jUaVL4eDw856"
   },
   "outputs": [],
   "source": [
    "from sklearn.metrics import accuracy_score, precision_score, f1_score\n",
    "\n",
    "def get_score(preds, targets):\n",
    "    preds, targets = np.concatenate(preds, axis=0), np.concatenate(targets, axis=0)\n",
    "    y_pred_splitted, y_target_splitted = [], []\n",
    "    \n",
    "    for i in range(len(preds) // 4):\n",
    "        y_pred_splitted.append(np.argmax(preds[i*4:i*4+4]))\n",
    "        y_target_splitted.append(np.argmax(targets[i*4:i*4+4]))\n",
    "        \n",
    "        \n",
    "    accuracy = accuracy_score(y_target_splitted, y_pred_splitted)\n",
    "    precision_macro = precision_score(y_target_splitted, y_pred_splitted, average='macro')\n",
    "    precision_micro = precision_score(y_target_splitted, y_pred_splitted, average='micro')\n",
    "    f1_macro = f1_score(y_target_splitted, y_pred_splitted, average='macro')\n",
    "    f1_micro = f1_score(y_target_splitted, y_pred_splitted, average='micro')\n",
    "    \n",
    "    return accuracy, precision_macro, precision_micro, f1_macro, f1_micro"
   ]
  },
  {
   "cell_type": "code",
   "execution_count": 0,
   "metadata": {
    "colab": {},
    "colab_type": "code",
    "id": "qxau0iGAw858"
   },
   "outputs": [],
   "source": [
    "import torch\n",
    "import torch.nn as nn\n",
    "\n",
    "class SiameseNet(nn.Module):\n",
    "    def __init__(self, embed_size):\n",
    "        super().__init__()\n",
    "        self.left = nn.Sequential(\n",
    "                                nn.Linear(embed_size, embed_size * 3 // 4),\n",
    "                                nn.ReLU(),\n",
    "                                nn.Dropout(0.3),\n",
    "                                nn.Linear(embed_size * 3 // 4, embed_size // 2),\n",
    "                                nn.ReLU(),\n",
    "                                nn.Dropout(0.3))\n",
    "            \n",
    "        self.right = nn.Sequential(\n",
    "                                nn.Linear(embed_size, embed_size * 3 // 4),\n",
    "                                nn.ReLU(),\n",
    "                                nn.Dropout(0.3),\n",
    "                                nn.Linear(embed_size * 3 // 4, embed_size // 2),\n",
    "                                nn.ReLU(),\n",
    "                                nn.Dropout(0.3))\n",
    "        \n",
    "        self.center = nn.Sequential(\n",
    "                                nn.Linear(embed_size, embed_size // 2),\n",
    "                                nn.ReLU(),\n",
    "                                nn.Dropout(0.3),\n",
    "                                nn.Linear(embed_size // 2, embed_size // 4),\n",
    "                                nn.ReLU(),\n",
    "                                nn.Dropout(0.3),\n",
    "                                nn.Linear(embed_size // 4, 1),\n",
    "                                nn.Sigmoid())\n",
    "            \n",
    "    def forward(self, q, a):\n",
    "        left = self.left(q)\n",
    "        right = self.right(a)\n",
    "        x = torch.cat((left, right), 1)\n",
    "        out = self.center(x)\n",
    "        \n",
    "        return out"
   ]
  },
  {
   "cell_type": "code",
   "execution_count": 0,
   "metadata": {
    "colab": {},
    "colab_type": "code",
    "id": "vqkKw7dqw85-"
   },
   "outputs": [],
   "source": [
    "def train(model, optimizer, X_train, y_train, batch_size):\n",
    "    train_loss, all_preds, all_tests = [], [], []\n",
    "    model.train()\n",
    "    \n",
    "    X_batches, y_batches = get_batch(X_train, y_train, batch_size)\n",
    "\n",
    "    for batch in zip(X_batches, y_batches):\n",
    "        X_batch, y_batch = batch\n",
    "        X_batch, y_batch = np.array(X_batch), np.array(y_batch)\n",
    "        embed_shape_tr = X_batch.shape[1] // 2\n",
    "        \n",
    "        X_batch = torch.from_numpy(X_batch).type(torch.cuda.FloatTensor)\n",
    "        y_batch = torch.from_numpy(y_batch).type(torch.cuda.LongTensor)\n",
    "    \n",
    "        optimizer.zero_grad()\n",
    "        y_pred = model(X_batch[:,:embed_shape_tr], X_batch[:, embed_shape_tr:])[:,0]\n",
    "\n",
    "        loss = loss_fn(y_pred, y_batch.type(torch.cuda.FloatTensor))\n",
    "        \n",
    "        train_loss.append(loss.item())\n",
    "        \n",
    "        loss.backward()\n",
    "        optimizer.step()\n",
    "        \n",
    "        all_preds.append(y_pred.detach().cpu().numpy())\n",
    "        all_tests.append(y_batch.cpu().numpy())\n",
    "    \n",
    "    score = get_score(np.array(all_preds), np.array(all_tests))\n",
    "        \n",
    "    return np.mean(train_loss), list(score)"
   ]
  },
  {
   "cell_type": "code",
   "execution_count": 0,
   "metadata": {
    "colab": {},
    "colab_type": "code",
    "id": "8rvXfvCow86A"
   },
   "outputs": [],
   "source": [
    "def validate(model, optimizer, X_test, y_test, batch_size):\n",
    "    val_loss, all_preds, all_tests = [], [], []\n",
    "    model.eval()\n",
    "    \n",
    "    X_batches, y_batches = get_batch(X_test, y_test, batch_size)\n",
    "  \n",
    "    \n",
    "    for batch in zip(X_batches, y_batches):\n",
    "        X_batch, y_batch = batch\n",
    "        X_batch, y_batch = np.array(X_batch), np.array(y_batch)\n",
    "        embed_shape_tr = X_batch.shape[1] // 2\n",
    "        \n",
    "        X_batch = torch.from_numpy(X_batch).type(torch.cuda.FloatTensor)\n",
    "        y_batch = torch.from_numpy(y_batch).type(torch.cuda.LongTensor)\n",
    "    \n",
    "        y_pred = model(X_batch[:,:embed_shape_tr], X_batch[:, embed_shape_tr:])[:,0]\n",
    "        \n",
    "        loss = loss_fn(y_pred, y_batch.type(torch.cuda.FloatTensor))\n",
    "        \n",
    "        val_loss.append(loss.item())\n",
    "        all_preds.append(y_pred.detach().cpu().numpy())\n",
    "        all_tests.append(y_batch.cpu().numpy())\n",
    "        \n",
    "    score = get_score(np.array(all_preds), np.array(all_tests))\n",
    "        \n",
    "    return np.mean(val_loss), list(score)"
   ]
  },
  {
   "cell_type": "code",
   "execution_count": 0,
   "metadata": {
    "colab": {},
    "colab_type": "code",
    "id": "6_vt48ikw86C"
   },
   "outputs": [],
   "source": [
    "def launch_net(model, optimizer, X_train, y_train, X_test, y_test,\n",
    "               train_batch=64, test_batch=16, epochs=25, graph=False):\n",
    "    all_train_loss, all_val_loss = [], []\n",
    "    all_train_acc, all_val_acc = [], []\n",
    "    all_scores = []\n",
    "    max_acc = 0\n",
    "\n",
    "    for epoch in pb(range(epochs)):\n",
    "        cur_train = train(model, optimizer, X_train, y_train, train_batch)\n",
    "        cur_val = validate(model, optimizer, X_test, y_test, test_batch)\n",
    "        all_train_loss.append(cur_train[0])\n",
    "        all_train_acc.append(cur_train[1][0])\n",
    "        all_val_loss.append(cur_val[0])\n",
    "        all_val_acc.append(cur_val[1][0])\n",
    "        all_scores.append(cur_val[1])\n",
    "        max_acc = cur_val[1][0] if cur_val[1][0] > max_acc else max_acc\n",
    "        clear_output()\n",
    "        print('Epoch {}:'.format(epoch+1))\n",
    "        print(\"Train loss: {}\".format(cur_train[0]))\n",
    "        print(\"Validation loss: {}\".format(cur_val[0]))\n",
    "        print(\"Train accuracy: {}\".format(cur_train[1][0]))\n",
    "        print(\"Validation accuracy: {}\".format(cur_val[1][0]))\n",
    "        print(\"Max validation accuracy: {}\".format(max_acc))\n",
    "        \n",
    "        if graph:\n",
    "          f, axarr = plt.subplots(1,2, figsize=(20,10))\n",
    "\n",
    "          axarr[0].plot(all_train_loss, label='Train loss')\n",
    "          axarr[0].plot(all_val_loss, label='Val loss')\n",
    "          axarr[0].grid()\n",
    "          axarr[0].legend(fontsize=15)\n",
    "          axarr[0].set_title('Loss after epoch #{}'.format(epoch+1), size=15)\n",
    "\n",
    "          axarr[1].plot(all_train_acc, label='Train accuracy')\n",
    "          axarr[1].plot(all_val_acc, label='Val accuracy')\n",
    "          axarr[1].grid()\n",
    "          axarr[1].legend(fontsize=15)\n",
    "          axarr[1].set_title('Accuracy after epoch #{}'.format(epoch+1), size=15)\n",
    "          plt.show()\n",
    "        \n",
    "    all_scores = np.max(np.array(all_scores), axis=0)\n",
    "    return all_scores"
   ]
  },
  {
   "cell_type": "code",
   "execution_count": 0,
   "metadata": {
    "colab": {},
    "colab_type": "code",
    "id": "Jv4Vox14THLE"
   },
   "outputs": [],
   "source": [
    "results_dict = {'RusVectores': [], 'FastText': [], 'ELMO': [], 'BERT': []}\n",
    "epochs = 20"
   ]
  },
  {
   "cell_type": "markdown",
   "metadata": {
    "colab_type": "text",
    "id": "_tJJonlLw86E"
   },
   "source": [
    "## Fasttext"
   ]
  },
  {
   "cell_type": "code",
   "execution_count": 0,
   "metadata": {
    "colab": {},
    "colab_type": "code",
    "id": "OHAP_P4Qw86E"
   },
   "outputs": [],
   "source": [
    "embeddings = fasttext_embs\n",
    "X_train, X_test, y_train, y_test = get_samples(data, embeddings)"
   ]
  },
  {
   "cell_type": "code",
   "execution_count": 0,
   "metadata": {
    "colab": {},
    "colab_type": "code",
    "id": "p9jtrzWiw86G"
   },
   "outputs": [],
   "source": [
    "model = SiameseNet(embeddings.shape[2]).cuda()\n",
    "optimizer = torch.optim.Adam(model.parameters())\n",
    "loss_fn = nn.BCELoss()"
   ]
  },
  {
   "cell_type": "code",
   "execution_count": 14,
   "metadata": {
    "colab": {
     "base_uri": "https://localhost:8080/",
     "height": 136
    },
    "colab_type": "code",
    "id": "2mxuD-gGw86J",
    "outputId": "dbe21734-fe93-4f4c-c729-5dc567773b37",
    "scrolled": false
   },
   "outputs": [
    {
     "name": "stderr",
     "output_type": "stream",
     "text": [
      "\r",
      "                                                                               \r",
      "\r",
      "100% (20 of 20) |########################| Elapsed Time: 0:00:20 Time:  0:00:20\n"
     ]
    },
    {
     "name": "stdout",
     "output_type": "stream",
     "text": [
      "Epoch 20:\n",
      "Train loss: 0.14117038903104795\n",
      "Validation loss: 1.9016134706939138\n",
      "Train accuracy: 0.7611179110567116\n",
      "Validation accuracy: 0.33190578158458245\n",
      "Max validation accuracy: 0.3435301315386968\n"
     ]
    }
   ],
   "source": [
    "results = launch_net(model, optimizer, X_train, y_train, X_test, y_test, 64, 16, epochs)\n",
    "results_dict['FastText'] = results"
   ]
  },
  {
   "cell_type": "markdown",
   "metadata": {
    "colab_type": "text",
    "id": "bJ8BOZpOw86S"
   },
   "source": [
    "## ELMO"
   ]
  },
  {
   "cell_type": "code",
   "execution_count": 0,
   "metadata": {
    "colab": {},
    "colab_type": "code",
    "id": "KtfV4TJuw86T"
   },
   "outputs": [],
   "source": [
    "embeddings = elmo_embs\n",
    "X_train, X_test, y_train, y_test = get_samples(data, embeddings)"
   ]
  },
  {
   "cell_type": "code",
   "execution_count": 0,
   "metadata": {
    "colab": {},
    "colab_type": "code",
    "id": "8hnAMnZtw86W"
   },
   "outputs": [],
   "source": [
    "model = SiameseNet(embeddings.shape[2]).cuda()\n",
    "optimizer = torch.optim.Adam(model.parameters())\n",
    "loss_fn = nn.BCELoss()"
   ]
  },
  {
   "cell_type": "code",
   "execution_count": 17,
   "metadata": {
    "colab": {
     "base_uri": "https://localhost:8080/",
     "height": 136
    },
    "colab_type": "code",
    "id": "-HBQGyYAw86Z",
    "outputId": "a631c7b8-fc15-476e-df1b-3677d1ec60d9"
   },
   "outputs": [
    {
     "name": "stderr",
     "output_type": "stream",
     "text": [
      "\r",
      "                                                                               \r",
      "\r",
      "100% (20 of 20) |########################| Elapsed Time: 0:00:38 Time:  0:00:38\n"
     ]
    },
    {
     "name": "stdout",
     "output_type": "stream",
     "text": [
      "Epoch 20:\n",
      "Train loss: 0.08006460126489401\n",
      "Validation loss: 2.205169639354799\n",
      "Train accuracy: 0.7833537331701347\n",
      "Validation accuracy: 0.330070357907617\n",
      "Max validation accuracy: 0.3410828999694096\n"
     ]
    }
   ],
   "source": [
    "results = launch_net(model, optimizer, X_train, y_train, X_test, y_test, 64, 16, epochs)\n",
    "results_dict['ELMO'] = results"
   ]
  },
  {
   "cell_type": "markdown",
   "metadata": {
    "colab_type": "text",
    "id": "WYnfTRUgw86i"
   },
   "source": [
    "## BERT"
   ]
  },
  {
   "cell_type": "code",
   "execution_count": 0,
   "metadata": {
    "colab": {},
    "colab_type": "code",
    "id": "rS80sBynw86i"
   },
   "outputs": [],
   "source": [
    "embeddings = bert_embs\n",
    "X_train, X_test, y_train, y_test = get_samples(data, embeddings)"
   ]
  },
  {
   "cell_type": "code",
   "execution_count": 0,
   "metadata": {
    "colab": {},
    "colab_type": "code",
    "id": "ECP60EuVw86k"
   },
   "outputs": [],
   "source": [
    "model = SiameseNet(embeddings.shape[2]).cuda()\n",
    "optimizer = torch.optim.Adam(model.parameters())\n",
    "loss_fn = nn.BCELoss()"
   ]
  },
  {
   "cell_type": "code",
   "execution_count": 30,
   "metadata": {
    "colab": {
     "base_uri": "https://localhost:8080/",
     "height": 136
    },
    "colab_type": "code",
    "id": "_VIevG6Tw86l",
    "outputId": "d5b3782f-1d96-411a-9099-464d036a9f61"
   },
   "outputs": [
    {
     "name": "stderr",
     "output_type": "stream",
     "text": [
      "\r",
      "                                                                               \r",
      "\r",
      "100% (20 of 20) |########################| Elapsed Time: 0:00:27 Time:  0:00:27\n"
     ]
    },
    {
     "name": "stdout",
     "output_type": "stream",
     "text": [
      "Epoch 20:\n",
      "Train loss: 0.17287928373976189\n",
      "Validation loss: 1.510831158335616\n",
      "Train accuracy: 0.7447980416156671\n",
      "Validation accuracy: 0.3049862343224228\n",
      "Max validation accuracy: 0.31263383297644537\n"
     ]
    }
   ],
   "source": [
    "results = launch_net(model, optimizer, X_train, y_train, X_test, y_test, 64, 16, epochs)\n",
    "results_dict['BERT'] = results"
   ]
  },
  {
   "cell_type": "markdown",
   "metadata": {
    "colab_type": "text",
    "id": "5tmqC5GNw86v"
   },
   "source": [
    "## RusVectores"
   ]
  },
  {
   "cell_type": "code",
   "execution_count": 0,
   "metadata": {
    "colab": {},
    "colab_type": "code",
    "id": "bj-i1yoYw86v"
   },
   "outputs": [],
   "source": [
    "embeddings = rusvec_embs\n",
    "X_train, X_test, y_train, y_test = get_samples(data, embeddings)"
   ]
  },
  {
   "cell_type": "code",
   "execution_count": 0,
   "metadata": {
    "colab": {},
    "colab_type": "code",
    "id": "MVw8hDiiw86x"
   },
   "outputs": [],
   "source": [
    "model = SiameseNet(embeddings.shape[2]).cuda()\n",
    "optimizer = torch.optim.Adam(model.parameters())\n",
    "loss_fn = nn.BCELoss()"
   ]
  },
  {
   "cell_type": "code",
   "execution_count": 23,
   "metadata": {
    "colab": {
     "base_uri": "https://localhost:8080/",
     "height": 136
    },
    "colab_type": "code",
    "id": "YwVkvEzpw86z",
    "outputId": "0da12cb5-b7df-4788-c97e-9e35141b7e82"
   },
   "outputs": [
    {
     "name": "stderr",
     "output_type": "stream",
     "text": [
      "\r",
      "                                                                               \r",
      "\r",
      "100% (20 of 20) |########################| Elapsed Time: 0:00:24 Time:  0:00:24\n"
     ]
    },
    {
     "name": "stdout",
     "output_type": "stream",
     "text": [
      "Epoch 20:\n",
      "Train loss: 0.20294037054885516\n",
      "Validation loss: 1.8476384843437417\n",
      "Train accuracy: 0.6971644226846185\n",
      "Validation accuracy: 0.28785561333741205\n",
      "Max validation accuracy: 0.30926888956867543\n"
     ]
    }
   ],
   "source": [
    "results = launch_net(model, optimizer, X_train, y_train, X_test, y_test, 64, 32, epochs)\n",
    "results_dict['RusVectores'] = results"
   ]
  },
  {
   "cell_type": "code",
   "execution_count": 31,
   "metadata": {
    "colab": {
     "base_uri": "https://localhost:8080/",
     "height": 204
    },
    "colab_type": "code",
    "id": "2_It1lxHw863",
    "outputId": "320846b2-552b-4c73-da42-16101ba34ae5"
   },
   "outputs": [
    {
     "data": {
      "text/html": [
       "<div>\n",
       "<style scoped>\n",
       "    .dataframe tbody tr th:only-of-type {\n",
       "        vertical-align: middle;\n",
       "    }\n",
       "\n",
       "    .dataframe tbody tr th {\n",
       "        vertical-align: top;\n",
       "    }\n",
       "\n",
       "    .dataframe thead th {\n",
       "        text-align: right;\n",
       "    }\n",
       "</style>\n",
       "<table border=\"1\" class=\"dataframe\">\n",
       "  <thead>\n",
       "    <tr style=\"text-align: right;\">\n",
       "      <th></th>\n",
       "      <th>RusVectores</th>\n",
       "      <th>FastText</th>\n",
       "      <th>ELMO</th>\n",
       "      <th>BERT</th>\n",
       "    </tr>\n",
       "  </thead>\n",
       "  <tbody>\n",
       "    <tr>\n",
       "      <th>Accuracy</th>\n",
       "      <td>0.309269</td>\n",
       "      <td>0.343530</td>\n",
       "      <td>0.341083</td>\n",
       "      <td>0.312634</td>\n",
       "    </tr>\n",
       "    <tr>\n",
       "      <th>Precision Macro</th>\n",
       "      <td>0.301699</td>\n",
       "      <td>0.340899</td>\n",
       "      <td>0.341841</td>\n",
       "      <td>0.312338</td>\n",
       "    </tr>\n",
       "    <tr>\n",
       "      <th>Precision Micro</th>\n",
       "      <td>0.309269</td>\n",
       "      <td>0.343530</td>\n",
       "      <td>0.341083</td>\n",
       "      <td>0.312634</td>\n",
       "    </tr>\n",
       "    <tr>\n",
       "      <th>F1 Macro</th>\n",
       "      <td>0.298062</td>\n",
       "      <td>0.336091</td>\n",
       "      <td>0.335623</td>\n",
       "      <td>0.305735</td>\n",
       "    </tr>\n",
       "    <tr>\n",
       "      <th>F1 Micro</th>\n",
       "      <td>0.309269</td>\n",
       "      <td>0.343530</td>\n",
       "      <td>0.341083</td>\n",
       "      <td>0.312634</td>\n",
       "    </tr>\n",
       "  </tbody>\n",
       "</table>\n",
       "</div>"
      ],
      "text/plain": [
       "                 RusVectores  FastText      ELMO      BERT\n",
       "Accuracy            0.309269  0.343530  0.341083  0.312634\n",
       "Precision Macro     0.301699  0.340899  0.341841  0.312338\n",
       "Precision Micro     0.309269  0.343530  0.341083  0.312634\n",
       "F1 Macro            0.298062  0.336091  0.335623  0.305735\n",
       "F1 Micro            0.309269  0.343530  0.341083  0.312634"
      ]
     },
     "execution_count": 31,
     "metadata": {
      "tags": []
     },
     "output_type": "execute_result"
    }
   ],
   "source": [
    "results = pd.DataFrame(data=results_dict, columns=list(results_dict.keys()), \\\n",
    "                       index=['Accuracy', 'Precision Macro', 'Precision Micro', 'F1 Macro', 'F1 Micro'])\n",
    "results"
   ]
  },
  {
   "cell_type": "markdown",
   "metadata": {
    "colab_type": "text",
    "id": "w34AxhyExIdG"
   },
   "source": [
    "# История"
   ]
  },
  {
   "cell_type": "code",
   "execution_count": 32,
   "metadata": {
    "colab": {
     "base_uri": "https://localhost:8080/",
     "height": 34
    },
    "colab_type": "code",
    "id": "2ax78oULxZjB",
    "outputId": "0c02a6fe-6298-475c-a428-2ad3ae183cd6"
   },
   "outputs": [
    {
     "data": {
      "text/plain": [
       "2498"
      ]
     },
     "execution_count": 32,
     "metadata": {
      "tags": []
     },
     "output_type": "execute_result"
    }
   ],
   "source": [
    "hist_inds = []\n",
    "\n",
    "for i in range(len(data)):\n",
    "  if data.iloc[i,6] == 'История':\n",
    "    hist_inds.append(i)\n",
    "len(hist_inds)"
   ]
  },
  {
   "cell_type": "code",
   "execution_count": 0,
   "metadata": {
    "colab": {},
    "colab_type": "code",
    "id": "lZ8N-Itoxc8Q"
   },
   "outputs": [],
   "source": [
    "elmo_embs_hist = elmo_embs[hist_inds]\n",
    "bert_embs_hist = bert_embs[hist_inds]\n",
    "fasttext_embs_hist = fasttext_embs[hist_inds]\n",
    "rusvec_embs_hist = rusvec_embs[hist_inds]"
   ]
  },
  {
   "cell_type": "code",
   "execution_count": 0,
   "metadata": {
    "colab": {},
    "colab_type": "code",
    "id": "Ags-HLnXxoO3"
   },
   "outputs": [],
   "source": [
    "results_dict = {'RusVectores': [], 'FastText': [], 'ELMO': [], 'BERT': []}\n",
    "data2 = data[data['label'] == 'История']\n",
    "epochs = 20"
   ]
  },
  {
   "cell_type": "markdown",
   "metadata": {
    "colab_type": "text",
    "id": "0DLpau7yxLBi"
   },
   "source": [
    "## FastText"
   ]
  },
  {
   "cell_type": "code",
   "execution_count": 0,
   "metadata": {
    "colab": {},
    "colab_type": "code",
    "id": "4duX012pVrr0"
   },
   "outputs": [],
   "source": [
    "embeddings = fasttext_embs_hist\n",
    "X_train, X_test, y_train, y_test = get_samples(data2, embeddings)"
   ]
  },
  {
   "cell_type": "code",
   "execution_count": 0,
   "metadata": {
    "colab": {},
    "colab_type": "code",
    "id": "yBizIaYHxt2P"
   },
   "outputs": [],
   "source": [
    "model = SiameseNet(embeddings.shape[2]).cuda()\n",
    "optimizer = torch.optim.Adam(model.parameters())\n",
    "loss_fn = nn.BCELoss()"
   ]
  },
  {
   "cell_type": "code",
   "execution_count": 37,
   "metadata": {
    "colab": {
     "base_uri": "https://localhost:8080/",
     "height": 136
    },
    "colab_type": "code",
    "id": "KeGef3tqx7Et",
    "outputId": "40a0b1ae-338f-42f2-e23f-95bd7efcc446"
   },
   "outputs": [
    {
     "name": "stderr",
     "output_type": "stream",
     "text": [
      "\r",
      "                                                                               \r",
      "\r",
      "100% (20 of 20) |########################| Elapsed Time: 0:00:04 Time:  0:00:04"
     ]
    },
    {
     "name": "stdout",
     "output_type": "stream",
     "text": [
      "Epoch 20:\n",
      "Train loss: 0.09318248865505059\n",
      "Validation loss: 2.2431993067264555\n",
      "Train accuracy: 0.791777896422851\n",
      "Validation accuracy: 0.2784\n",
      "Max validation accuracy: 0.2976\n"
     ]
    },
    {
     "name": "stderr",
     "output_type": "stream",
     "text": [
      "\n"
     ]
    }
   ],
   "source": [
    "results = launch_net(model, optimizer, X_train, y_train, X_test, y_test, 64, 16, epochs)\n",
    "results_dict['FastText'] = results"
   ]
  },
  {
   "cell_type": "markdown",
   "metadata": {
    "colab_type": "text",
    "id": "ZmDizv-ryTf0"
   },
   "source": [
    "## ELMO"
   ]
  },
  {
   "cell_type": "code",
   "execution_count": 0,
   "metadata": {
    "colab": {},
    "colab_type": "code",
    "id": "a-uMxQ77yDOa"
   },
   "outputs": [],
   "source": [
    "embeddings = elmo_embs_hist\n",
    "X_train, X_test, y_train, y_test = get_samples(data2, embeddings)"
   ]
  },
  {
   "cell_type": "code",
   "execution_count": 0,
   "metadata": {
    "colab": {},
    "colab_type": "code",
    "id": "BGKvMyGKydm0"
   },
   "outputs": [],
   "source": [
    "model = SiameseNet(embeddings.shape[2]).cuda()\n",
    "optimizer = torch.optim.Adam(model.parameters())\n",
    "loss_fn = nn.BCELoss()"
   ]
  },
  {
   "cell_type": "code",
   "execution_count": 40,
   "metadata": {
    "colab": {
     "base_uri": "https://localhost:8080/",
     "height": 136
    },
    "colab_type": "code",
    "id": "F0OrwZ-Jyg00",
    "outputId": "df2e0472-f608-437c-bd97-2a5904cca86c"
   },
   "outputs": [
    {
     "name": "stderr",
     "output_type": "stream",
     "text": [
      "\r",
      "                                                                               \r",
      "\r",
      "100% (20 of 20) |########################| Elapsed Time: 0:00:06 Time:  0:00:06\n"
     ]
    },
    {
     "name": "stdout",
     "output_type": "stream",
     "text": [
      "Epoch 20:\n",
      "Train loss: 0.04336594417691231\n",
      "Validation loss: 2.816913029551506\n",
      "Train accuracy: 0.799252536038441\n",
      "Validation accuracy: 0.2624\n",
      "Max validation accuracy: 0.288\n"
     ]
    }
   ],
   "source": [
    "results = launch_net(model, optimizer, X_train, y_train, X_test, y_test, 64, 16, epochs)\n",
    "results_dict['ELMO'] = results"
   ]
  },
  {
   "cell_type": "markdown",
   "metadata": {
    "colab_type": "text",
    "id": "zPfSuEoTy7-A"
   },
   "source": [
    "## BERT"
   ]
  },
  {
   "cell_type": "code",
   "execution_count": 0,
   "metadata": {
    "colab": {},
    "colab_type": "code",
    "id": "Oc1MJMltypNe"
   },
   "outputs": [],
   "source": [
    "embeddings = bert_embs_hist\n",
    "X_train, X_test, y_train, y_test = get_samples(data2, embeddings)"
   ]
  },
  {
   "cell_type": "code",
   "execution_count": 0,
   "metadata": {
    "colab": {},
    "colab_type": "code",
    "id": "9fpeZRBrzFK7"
   },
   "outputs": [],
   "source": [
    "model = SiameseNet(embeddings.shape[2]).cuda()\n",
    "optimizer = torch.optim.Adam(model.parameters())\n",
    "loss_fn = nn.BCELoss()"
   ]
  },
  {
   "cell_type": "code",
   "execution_count": 50,
   "metadata": {
    "colab": {
     "base_uri": "https://localhost:8080/",
     "height": 136
    },
    "colab_type": "code",
    "id": "3W7DrdrRzINJ",
    "outputId": "cdfd0f93-1a08-4e3c-896b-59a153c704c8"
   },
   "outputs": [
    {
     "name": "stderr",
     "output_type": "stream",
     "text": [
      "\r",
      "                                                                               \r",
      "\r",
      "100% (20 of 20) |########################| Elapsed Time: 0:00:05 Time:  0:00:05\n"
     ]
    },
    {
     "name": "stdout",
     "output_type": "stream",
     "text": [
      "Epoch 20:\n",
      "Train loss: 0.08174781364699205\n",
      "Validation loss: 2.3223167326301337\n",
      "Train accuracy: 0.800320341697811\n",
      "Validation accuracy: 0.2432\n",
      "Max validation accuracy: 0.2688\n"
     ]
    }
   ],
   "source": [
    "results = launch_net(model, optimizer, X_train, y_train, X_test, y_test, 64, 16, epochs)\n",
    "results_dict['BERT'] = results"
   ]
  },
  {
   "cell_type": "markdown",
   "metadata": {
    "colab_type": "text",
    "id": "uwp7bsTozUxa"
   },
   "source": [
    "## RusVectores"
   ]
  },
  {
   "cell_type": "code",
   "execution_count": 0,
   "metadata": {
    "colab": {},
    "colab_type": "code",
    "id": "miGVdsmezLWi"
   },
   "outputs": [],
   "source": [
    "embeddings = rusvec_embs_hist\n",
    "X_train, X_test, y_train, y_test = get_samples(data2, embeddings)"
   ]
  },
  {
   "cell_type": "code",
   "execution_count": 0,
   "metadata": {
    "colab": {},
    "colab_type": "code",
    "id": "ul0EdWvkzXfU"
   },
   "outputs": [],
   "source": [
    "model = SiameseNet(embeddings.shape[2]).cuda()\n",
    "optimizer = torch.optim.Adam(model.parameters())\n",
    "loss_fn = nn.BCELoss()"
   ]
  },
  {
   "cell_type": "code",
   "execution_count": 53,
   "metadata": {
    "colab": {
     "base_uri": "https://localhost:8080/",
     "height": 136
    },
    "colab_type": "code",
    "id": "XPZ7dkBTzpeH",
    "outputId": "b09f348c-5b1a-4739-beaa-b61b0b31148f"
   },
   "outputs": [
    {
     "name": "stderr",
     "output_type": "stream",
     "text": [
      "\r",
      "                                                                               \r",
      "\r",
      "100% (20 of 20) |########################| Elapsed Time: 0:00:03 Time:  0:00:03\n"
     ]
    },
    {
     "name": "stdout",
     "output_type": "stream",
     "text": [
      "Epoch 20:\n",
      "Train loss: 0.15397281100352606\n",
      "Validation loss: 1.916767317056656\n",
      "Train accuracy: 0.7052856380138814\n",
      "Validation accuracy: 0.2272\n",
      "Max validation accuracy: 0.28\n"
     ]
    }
   ],
   "source": [
    "results = launch_net(model, optimizer, X_train, y_train, X_test, y_test, 64, 32, epochs)\n",
    "results_dict['RusVectores'] = results"
   ]
  },
  {
   "cell_type": "code",
   "execution_count": 54,
   "metadata": {
    "colab": {
     "base_uri": "https://localhost:8080/",
     "height": 204
    },
    "colab_type": "code",
    "id": "l3Ppt3otztyQ",
    "outputId": "737a84ba-5c4d-472b-f7e7-fd8b44228b39"
   },
   "outputs": [
    {
     "data": {
      "text/html": [
       "<div>\n",
       "<style scoped>\n",
       "    .dataframe tbody tr th:only-of-type {\n",
       "        vertical-align: middle;\n",
       "    }\n",
       "\n",
       "    .dataframe tbody tr th {\n",
       "        vertical-align: top;\n",
       "    }\n",
       "\n",
       "    .dataframe thead th {\n",
       "        text-align: right;\n",
       "    }\n",
       "</style>\n",
       "<table border=\"1\" class=\"dataframe\">\n",
       "  <thead>\n",
       "    <tr style=\"text-align: right;\">\n",
       "      <th></th>\n",
       "      <th>RusVectores</th>\n",
       "      <th>FastText</th>\n",
       "      <th>ELMO</th>\n",
       "      <th>BERT</th>\n",
       "    </tr>\n",
       "  </thead>\n",
       "  <tbody>\n",
       "    <tr>\n",
       "      <th>Accuracy</th>\n",
       "      <td>0.280000</td>\n",
       "      <td>0.297600</td>\n",
       "      <td>0.288000</td>\n",
       "      <td>0.268800</td>\n",
       "    </tr>\n",
       "    <tr>\n",
       "      <th>Precision Macro</th>\n",
       "      <td>0.262019</td>\n",
       "      <td>0.296237</td>\n",
       "      <td>0.285784</td>\n",
       "      <td>0.268735</td>\n",
       "    </tr>\n",
       "    <tr>\n",
       "      <th>Precision Micro</th>\n",
       "      <td>0.280000</td>\n",
       "      <td>0.297600</td>\n",
       "      <td>0.288000</td>\n",
       "      <td>0.268800</td>\n",
       "    </tr>\n",
       "    <tr>\n",
       "      <th>F1 Macro</th>\n",
       "      <td>0.259883</td>\n",
       "      <td>0.288128</td>\n",
       "      <td>0.278913</td>\n",
       "      <td>0.260601</td>\n",
       "    </tr>\n",
       "    <tr>\n",
       "      <th>F1 Micro</th>\n",
       "      <td>0.280000</td>\n",
       "      <td>0.297600</td>\n",
       "      <td>0.288000</td>\n",
       "      <td>0.268800</td>\n",
       "    </tr>\n",
       "  </tbody>\n",
       "</table>\n",
       "</div>"
      ],
      "text/plain": [
       "                 RusVectores  FastText      ELMO      BERT\n",
       "Accuracy            0.280000  0.297600  0.288000  0.268800\n",
       "Precision Macro     0.262019  0.296237  0.285784  0.268735\n",
       "Precision Micro     0.280000  0.297600  0.288000  0.268800\n",
       "F1 Macro            0.259883  0.288128  0.278913  0.260601\n",
       "F1 Micro            0.280000  0.297600  0.288000  0.268800"
      ]
     },
     "execution_count": 54,
     "metadata": {
      "tags": []
     },
     "output_type": "execute_result"
    }
   ],
   "source": [
    "results = pd.DataFrame(data=results_dict, columns=list(results_dict.keys()), \\\n",
    "                       index=['Accuracy', 'Precision Macro', 'Precision Micro', 'F1 Macro', 'F1 Micro'])\n",
    "results"
   ]
  },
  {
   "cell_type": "markdown",
   "metadata": {
    "colab_type": "text",
    "id": "Tkm-47dm0dVh"
   },
   "source": [
    "# Медицина"
   ]
  },
  {
   "cell_type": "code",
   "execution_count": 55,
   "metadata": {
    "colab": {
     "base_uri": "https://localhost:8080/",
     "height": 34
    },
    "colab_type": "code",
    "id": "B2wkDPbUzyXt",
    "outputId": "9efa23e5-c2ba-4cc3-99c3-2c7af664c0a6"
   },
   "outputs": [
    {
     "data": {
      "text/plain": [
       "4013"
      ]
     },
     "execution_count": 55,
     "metadata": {
      "tags": []
     },
     "output_type": "execute_result"
    }
   ],
   "source": [
    "med_inds = []\n",
    "\n",
    "for i in range(len(data)):\n",
    "  if data.iloc[i,6] == 'Медицина':\n",
    "    med_inds.append(i)\n",
    "len(med_inds)"
   ]
  },
  {
   "cell_type": "code",
   "execution_count": 0,
   "metadata": {
    "colab": {},
    "colab_type": "code",
    "id": "bbj8k7-o0mhC"
   },
   "outputs": [],
   "source": [
    "elmo_embs_med = elmo_embs[med_inds]\n",
    "bert_embs_med = bert_embs[med_inds]\n",
    "fasttext_embs_med = fasttext_embs[med_inds]\n",
    "rusvec_embs_med = rusvec_embs[med_inds]"
   ]
  },
  {
   "cell_type": "code",
   "execution_count": 0,
   "metadata": {
    "colab": {},
    "colab_type": "code",
    "id": "9AZ3mhh70ugC"
   },
   "outputs": [],
   "source": [
    "results_dict = {'RusVectores': [], 'FastText': [], 'ELMO': [], 'BERT': []}\n",
    "data2 = data[data['label'] == 'Медицина']\n",
    "epochs = 20"
   ]
  },
  {
   "cell_type": "markdown",
   "metadata": {
    "colab_type": "text",
    "id": "TNGBTctz0yJh"
   },
   "source": [
    "## FastText"
   ]
  },
  {
   "cell_type": "code",
   "execution_count": 0,
   "metadata": {
    "colab": {},
    "colab_type": "code",
    "id": "qIey2AeD05a3"
   },
   "outputs": [],
   "source": [
    "embeddings = fasttext_embs_med\n",
    "X_train, X_test, y_train, y_test = get_samples(data2, embeddings)"
   ]
  },
  {
   "cell_type": "code",
   "execution_count": 0,
   "metadata": {
    "colab": {},
    "colab_type": "code",
    "id": "-DFL8vC10-hP"
   },
   "outputs": [],
   "source": [
    "model = SiameseNet(embeddings.shape[2]).cuda()\n",
    "optimizer = torch.optim.Adam(model.parameters())\n",
    "loss_fn = nn.BCELoss()"
   ]
  },
  {
   "cell_type": "code",
   "execution_count": 60,
   "metadata": {
    "colab": {
     "base_uri": "https://localhost:8080/",
     "height": 136
    },
    "colab_type": "code",
    "id": "GU0mJvwH1AaH",
    "outputId": "d3e7651c-c256-42c7-8256-a2846f674cc1"
   },
   "outputs": [
    {
     "name": "stderr",
     "output_type": "stream",
     "text": [
      "\r",
      "                                                                               \r",
      "\r",
      "100% (20 of 20) |########################| Elapsed Time: 0:00:06 Time:  0:00:06\n"
     ]
    },
    {
     "name": "stdout",
     "output_type": "stream",
     "text": [
      "Epoch 20:\n",
      "Train loss: 0.10185004056741793\n",
      "Validation loss: 2.03264029631539\n",
      "Train accuracy: 0.7813226985709538\n",
      "Validation accuracy: 0.3137450199203187\n",
      "Max validation accuracy: 0.34163346613545814\n"
     ]
    }
   ],
   "source": [
    "results = launch_net(model, optimizer, X_train, y_train, X_test, y_test, 64, 16, epochs)\n",
    "results_dict['FastText'] = results"
   ]
  },
  {
   "cell_type": "markdown",
   "metadata": {
    "colab_type": "text",
    "id": "vKisJ3o10yHy"
   },
   "source": [
    "## ELMO"
   ]
  },
  {
   "cell_type": "code",
   "execution_count": 0,
   "metadata": {
    "colab": {},
    "colab_type": "code",
    "id": "CUw_mZW_1J77"
   },
   "outputs": [],
   "source": [
    "embeddings = elmo_embs_med\n",
    "X_train, X_test, y_train, y_test = get_samples(data2, embeddings)"
   ]
  },
  {
   "cell_type": "code",
   "execution_count": 0,
   "metadata": {
    "colab": {},
    "colab_type": "code",
    "id": "GMvnF3nq1Nxb"
   },
   "outputs": [],
   "source": [
    "model = SiameseNet(embeddings.shape[2]).cuda()\n",
    "optimizer = torch.optim.Adam(model.parameters())\n",
    "loss_fn = nn.BCELoss()"
   ]
  },
  {
   "cell_type": "code",
   "execution_count": 63,
   "metadata": {
    "colab": {
     "base_uri": "https://localhost:8080/",
     "height": 136
    },
    "colab_type": "code",
    "id": "7mxC0uUt1QJ0",
    "outputId": "167ffe00-f0c6-406b-c5a9-b873c6dcfa02"
   },
   "outputs": [
    {
     "name": "stderr",
     "output_type": "stream",
     "text": [
      "\r",
      "                                                                               \r",
      "\r",
      "100% (20 of 20) |########################| Elapsed Time: 0:00:09 Time:  0:00:09\n"
     ]
    },
    {
     "name": "stdout",
     "output_type": "stream",
     "text": [
      "Epoch 20:\n",
      "Train loss: 0.089671300680493\n",
      "Validation loss: 2.5734705868221464\n",
      "Train accuracy: 0.7919574609504819\n",
      "Validation accuracy: 0.3247011952191235\n",
      "Max validation accuracy: 0.34163346613545814\n"
     ]
    }
   ],
   "source": [
    "results = launch_net(model, optimizer, X_train, y_train, X_test, y_test, 64, 16, epochs)\n",
    "results_dict['ELMO'] = results"
   ]
  },
  {
   "cell_type": "markdown",
   "metadata": {
    "colab_type": "text",
    "id": "A6K6X-os0x8f"
   },
   "source": [
    "## BERT"
   ]
  },
  {
   "cell_type": "code",
   "execution_count": 0,
   "metadata": {
    "colab": {},
    "colab_type": "code",
    "id": "0gruH_Qh1bAD"
   },
   "outputs": [],
   "source": [
    "embeddings = bert_embs_med\n",
    "X_train, X_test, y_train, y_test = get_samples(data2, embeddings)"
   ]
  },
  {
   "cell_type": "code",
   "execution_count": 0,
   "metadata": {
    "colab": {},
    "colab_type": "code",
    "id": "OUdFHJ8m1j1c"
   },
   "outputs": [],
   "source": [
    "model = SiameseNet(embeddings.shape[2]).cuda()\n",
    "optimizer = torch.optim.Adam(model.parameters())\n",
    "loss_fn = nn.BCELoss()"
   ]
  },
  {
   "cell_type": "code",
   "execution_count": 66,
   "metadata": {
    "colab": {
     "base_uri": "https://localhost:8080/",
     "height": 136
    },
    "colab_type": "code",
    "id": "wOHJPKGA1nqt",
    "outputId": "245f67e8-97a3-4d0c-fb9e-3a62c5949459"
   },
   "outputs": [
    {
     "name": "stderr",
     "output_type": "stream",
     "text": [
      "\r",
      "                                                                               \r",
      "\r",
      "100% (20 of 20) |########################| Elapsed Time: 0:00:08 Time:  0:00:08\n"
     ]
    },
    {
     "name": "stdout",
     "output_type": "stream",
     "text": [
      "Epoch 20:\n",
      "Train loss: 0.21424539519163469\n",
      "Validation loss: 1.6058398485183716\n",
      "Train accuracy: 0.7494184114323695\n",
      "Validation accuracy: 0.2908366533864542\n",
      "Max validation accuracy: 0.34860557768924305\n"
     ]
    }
   ],
   "source": [
    "results = launch_net(model, optimizer, X_train, y_train, X_test, y_test, 64, 16, epochs)\n",
    "results_dict['BERT'] = results"
   ]
  },
  {
   "cell_type": "markdown",
   "metadata": {
    "colab_type": "text",
    "id": "XBxVuK8x0xuC"
   },
   "source": [
    "## RusVectores"
   ]
  },
  {
   "cell_type": "code",
   "execution_count": 0,
   "metadata": {
    "colab": {},
    "colab_type": "code",
    "id": "gubW6jZg04tg"
   },
   "outputs": [],
   "source": [
    "embeddings = rusvec_embs_med\n",
    "X_train, X_test, y_train, y_test = get_samples(data2, embeddings)"
   ]
  },
  {
   "cell_type": "code",
   "execution_count": 0,
   "metadata": {
    "colab": {},
    "colab_type": "code",
    "id": "insR0sum1zH3"
   },
   "outputs": [],
   "source": [
    "model = SiameseNet(embeddings.shape[2]).cuda()\n",
    "optimizer = torch.optim.Adam(model.parameters())\n",
    "loss_fn = nn.BCELoss()"
   ]
  },
  {
   "cell_type": "code",
   "execution_count": 69,
   "metadata": {
    "colab": {
     "base_uri": "https://localhost:8080/",
     "height": 136
    },
    "colab_type": "code",
    "id": "MofDo6hQ13GI",
    "outputId": "2c0dc862-0f5a-4724-cad0-2ab5df2a94e6"
   },
   "outputs": [
    {
     "name": "stderr",
     "output_type": "stream",
     "text": [
      "\r",
      "                                                                               \r",
      "\r",
      "100% (20 of 20) |########################| Elapsed Time: 0:00:06 Time:  0:00:06\n"
     ]
    },
    {
     "name": "stdout",
     "output_type": "stream",
     "text": [
      "Epoch 20:\n",
      "Train loss: 0.1884144519766172\n",
      "Validation loss: 2.126295391470194\n",
      "Train accuracy: 0.7291458956463942\n",
      "Validation accuracy: 0.27191235059760954\n",
      "Max validation accuracy: 0.2848605577689243\n"
     ]
    }
   ],
   "source": [
    "results = launch_net(model, optimizer, X_train, y_train, X_test, y_test, 64, 32, epochs)\n",
    "results_dict['RusVectores'] = results"
   ]
  },
  {
   "cell_type": "code",
   "execution_count": 70,
   "metadata": {
    "colab": {
     "base_uri": "https://localhost:8080/",
     "height": 204
    },
    "colab_type": "code",
    "id": "Gugx7Ed_15ht",
    "outputId": "12fdc13f-dcb0-4637-f8a4-ac343bb870d8"
   },
   "outputs": [
    {
     "data": {
      "text/html": [
       "<div>\n",
       "<style scoped>\n",
       "    .dataframe tbody tr th:only-of-type {\n",
       "        vertical-align: middle;\n",
       "    }\n",
       "\n",
       "    .dataframe tbody tr th {\n",
       "        vertical-align: top;\n",
       "    }\n",
       "\n",
       "    .dataframe thead th {\n",
       "        text-align: right;\n",
       "    }\n",
       "</style>\n",
       "<table border=\"1\" class=\"dataframe\">\n",
       "  <thead>\n",
       "    <tr style=\"text-align: right;\">\n",
       "      <th></th>\n",
       "      <th>RusVectores</th>\n",
       "      <th>FastText</th>\n",
       "      <th>ELMO</th>\n",
       "      <th>BERT</th>\n",
       "    </tr>\n",
       "  </thead>\n",
       "  <tbody>\n",
       "    <tr>\n",
       "      <th>Accuracy</th>\n",
       "      <td>0.284861</td>\n",
       "      <td>0.341633</td>\n",
       "      <td>0.341633</td>\n",
       "      <td>0.348606</td>\n",
       "    </tr>\n",
       "    <tr>\n",
       "      <th>Precision Macro</th>\n",
       "      <td>0.270730</td>\n",
       "      <td>0.338213</td>\n",
       "      <td>0.338907</td>\n",
       "      <td>0.352563</td>\n",
       "    </tr>\n",
       "    <tr>\n",
       "      <th>Precision Micro</th>\n",
       "      <td>0.284861</td>\n",
       "      <td>0.341633</td>\n",
       "      <td>0.341633</td>\n",
       "      <td>0.348606</td>\n",
       "    </tr>\n",
       "    <tr>\n",
       "      <th>F1 Macro</th>\n",
       "      <td>0.268761</td>\n",
       "      <td>0.332769</td>\n",
       "      <td>0.334228</td>\n",
       "      <td>0.344391</td>\n",
       "    </tr>\n",
       "    <tr>\n",
       "      <th>F1 Micro</th>\n",
       "      <td>0.284861</td>\n",
       "      <td>0.341633</td>\n",
       "      <td>0.341633</td>\n",
       "      <td>0.348606</td>\n",
       "    </tr>\n",
       "  </tbody>\n",
       "</table>\n",
       "</div>"
      ],
      "text/plain": [
       "                 RusVectores  FastText      ELMO      BERT\n",
       "Accuracy            0.284861  0.341633  0.341633  0.348606\n",
       "Precision Macro     0.270730  0.338213  0.338907  0.352563\n",
       "Precision Micro     0.284861  0.341633  0.341633  0.348606\n",
       "F1 Macro            0.268761  0.332769  0.334228  0.344391\n",
       "F1 Micro            0.284861  0.341633  0.341633  0.348606"
      ]
     },
     "execution_count": 70,
     "metadata": {
      "tags": []
     },
     "output_type": "execute_result"
    }
   ],
   "source": [
    "results = pd.DataFrame(data=results_dict, columns=list(results_dict.keys()), \\\n",
    "                       index=['Accuracy', 'Precision Macro', 'Precision Micro', 'F1 Macro', 'F1 Micro'])\n",
    "results"
   ]
  },
  {
   "cell_type": "markdown",
   "metadata": {
    "colab_type": "text",
    "id": "ZB1Yc7Pz2PCY"
   },
   "source": [
    "# Биология"
   ]
  },
  {
   "cell_type": "code",
   "execution_count": 71,
   "metadata": {
    "colab": {
     "base_uri": "https://localhost:8080/",
     "height": 34
    },
    "colab_type": "code",
    "id": "HErua6K82BFP",
    "outputId": "1a86ea61-ea21-43d3-e09a-430a4b19e5b8"
   },
   "outputs": [
    {
     "data": {
      "text/plain": [
       "2184"
      ]
     },
     "execution_count": 71,
     "metadata": {
      "tags": []
     },
     "output_type": "execute_result"
    }
   ],
   "source": [
    "bio_inds = []\n",
    "\n",
    "for i in range(len(data)):\n",
    "  if data.iloc[i,6] == 'Биология':\n",
    "    bio_inds.append(i)\n",
    "len(bio_inds)"
   ]
  },
  {
   "cell_type": "code",
   "execution_count": 0,
   "metadata": {
    "colab": {},
    "colab_type": "code",
    "id": "PkJGjHrX2WC3"
   },
   "outputs": [],
   "source": [
    "elmo_embs_bio = elmo_embs[bio_inds]\n",
    "bert_embs_bio = bert_embs[bio_inds]\n",
    "fasttext_embs_bio = fasttext_embs[bio_inds]\n",
    "rusvec_embs_bio = rusvec_embs[bio_inds]"
   ]
  },
  {
   "cell_type": "code",
   "execution_count": 0,
   "metadata": {
    "colab": {},
    "colab_type": "code",
    "id": "wCqkyOrM2nxP"
   },
   "outputs": [],
   "source": [
    "results_dict = {'RusVectores': [], 'FastText': [], 'ELMO': [], 'BERT': []}\n",
    "data2 = data[data['label'] == 'Биология']\n",
    "epochs = 20"
   ]
  },
  {
   "cell_type": "markdown",
   "metadata": {
    "colab_type": "text",
    "id": "zbYc2Tex2rsS"
   },
   "source": [
    "## FastText"
   ]
  },
  {
   "cell_type": "code",
   "execution_count": 0,
   "metadata": {
    "colab": {},
    "colab_type": "code",
    "id": "a-heEgg12zh-"
   },
   "outputs": [],
   "source": [
    "embeddings = fasttext_embs_bio\n",
    "X_train, X_test, y_train, y_test = get_samples(data2, embeddings)"
   ]
  },
  {
   "cell_type": "code",
   "execution_count": 0,
   "metadata": {
    "colab": {},
    "colab_type": "code",
    "id": "qdsgjuWa2w1y"
   },
   "outputs": [],
   "source": [
    "model = SiameseNet(embeddings.shape[2]).cuda()\n",
    "optimizer = torch.optim.Adam(model.parameters())\n",
    "loss_fn = nn.BCELoss()"
   ]
  },
  {
   "cell_type": "code",
   "execution_count": 76,
   "metadata": {
    "colab": {
     "base_uri": "https://localhost:8080/",
     "height": 136
    },
    "colab_type": "code",
    "id": "neR4rM472wuM",
    "outputId": "165d8247-3870-445f-cbb9-00e1f4b18af4"
   },
   "outputs": [
    {
     "name": "stderr",
     "output_type": "stream",
     "text": [
      "\r",
      "                                                                               \r",
      "\r",
      "100% (20 of 20) |########################| Elapsed Time: 0:00:03 Time:  0:00:03\n"
     ]
    },
    {
     "name": "stdout",
     "output_type": "stream",
     "text": [
      "Epoch 20:\n",
      "Train loss: 0.09104758902237965\n",
      "Validation loss: 2.628712337357657\n",
      "Train accuracy: 0.7771672771672772\n",
      "Validation accuracy: 0.24358974358974358\n",
      "Max validation accuracy: 0.2619047619047619\n"
     ]
    }
   ],
   "source": [
    "results = launch_net(model, optimizer, X_train, y_train, X_test, y_test, 64, 16, epochs)\n",
    "results_dict['FastText'] = results"
   ]
  },
  {
   "cell_type": "markdown",
   "metadata": {
    "colab_type": "text",
    "id": "p5ftGnpq2reW"
   },
   "source": [
    "## ELMO"
   ]
  },
  {
   "cell_type": "code",
   "execution_count": 0,
   "metadata": {
    "colab": {},
    "colab_type": "code",
    "id": "NQsHxm2O2xlb"
   },
   "outputs": [],
   "source": [
    "embeddings = elmo_embs_bio\n",
    "X_train, X_test, y_train, y_test = get_samples(data2, embeddings)"
   ]
  },
  {
   "cell_type": "code",
   "execution_count": 0,
   "metadata": {
    "colab": {},
    "colab_type": "code",
    "id": "zoZ3XtnO2xkW"
   },
   "outputs": [],
   "source": [
    "model = SiameseNet(embeddings.shape[2]).cuda()\n",
    "optimizer = torch.optim.Adam(model.parameters())\n",
    "loss_fn = nn.BCELoss()"
   ]
  },
  {
   "cell_type": "code",
   "execution_count": 79,
   "metadata": {
    "colab": {
     "base_uri": "https://localhost:8080/",
     "height": 136
    },
    "colab_type": "code",
    "id": "RztoPkp92xdc",
    "outputId": "393497d3-cd77-44c8-995b-2bef77d7f756"
   },
   "outputs": [
    {
     "name": "stderr",
     "output_type": "stream",
     "text": [
      "\r",
      "                                                                               \r",
      "\r",
      "100% (20 of 20) |########################| Elapsed Time: 0:00:05 Time:  0:00:05\n"
     ]
    },
    {
     "name": "stdout",
     "output_type": "stream",
     "text": [
      "Epoch 20:\n",
      "Train loss: 0.054728186617677026\n",
      "Validation loss: 3.3171062537602016\n",
      "Train accuracy: 0.8125763125763126\n",
      "Validation accuracy: 0.22527472527472528\n",
      "Max validation accuracy: 0.24175824175824176\n"
     ]
    }
   ],
   "source": [
    "results = launch_net(model, optimizer, X_train, y_train, X_test, y_test, 64, 16, epochs)\n",
    "results_dict['ELMO'] = results"
   ]
  },
  {
   "cell_type": "markdown",
   "metadata": {
    "colab_type": "text",
    "id": "ZVeBFD6B2rQg"
   },
   "source": [
    "## BERT"
   ]
  },
  {
   "cell_type": "code",
   "execution_count": 0,
   "metadata": {
    "colab": {},
    "colab_type": "code",
    "id": "B6gXSQnS2yGq"
   },
   "outputs": [],
   "source": [
    "embeddings = bert_embs_bio\n",
    "X_train, X_test, y_train, y_test = get_samples(data2, embeddings)"
   ]
  },
  {
   "cell_type": "code",
   "execution_count": 0,
   "metadata": {
    "colab": {},
    "colab_type": "code",
    "id": "7Aaid2pF2yFq"
   },
   "outputs": [],
   "source": [
    "model = SiameseNet(embeddings.shape[2]).cuda()\n",
    "optimizer = torch.optim.Adam(model.parameters())\n",
    "loss_fn = nn.BCELoss()"
   ]
  },
  {
   "cell_type": "code",
   "execution_count": 82,
   "metadata": {
    "colab": {
     "base_uri": "https://localhost:8080/",
     "height": 136
    },
    "colab_type": "code",
    "id": "uxUQpDMl2x-V",
    "outputId": "95ea97e7-dc4a-4834-88cf-6687374e391b"
   },
   "outputs": [
    {
     "name": "stderr",
     "output_type": "stream",
     "text": [
      "\r",
      "                                                                               \r",
      "\r",
      "100% (20 of 20) |########################| Elapsed Time: 0:00:04 Time:  0:00:04\n"
     ]
    },
    {
     "name": "stdout",
     "output_type": "stream",
     "text": [
      "Epoch 20:\n",
      "Train loss: 0.08146627619862556\n",
      "Validation loss: 2.2370952538081577\n",
      "Train accuracy: 0.7722832722832723\n",
      "Validation accuracy: 0.2838827838827839\n",
      "Max validation accuracy: 0.3131868131868132\n"
     ]
    }
   ],
   "source": [
    "results = launch_net(model, optimizer, X_train, y_train, X_test, y_test, 64, 16, epochs)\n",
    "results_dict['BERT'] = results"
   ]
  },
  {
   "cell_type": "markdown",
   "metadata": {
    "colab_type": "text",
    "id": "2VJDbSj22rB4"
   },
   "source": [
    "## RusVectores"
   ]
  },
  {
   "cell_type": "code",
   "execution_count": 0,
   "metadata": {
    "colab": {},
    "colab_type": "code",
    "id": "2bdF6OHP2y67"
   },
   "outputs": [],
   "source": [
    "embeddings = rusvec_embs_bio\n",
    "X_train, X_test, y_train, y_test = get_samples(data2, embeddings)"
   ]
  },
  {
   "cell_type": "code",
   "execution_count": 0,
   "metadata": {
    "colab": {},
    "colab_type": "code",
    "id": "zeXNZAbd2yze"
   },
   "outputs": [],
   "source": [
    "model = SiameseNet(embeddings.shape[2]).cuda()\n",
    "optimizer = torch.optim.Adam(model.parameters())\n",
    "loss_fn = nn.BCELoss()"
   ]
  },
  {
   "cell_type": "code",
   "execution_count": 85,
   "metadata": {
    "colab": {
     "base_uri": "https://localhost:8080/",
     "height": 136
    },
    "colab_type": "code",
    "id": "jfv7zlZj2qM_",
    "outputId": "c4d3173f-fb99-4a34-9f94-141441660c80"
   },
   "outputs": [
    {
     "name": "stderr",
     "output_type": "stream",
     "text": [
      "\r",
      "                                                                               \r",
      "\r",
      "100% (20 of 20) |########################| Elapsed Time: 0:00:03 Time:  0:00:03\n"
     ]
    },
    {
     "name": "stdout",
     "output_type": "stream",
     "text": [
      "Epoch 20:\n",
      "Train loss: 0.16261749084179217\n",
      "Validation loss: 2.010254999001821\n",
      "Train accuracy: 0.7167277167277167\n",
      "Validation accuracy: 0.29304029304029305\n",
      "Max validation accuracy: 0.3058608058608059\n"
     ]
    }
   ],
   "source": [
    "results = launch_net(model, optimizer, X_train, y_train, X_test, y_test, 64, 32, epochs)\n",
    "results_dict['RusVectores'] = results"
   ]
  },
  {
   "cell_type": "code",
   "execution_count": 86,
   "metadata": {
    "colab": {
     "base_uri": "https://localhost:8080/",
     "height": 204
    },
    "colab_type": "code",
    "id": "DNzzW2sn3W-y",
    "outputId": "e27ed927-ceb1-4b56-8a5f-35d513921e70"
   },
   "outputs": [
    {
     "data": {
      "text/html": [
       "<div>\n",
       "<style scoped>\n",
       "    .dataframe tbody tr th:only-of-type {\n",
       "        vertical-align: middle;\n",
       "    }\n",
       "\n",
       "    .dataframe tbody tr th {\n",
       "        vertical-align: top;\n",
       "    }\n",
       "\n",
       "    .dataframe thead th {\n",
       "        text-align: right;\n",
       "    }\n",
       "</style>\n",
       "<table border=\"1\" class=\"dataframe\">\n",
       "  <thead>\n",
       "    <tr style=\"text-align: right;\">\n",
       "      <th></th>\n",
       "      <th>RusVectores</th>\n",
       "      <th>FastText</th>\n",
       "      <th>ELMO</th>\n",
       "      <th>BERT</th>\n",
       "    </tr>\n",
       "  </thead>\n",
       "  <tbody>\n",
       "    <tr>\n",
       "      <th>Accuracy</th>\n",
       "      <td>0.305861</td>\n",
       "      <td>0.261905</td>\n",
       "      <td>0.241758</td>\n",
       "      <td>0.313187</td>\n",
       "    </tr>\n",
       "    <tr>\n",
       "      <th>Precision Macro</th>\n",
       "      <td>0.288833</td>\n",
       "      <td>0.258148</td>\n",
       "      <td>0.242055</td>\n",
       "      <td>0.312145</td>\n",
       "    </tr>\n",
       "    <tr>\n",
       "      <th>Precision Micro</th>\n",
       "      <td>0.305861</td>\n",
       "      <td>0.261905</td>\n",
       "      <td>0.241758</td>\n",
       "      <td>0.313187</td>\n",
       "    </tr>\n",
       "    <tr>\n",
       "      <th>F1 Macro</th>\n",
       "      <td>0.284157</td>\n",
       "      <td>0.250001</td>\n",
       "      <td>0.233148</td>\n",
       "      <td>0.304496</td>\n",
       "    </tr>\n",
       "    <tr>\n",
       "      <th>F1 Micro</th>\n",
       "      <td>0.305861</td>\n",
       "      <td>0.261905</td>\n",
       "      <td>0.241758</td>\n",
       "      <td>0.313187</td>\n",
       "    </tr>\n",
       "  </tbody>\n",
       "</table>\n",
       "</div>"
      ],
      "text/plain": [
       "                 RusVectores  FastText      ELMO      BERT\n",
       "Accuracy            0.305861  0.261905  0.241758  0.313187\n",
       "Precision Macro     0.288833  0.258148  0.242055  0.312145\n",
       "Precision Micro     0.305861  0.261905  0.241758  0.313187\n",
       "F1 Macro            0.284157  0.250001  0.233148  0.304496\n",
       "F1 Micro            0.305861  0.261905  0.241758  0.313187"
      ]
     },
     "execution_count": 86,
     "metadata": {
      "tags": []
     },
     "output_type": "execute_result"
    }
   ],
   "source": [
    "results = pd.DataFrame(data=results_dict, columns=list(results_dict.keys()), \\\n",
    "                       index=['Accuracy', 'Precision Macro', 'Precision Micro', 'F1 Macro', 'F1 Micro'])\n",
    "results"
   ]
  },
  {
   "cell_type": "code",
   "execution_count": 0,
   "metadata": {
    "colab": {},
    "colab_type": "code",
    "id": "fqMC-s623Zck"
   },
   "outputs": [],
   "source": []
  }
 ],
 "metadata": {
  "accelerator": "GPU",
  "colab": {
   "collapsed_sections": [],
   "name": "Approach Siamese.ipynb",
   "provenance": [],
   "toc_visible": true,
   "version": "0.3.2"
  },
  "kernelspec": {
   "display_name": "Python 3",
   "language": "python",
   "name": "python3"
  },
  "language_info": {
   "codemirror_mode": {
    "name": "ipython",
    "version": 3
   },
   "file_extension": ".py",
   "mimetype": "text/x-python",
   "name": "python",
   "nbconvert_exporter": "python",
   "pygments_lexer": "ipython3",
   "version": "3.6.5"
  }
 },
 "nbformat": 4,
 "nbformat_minor": 1
}
