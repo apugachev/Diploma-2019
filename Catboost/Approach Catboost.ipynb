{
 "cells": [
  {
   "cell_type": "code",
   "execution_count": 1,
   "metadata": {
    "colab": {
     "base_uri": "https://localhost:8080/",
     "height": 122
    },
    "colab_type": "code",
    "id": "25gNpNvWvHvc",
    "outputId": "997c3a6e-c3c6-4f55-cbfd-31e8cf41c37b"
   },
   "outputs": [
    {
     "name": "stdout",
     "output_type": "stream",
     "text": [
      "Go to this URL in a browser: https://accounts.google.com/o/oauth2/auth?client_id=947318989803-6bn6qk8qdgf4n4g3pfee6491hc0brc4i.apps.googleusercontent.com&redirect_uri=urn%3Aietf%3Awg%3Aoauth%3A2.0%3Aoob&scope=email%20https%3A%2F%2Fwww.googleapis.com%2Fauth%2Fdocs.test%20https%3A%2F%2Fwww.googleapis.com%2Fauth%2Fdrive%20https%3A%2F%2Fwww.googleapis.com%2Fauth%2Fdrive.photos.readonly%20https%3A%2F%2Fwww.googleapis.com%2Fauth%2Fpeopleapi.readonly&response_type=code\n",
      "\n",
      "Enter your authorization code:\n",
      "··········\n",
      "Mounted at /content/drive\n"
     ]
    }
   ],
   "source": [
    "from google.colab import drive\n",
    "drive.mount('/content/drive')"
   ]
  },
  {
   "cell_type": "code",
   "execution_count": 2,
   "metadata": {
    "colab": {
     "base_uri": "https://localhost:8080/",
     "height": 221
    },
    "colab_type": "code",
    "id": "I0H75gBAwJro",
    "outputId": "94feced2-504b-4ce4-be60-7b781d8bb8dc"
   },
   "outputs": [
    {
     "name": "stdout",
     "output_type": "stream",
     "text": [
      "Collecting catboost\n",
      "\u001b[?25l  Downloading https://files.pythonhosted.org/packages/2f/c4/f130237b24efd1941cb685da12496675a90045129b66774751f1bf629dfd/catboost-0.14.2-cp36-none-manylinux1_x86_64.whl (60.6MB)\n",
      "\u001b[K     |████████████████████████████████| 60.6MB 1.8MB/s \n",
      "\u001b[?25hRequirement already satisfied: enum34 in /usr/local/lib/python3.6/dist-packages (from catboost) (1.1.6)\n",
      "Requirement already satisfied: six in /usr/local/lib/python3.6/dist-packages (from catboost) (1.12.0)\n",
      "Requirement already satisfied: graphviz in /usr/local/lib/python3.6/dist-packages (from catboost) (0.10.1)\n",
      "Requirement already satisfied: pandas>=0.19.1 in /usr/local/lib/python3.6/dist-packages (from catboost) (0.24.2)\n",
      "Requirement already satisfied: numpy>=1.11.1 in /usr/local/lib/python3.6/dist-packages (from catboost) (1.16.3)\n",
      "Requirement already satisfied: python-dateutil>=2.5.0 in /usr/local/lib/python3.6/dist-packages (from pandas>=0.19.1->catboost) (2.5.3)\n",
      "Requirement already satisfied: pytz>=2011k in /usr/local/lib/python3.6/dist-packages (from pandas>=0.19.1->catboost) (2018.9)\n",
      "Installing collected packages: catboost\n",
      "Successfully installed catboost-0.14.2\n"
     ]
    }
   ],
   "source": [
    "! pip install catboost"
   ]
  },
  {
   "cell_type": "code",
   "execution_count": 3,
   "metadata": {
    "colab": {
     "base_uri": "https://localhost:8080/",
     "height": 306
    },
    "colab_type": "code",
    "id": "wSGOF4KYvBjt",
    "outputId": "d3af00ac-94ba-4a77-c755-b0065997ca90"
   },
   "outputs": [
    {
     "name": "stdout",
     "output_type": "stream",
     "text": [
      "13073\n"
     ]
    },
    {
     "data": {
      "text/html": [
       "<div>\n",
       "<style scoped>\n",
       "    .dataframe tbody tr th:only-of-type {\n",
       "        vertical-align: middle;\n",
       "    }\n",
       "\n",
       "    .dataframe tbody tr th {\n",
       "        vertical-align: top;\n",
       "    }\n",
       "\n",
       "    .dataframe thead th {\n",
       "        text-align: right;\n",
       "    }\n",
       "</style>\n",
       "<table border=\"1\" class=\"dataframe\">\n",
       "  <thead>\n",
       "    <tr style=\"text-align: right;\">\n",
       "      <th></th>\n",
       "      <th>0</th>\n",
       "      <th>1</th>\n",
       "      <th>2</th>\n",
       "      <th>3</th>\n",
       "      <th>4</th>\n",
       "      <th>5</th>\n",
       "      <th>label</th>\n",
       "    </tr>\n",
       "  </thead>\n",
       "  <tbody>\n",
       "    <tr>\n",
       "      <th>0</th>\n",
       "      <td>Совещательный орган при императоре в начале XX в</td>\n",
       "      <td>Сенат</td>\n",
       "      <td>Государственный совет</td>\n",
       "      <td>Консилия министров</td>\n",
       "      <td>Верховный тайный совет</td>\n",
       "      <td>2</td>\n",
       "      <td>История</td>\n",
       "    </tr>\n",
       "    <tr>\n",
       "      <th>1</th>\n",
       "      <td>Министр внутренних дел с 1904 г либерал автор ...</td>\n",
       "      <td>Лорис Меликов</td>\n",
       "      <td>Святополк Мирский</td>\n",
       "      <td>Милюков</td>\n",
       "      <td>Витте</td>\n",
       "      <td>2</td>\n",
       "      <td>История</td>\n",
       "    </tr>\n",
       "    <tr>\n",
       "      <th>2</th>\n",
       "      <td>Какое из названных событий произошло 27 января...</td>\n",
       "      <td>подрыв флагманского корабля Петропавловск</td>\n",
       "      <td>высадка японских войск на Ляодунском полуострове</td>\n",
       "      <td>героический бой Варяга и Корейца</td>\n",
       "      <td>заключение Портсмутского мирного договора</td>\n",
       "      <td>3</td>\n",
       "      <td>История</td>\n",
       "    </tr>\n",
       "    <tr>\n",
       "      <th>3</th>\n",
       "      <td>Что из названного относится к результатам перв...</td>\n",
       "      <td>появление многопартийности</td>\n",
       "      <td>формирование конституционной монархии</td>\n",
       "      <td>ликвидация сословного строя</td>\n",
       "      <td>введение рабочего контроля за производством</td>\n",
       "      <td>1</td>\n",
       "      <td>История</td>\n",
       "    </tr>\n",
       "    <tr>\n",
       "      <th>4</th>\n",
       "      <td>Творчество поэтов Гумилева Ахматовой Мандельшт...</td>\n",
       "      <td>акмеизму</td>\n",
       "      <td>футуризму</td>\n",
       "      <td>импрессионизму</td>\n",
       "      <td>реализму</td>\n",
       "      <td>1</td>\n",
       "      <td>История</td>\n",
       "    </tr>\n",
       "  </tbody>\n",
       "</table>\n",
       "</div>"
      ],
      "text/plain": [
       "                                                   0  \\\n",
       "0   Совещательный орган при императоре в начале XX в   \n",
       "1  Министр внутренних дел с 1904 г либерал автор ...   \n",
       "2  Какое из названных событий произошло 27 января...   \n",
       "3  Что из названного относится к результатам перв...   \n",
       "4  Творчество поэтов Гумилева Ахматовой Мандельшт...   \n",
       "\n",
       "                                           1  \\\n",
       "0                                      Сенат   \n",
       "1                              Лорис Меликов   \n",
       "2  подрыв флагманского корабля Петропавловск   \n",
       "3                 появление многопартийности   \n",
       "4                                   акмеизму   \n",
       "\n",
       "                                                  2  \\\n",
       "0                             Государственный совет   \n",
       "1                                 Святополк Мирский   \n",
       "2  высадка японских войск на Ляодунском полуострове   \n",
       "3             формирование конституционной монархии   \n",
       "4                                         футуризму   \n",
       "\n",
       "                                  3  \\\n",
       "0                Консилия министров   \n",
       "1                           Милюков   \n",
       "2  героический бой Варяга и Корейца   \n",
       "3       ликвидация сословного строя   \n",
       "4                    импрессионизму   \n",
       "\n",
       "                                             4  5    label  \n",
       "0                       Верховный тайный совет  2  История  \n",
       "1                                        Витте  2  История  \n",
       "2    заключение Портсмутского мирного договора  3  История  \n",
       "3  введение рабочего контроля за производством  1  История  \n",
       "4                                     реализму  1  История  "
      ]
     },
     "execution_count": 3,
     "metadata": {
      "tags": []
     },
     "output_type": "execute_result"
    }
   ],
   "source": [
    "import pandas as pd\n",
    "import numpy as np\n",
    "from progressbar import progressbar as pb\n",
    "\n",
    "data = pd.read_csv('/content/drive/My Drive/Embeddings/big_data_labels.csv', index_col=False)\n",
    "print(len(data))\n",
    "data.head()"
   ]
  },
  {
   "cell_type": "code",
   "execution_count": 0,
   "metadata": {
    "colab": {},
    "colab_type": "code",
    "id": "k6vWno6RvBj9"
   },
   "outputs": [],
   "source": [
    "import pickle\n",
    "\n",
    "with open('/content/drive/My Drive/Embeddings/elmo_embed_big.pickle', 'rb') as f:\n",
    "    elmo_embs = pickle.load(f)\n",
    "\n",
    "elmo_embs = np.array(elmo_embs)\n",
    "\n",
    "with open('/content/drive/My Drive/Embeddings/bert_embed_big.pickle', 'rb') as f:\n",
    "    bert_embs = pickle.load(f)\n",
    "\n",
    "bert_embs = np.array(bert_embs)\n",
    "\n",
    "with open('/content/drive/My Drive/Embeddings/fasttext_embed_big.pickle', 'rb') as f:\n",
    "    fasttext_embs = pickle.load(f)\n",
    "\n",
    "fasttext_embs = np.array(fasttext_embs)\n",
    "\n",
    "with open('/content/drive/My Drive/Embeddings/rusvec_embed_big.pickle', 'rb') as f:\n",
    "    rusvec_embs = pickle.load(f)\n",
    "\n",
    "rusvec_embs = np.array(rusvec_embs)"
   ]
  },
  {
   "cell_type": "code",
   "execution_count": 0,
   "metadata": {
    "colab": {},
    "colab_type": "code",
    "id": "vSUuCxcbvBkD"
   },
   "outputs": [],
   "source": [
    "embeddings = {'RusVectores': rusvec_embs, 'FastText': fasttext_embs, 'ELMO': elmo_embs, 'BERT': bert_embs}"
   ]
  },
  {
   "cell_type": "code",
   "execution_count": 0,
   "metadata": {
    "colab": {},
    "colab_type": "code",
    "id": "BxJ29rvLvBkJ"
   },
   "outputs": [],
   "source": [
    "from catboost import CatBoostClassifier\n",
    "\n",
    "def get_samples(data, embeddings, train_part, random_seed):\n",
    "    \n",
    "    '''\n",
    "    Из вектора вопроса (q_vec) и векторов ответов (a1_vec, ... a2_vec) \n",
    "    создаем четыре вектора (q_vec | a1_vec), ... (q_vec | a2_vec) \n",
    "    с соответствующей бинарной разметкой, где | - конкатенация. \n",
    "    \n",
    "    Делим выборку на трейн и тест. \n",
    "    \n",
    "    data - исходный датасет с разметкой\n",
    "    embeddings - векторное представление исходного датасета\n",
    "    train_part - доля тренировочной выборки\n",
    "    random_seed - сид для повторяемости эксперимента\n",
    "    \n",
    "    return:\n",
    "    \n",
    "    X_train, X_test, y_train, y_test - разделенная на тренировочную и тестовую части выборка,\n",
    "    имеющая вышеописанную структуру\n",
    "    \n",
    "    '''\n",
    "    \n",
    "    predata = np.zeros((embeddings.shape[0] * 4, embeddings.shape[2] * 2))\n",
    "    target = []\n",
    "    np.random.seed(random_seed)\n",
    "\n",
    "    for i in range(len(data)):\n",
    "        for j in range(1,5):\n",
    "            cur_targ = 1 if j == int(data.iloc[i,5]) else 0\n",
    "            cur_vec = np.hstack((embeddings[i,0], embeddings[i,j]))\n",
    "            predata[i*4+j-1] = cur_vec\n",
    "            target.append(cur_targ)\n",
    "            \n",
    "    all_inds = np.arange(embeddings.shape[0])\n",
    "    train_size = int(len(all_inds) * train_part)\n",
    "    train_inds = np.random.choice(all_inds, size=train_size, replace=False)\n",
    "    test_inds = np.array(list(set(all_inds) - set(train_inds)))\n",
    "    \n",
    "    X_train, X_test, y_train, y_test = [],[],[],[]\n",
    "\n",
    "    for i in range(len(train_inds)):\n",
    "        for j in range(4):\n",
    "            X_train.append(predata[train_inds[i] * 4 + j])\n",
    "            y_train.append(target[train_inds[i] * 4 + j])\n",
    "\n",
    "    for i in range(len(test_inds)):\n",
    "        for j in range(4):\n",
    "            X_test.append(predata[test_inds[i] * 4 + j])\n",
    "            y_test.append(target[test_inds[i] * 4 + j])\n",
    "            \n",
    "    return X_train, X_test, y_train, y_test"
   ]
  },
  {
   "cell_type": "code",
   "execution_count": 0,
   "metadata": {
    "colab": {},
    "colab_type": "code",
    "id": "uSEUNj71vBkO"
   },
   "outputs": [],
   "source": [
    "from sklearn.metrics import accuracy_score, precision_score, f1_score\n",
    "\n",
    "def approach_boosting(data, embeddings, train_part=0.7, random_seed=4, iterations=1000):\n",
    "    \n",
    "    '''\n",
    "    Обучаем логрегрессию и делаем предсказание.\n",
    "    \n",
    "    data - исходный датасет с разметкой\n",
    "    embeddings - векторное представление исходного датасета\n",
    "    train_part - доля тренировочной выборки\n",
    "    random_seed - сид для повторяемости эксперимента\n",
    "    \n",
    "    return:\n",
    "    \n",
    "    accuracy - значение метрики точности для предсказания\n",
    "    \n",
    "    '''\n",
    "    \n",
    "    X_train, X_test, y_train, y_test = get_samples(data, embeddings, train_part, random_seed)\n",
    "    \n",
    "    clf = CatBoostClassifier(iterations=iterations, verbose=100, random_seed=random_seed, task_type='GPU')\n",
    "    clf.fit(X_train, y_train)\n",
    "    \n",
    "    y_pred = clf.predict_proba(X_test)\n",
    "    y_pred_new = []\n",
    "\n",
    "    for i in range(len(y_pred) // 4):\n",
    "        cur_probs, y_pred_splitted = [], [0,0,0,0]\n",
    "        for j in range(4):\n",
    "            cur_probs.append(y_pred[i*4 + j][1])\n",
    "        y_pred_splitted[np.argmax(cur_probs)] = 1\n",
    "        y_pred_new.extend(y_pred_splitted)\n",
    "        \n",
    "    y_pred_splitted, y_test_splitted = [], []\n",
    "\n",
    "    for i in range(len(y_pred) // 4):\n",
    "        y_pred_splitted.append(np.argmax(y_pred_new[i*4:i*4+4]))\n",
    "        y_test_splitted.append(np.argmax(y_test[i*4:i*4+4]))\n",
    "        \n",
    "    accuracy = accuracy_score(y_test_splitted, y_pred_splitted)\n",
    "    precision_macro = precision_score(y_test_splitted, y_pred_splitted, average='macro')\n",
    "    precision_micro = precision_score(y_test_splitted, y_pred_splitted, average='micro')\n",
    "    f1_macro = f1_score(y_test_splitted, y_pred_splitted, average='macro')\n",
    "    f1_micro = f1_score(y_test_splitted, y_pred_splitted, average='micro')\n",
    "    \n",
    "    return accuracy, precision_macro, precision_micro, f1_macro, f1_micro"
   ]
  },
  {
   "cell_type": "code",
   "execution_count": 0,
   "metadata": {
    "colab": {
     "base_uri": "https://localhost:8080/",
     "height": 850
    },
    "colab_type": "code",
    "id": "qDYNQHMXvBkT",
    "outputId": "1accb630-9987-49de-9a2d-6d6150ff38b2"
   },
   "outputs": [
    {
     "name": "stderr",
     "output_type": "stream",
     "text": [
      "\r",
      "                                                                               \r",
      "\r",
      "N/A% (0 of 4) |                          | Elapsed Time: 0:00:00 ETA:  --:--:--"
     ]
    },
    {
     "name": "stdout",
     "output_type": "stream",
     "text": [
      "Learning rate set to 0.046409\n",
      "0:\tlearn: 0.6805634\ttotal: 160ms\tremaining: 2m 39s\n",
      "100:\tlearn: 0.5500172\ttotal: 8.04s\tremaining: 1m 11s\n",
      "200:\tlearn: 0.5400951\ttotal: 16s\tremaining: 1m 3s\n",
      "300:\tlearn: 0.5306998\ttotal: 24.2s\tremaining: 56.3s\n",
      "400:\tlearn: 0.5216918\ttotal: 32.5s\tremaining: 48.6s\n",
      "500:\tlearn: 0.5138138\ttotal: 40.8s\tremaining: 40.6s\n",
      "600:\tlearn: 0.5070031\ttotal: 49.1s\tremaining: 32.6s\n",
      "700:\tlearn: 0.5009823\ttotal: 57.3s\tremaining: 24.4s\n",
      "800:\tlearn: 0.4952416\ttotal: 1m 5s\tremaining: 16.2s\n",
      "900:\tlearn: 0.4899072\ttotal: 1m 13s\tremaining: 8.05s\n",
      "999:\tlearn: 0.4851906\ttotal: 1m 21s\tremaining: 0us\n"
     ]
    },
    {
     "name": "stderr",
     "output_type": "stream",
     "text": [
      "\r",
      "                                                                               \r",
      "\r",
      " 25% (1 of 4) |######                    | Elapsed Time: 0:01:30 ETA:   0:04:31"
     ]
    },
    {
     "name": "stdout",
     "output_type": "stream",
     "text": [
      "Learning rate set to 0.046409\n",
      "0:\tlearn: 0.6802794\ttotal: 154ms\tremaining: 2m 34s\n",
      "100:\tlearn: 0.5481732\ttotal: 8.66s\tremaining: 1m 17s\n",
      "200:\tlearn: 0.5386997\ttotal: 16.9s\tremaining: 1m 7s\n",
      "300:\tlearn: 0.5300076\ttotal: 25.2s\tremaining: 58.5s\n",
      "400:\tlearn: 0.5219475\ttotal: 33.6s\tremaining: 50.2s\n",
      "500:\tlearn: 0.5152320\ttotal: 41.9s\tremaining: 41.7s\n",
      "600:\tlearn: 0.5090543\ttotal: 49.9s\tremaining: 33.1s\n",
      "700:\tlearn: 0.5032669\ttotal: 57.8s\tremaining: 24.6s\n",
      "800:\tlearn: 0.4985347\ttotal: 1m 5s\tremaining: 16.3s\n",
      "900:\tlearn: 0.4938598\ttotal: 1m 13s\tremaining: 8.04s\n",
      "999:\tlearn: 0.4898375\ttotal: 1m 20s\tremaining: 0us\n"
     ]
    },
    {
     "name": "stderr",
     "output_type": "stream",
     "text": [
      "\r",
      "                                                                               \r",
      "\r",
      " 50% (2 of 4) |#############             | Elapsed Time: 0:03:01 ETA:   0:03:01"
     ]
    },
    {
     "name": "stdout",
     "output_type": "stream",
     "text": [
      "Learning rate set to 0.046409\n",
      "0:\tlearn: 0.6804658\ttotal: 313ms\tremaining: 5m 12s\n",
      "100:\tlearn: 0.5471387\ttotal: 18.8s\tremaining: 2m 47s\n",
      "200:\tlearn: 0.5357623\ttotal: 37.2s\tremaining: 2m 27s\n",
      "300:\tlearn: 0.5249379\ttotal: 55.6s\tremaining: 2m 9s\n",
      "400:\tlearn: 0.5143562\ttotal: 1m 14s\tremaining: 1m 50s\n",
      "500:\tlearn: 0.5047168\ttotal: 1m 32s\tremaining: 1m 32s\n",
      "600:\tlearn: 0.4956423\ttotal: 1m 50s\tremaining: 1m 13s\n",
      "700:\tlearn: 0.4876021\ttotal: 2m 8s\tremaining: 55s\n",
      "800:\tlearn: 0.4794081\ttotal: 2m 27s\tremaining: 36.6s\n",
      "900:\tlearn: 0.4721379\ttotal: 2m 45s\tremaining: 18.1s\n",
      "999:\tlearn: 0.4650397\ttotal: 3m 3s\tremaining: 0us\n"
     ]
    },
    {
     "name": "stderr",
     "output_type": "stream",
     "text": [
      "\r",
      "                                                                               \r",
      "\r",
      " 75% (3 of 4) |###################       | Elapsed Time: 0:06:35 ETA:   0:03:33"
     ]
    },
    {
     "name": "stdout",
     "output_type": "stream",
     "text": [
      "Learning rate set to 0.046409\n",
      "0:\tlearn: 0.6803929\ttotal: 254ms\tremaining: 4m 14s\n",
      "100:\tlearn: 0.5466689\ttotal: 14.8s\tremaining: 2m 11s\n",
      "200:\tlearn: 0.5354614\ttotal: 29.5s\tremaining: 1m 57s\n",
      "300:\tlearn: 0.5244740\ttotal: 44.5s\tremaining: 1m 43s\n",
      "400:\tlearn: 0.5139998\ttotal: 59.4s\tremaining: 1m 28s\n",
      "500:\tlearn: 0.5039488\ttotal: 1m 14s\tremaining: 1m 13s\n",
      "600:\tlearn: 0.4945090\ttotal: 1m 28s\tremaining: 59s\n",
      "700:\tlearn: 0.4860371\ttotal: 1m 43s\tremaining: 44.2s\n",
      "800:\tlearn: 0.4779166\ttotal: 1m 58s\tremaining: 29.4s\n",
      "900:\tlearn: 0.4702382\ttotal: 2m 12s\tremaining: 14.6s\n",
      "999:\tlearn: 0.4625377\ttotal: 2m 27s\tremaining: 0us\n"
     ]
    },
    {
     "name": "stderr",
     "output_type": "stream",
     "text": [
      "\r",
      "                                                                               \r",
      "\r",
      "100% (4 of 4) |##########################| Elapsed Time: 0:09:26 Time:  0:09:26\n"
     ]
    }
   ],
   "source": [
    "results_dict = {}\n",
    "for key, embed in pb(embeddings.items()):\n",
    "    results_dict[key] = approach_boosting(data, embed)"
   ]
  },
  {
   "cell_type": "code",
   "execution_count": 0,
   "metadata": {
    "colab": {
     "base_uri": "https://localhost:8080/",
     "height": 204
    },
    "colab_type": "code",
    "id": "wBXTTzjCvBka",
    "outputId": "355acec7-a539-4a51-c3bf-01b7ac81bef7"
   },
   "outputs": [
    {
     "data": {
      "text/html": [
       "<div>\n",
       "<style scoped>\n",
       "    .dataframe tbody tr th:only-of-type {\n",
       "        vertical-align: middle;\n",
       "    }\n",
       "\n",
       "    .dataframe tbody tr th {\n",
       "        vertical-align: top;\n",
       "    }\n",
       "\n",
       "    .dataframe thead th {\n",
       "        text-align: right;\n",
       "    }\n",
       "</style>\n",
       "<table border=\"1\" class=\"dataframe\">\n",
       "  <thead>\n",
       "    <tr style=\"text-align: right;\">\n",
       "      <th></th>\n",
       "      <th>RusVectores</th>\n",
       "      <th>FastText</th>\n",
       "      <th>ELMO</th>\n",
       "      <th>BERT</th>\n",
       "    </tr>\n",
       "  </thead>\n",
       "  <tbody>\n",
       "    <tr>\n",
       "      <th>Accuracy</th>\n",
       "      <td>0.329169</td>\n",
       "      <td>0.327129</td>\n",
       "      <td>0.338858</td>\n",
       "      <td>0.351351</td>\n",
       "    </tr>\n",
       "    <tr>\n",
       "      <th>Precision Macro</th>\n",
       "      <td>0.329540</td>\n",
       "      <td>0.325897</td>\n",
       "      <td>0.336947</td>\n",
       "      <td>0.349796</td>\n",
       "    </tr>\n",
       "    <tr>\n",
       "      <th>Precision Micro</th>\n",
       "      <td>0.329169</td>\n",
       "      <td>0.327129</td>\n",
       "      <td>0.338858</td>\n",
       "      <td>0.351351</td>\n",
       "    </tr>\n",
       "    <tr>\n",
       "      <th>F1 Macro</th>\n",
       "      <td>0.326962</td>\n",
       "      <td>0.325663</td>\n",
       "      <td>0.337002</td>\n",
       "      <td>0.349590</td>\n",
       "    </tr>\n",
       "    <tr>\n",
       "      <th>F1 Micro</th>\n",
       "      <td>0.329169</td>\n",
       "      <td>0.327129</td>\n",
       "      <td>0.338858</td>\n",
       "      <td>0.351351</td>\n",
       "    </tr>\n",
       "  </tbody>\n",
       "</table>\n",
       "</div>"
      ],
      "text/plain": [
       "                 RusVectores  FastText      ELMO      BERT\n",
       "Accuracy            0.329169  0.327129  0.338858  0.351351\n",
       "Precision Macro     0.329540  0.325897  0.336947  0.349796\n",
       "Precision Micro     0.329169  0.327129  0.338858  0.351351\n",
       "F1 Macro            0.326962  0.325663  0.337002  0.349590\n",
       "F1 Micro            0.329169  0.327129  0.338858  0.351351"
      ]
     },
     "execution_count": 20,
     "metadata": {
      "tags": []
     },
     "output_type": "execute_result"
    }
   ],
   "source": [
    "results = pd.DataFrame(data=results_dict, columns=list(embeddings.keys()), \\\n",
    "                       index=['Accuracy', 'Precision Macro', 'Precision Micro', 'F1 Macro', 'F1 Micro'])\n",
    "results"
   ]
  },
  {
   "cell_type": "markdown",
   "metadata": {
    "colab_type": "text",
    "id": "lrsZNFnCh5fW"
   },
   "source": [
    "## История"
   ]
  },
  {
   "cell_type": "code",
   "execution_count": 32,
   "metadata": {
    "colab": {
     "base_uri": "https://localhost:8080/",
     "height": 34
    },
    "colab_type": "code",
    "id": "ROvbCBRZvBkg",
    "outputId": "66ab408f-5331-4139-9e10-5b195a267eb8"
   },
   "outputs": [
    {
     "data": {
      "text/plain": [
       "2498"
      ]
     },
     "execution_count": 32,
     "metadata": {
      "tags": []
     },
     "output_type": "execute_result"
    }
   ],
   "source": [
    "hist_inds = []\n",
    "\n",
    "for i in range(len(data)):\n",
    "  if data.iloc[i,6] == 'История':\n",
    "    hist_inds.append(i)\n",
    "len(hist_inds)"
   ]
  },
  {
   "cell_type": "code",
   "execution_count": 0,
   "metadata": {
    "colab": {},
    "colab_type": "code",
    "id": "-7fCM5sKdqHz"
   },
   "outputs": [],
   "source": [
    "elmo_embs_hist = elmo_embs[hist_inds]\n",
    "bert_embs_hist = bert_embs[hist_inds]\n",
    "fasttext_embs_hist = fasttext_embs[hist_inds]\n",
    "rusvec_embs_hist = rusvec_embs[hist_inds]"
   ]
  },
  {
   "cell_type": "code",
   "execution_count": 0,
   "metadata": {
    "colab": {},
    "colab_type": "code",
    "id": "zCaS5dhceZV7"
   },
   "outputs": [],
   "source": [
    "embeddings = {'RusVectores': rusvec_embs_hist, 'FastText': fasttext_embs_hist, 'ELMO': elmo_embs_hist, 'BERT': bert_embs_hist}\n",
    "data2 = data[data['label'] == 'История']"
   ]
  },
  {
   "cell_type": "code",
   "execution_count": 35,
   "metadata": {
    "colab": {
     "base_uri": "https://localhost:8080/",
     "height": 850
    },
    "colab_type": "code",
    "id": "TWzm-ALOdrUi",
    "outputId": "815afe26-9b3f-4c93-e050-fadf2c67ff68"
   },
   "outputs": [
    {
     "name": "stderr",
     "output_type": "stream",
     "text": [
      "\r",
      "                                                                               \r",
      "\r",
      "N/A% (0 of 4) |                          | Elapsed Time: 0:00:00 ETA:  --:--:--"
     ]
    },
    {
     "name": "stdout",
     "output_type": "stream",
     "text": [
      "Learning rate set to 0.02905\n",
      "0:\tlearn: 0.6851034\ttotal: 120ms\tremaining: 1m 59s\n",
      "100:\tlearn: 0.5289331\ttotal: 6.36s\tremaining: 56.6s\n",
      "200:\tlearn: 0.5024105\ttotal: 12.5s\tremaining: 49.5s\n",
      "300:\tlearn: 0.4808585\ttotal: 18.5s\tremaining: 42.9s\n",
      "400:\tlearn: 0.4619006\ttotal: 24.5s\tremaining: 36.7s\n",
      "500:\tlearn: 0.4438671\ttotal: 30.7s\tremaining: 30.5s\n",
      "600:\tlearn: 0.4276957\ttotal: 36.9s\tremaining: 24.5s\n",
      "700:\tlearn: 0.4130709\ttotal: 43s\tremaining: 18.3s\n",
      "800:\tlearn: 0.4004616\ttotal: 49.1s\tremaining: 12.2s\n",
      "900:\tlearn: 0.3892117\ttotal: 55.2s\tremaining: 6.06s\n",
      "999:\tlearn: 0.3787768\ttotal: 1m 1s\tremaining: 0us\n"
     ]
    },
    {
     "name": "stderr",
     "output_type": "stream",
     "text": [
      "\r",
      "                                                                               \r",
      "\r",
      " 25% (1 of 4) |######                    | Elapsed Time: 0:01:03 ETA:   0:03:10"
     ]
    },
    {
     "name": "stdout",
     "output_type": "stream",
     "text": [
      "Learning rate set to 0.02905\n",
      "0:\tlearn: 0.6849351\ttotal: 120ms\tremaining: 2m\n",
      "100:\tlearn: 0.5306489\ttotal: 6.38s\tremaining: 56.8s\n",
      "200:\tlearn: 0.5051870\ttotal: 12.5s\tremaining: 49.5s\n",
      "300:\tlearn: 0.4812036\ttotal: 18.6s\tremaining: 43.3s\n",
      "400:\tlearn: 0.4605313\ttotal: 24.9s\tremaining: 37.2s\n",
      "500:\tlearn: 0.4426284\ttotal: 31.1s\tremaining: 31s\n",
      "600:\tlearn: 0.4263762\ttotal: 37.2s\tremaining: 24.7s\n",
      "700:\tlearn: 0.4112654\ttotal: 43.4s\tremaining: 18.5s\n",
      "800:\tlearn: 0.3968733\ttotal: 49.6s\tremaining: 12.3s\n",
      "900:\tlearn: 0.3860772\ttotal: 55.7s\tremaining: 6.12s\n",
      "999:\tlearn: 0.3758094\ttotal: 1m 1s\tremaining: 0us\n"
     ]
    },
    {
     "name": "stderr",
     "output_type": "stream",
     "text": [
      "\r",
      "                                                                               \r",
      "\r",
      " 50% (2 of 4) |#############             | Elapsed Time: 0:02:07 ETA:   0:02:08"
     ]
    },
    {
     "name": "stdout",
     "output_type": "stream",
     "text": [
      "Learning rate set to 0.02905\n",
      "0:\tlearn: 0.6849596\ttotal: 216ms\tremaining: 3m 35s\n",
      "100:\tlearn: 0.5283354\ttotal: 13.7s\tremaining: 2m 1s\n",
      "200:\tlearn: 0.4981417\ttotal: 27s\tremaining: 1m 47s\n",
      "300:\tlearn: 0.4715241\ttotal: 40.3s\tremaining: 1m 33s\n",
      "400:\tlearn: 0.4483165\ttotal: 53.4s\tremaining: 1m 19s\n",
      "500:\tlearn: 0.4248592\ttotal: 1m 6s\tremaining: 1m 6s\n",
      "600:\tlearn: 0.4055588\ttotal: 1m 19s\tremaining: 53s\n",
      "700:\tlearn: 0.3855858\ttotal: 1m 33s\tremaining: 39.8s\n",
      "800:\tlearn: 0.3678012\ttotal: 1m 46s\tremaining: 26.5s\n",
      "900:\tlearn: 0.3516896\ttotal: 2m\tremaining: 13.2s\n",
      "999:\tlearn: 0.3372302\ttotal: 2m 13s\tremaining: 0us\n"
     ]
    },
    {
     "name": "stderr",
     "output_type": "stream",
     "text": [
      "\r",
      "                                                                               \r",
      "\r",
      " 75% (3 of 4) |###################       | Elapsed Time: 0:04:28 ETA:   0:02:20"
     ]
    },
    {
     "name": "stdout",
     "output_type": "stream",
     "text": [
      "Learning rate set to 0.02905\n",
      "0:\tlearn: 0.6851277\ttotal: 192ms\tremaining: 3m 11s\n",
      "100:\tlearn: 0.5253374\ttotal: 11.2s\tremaining: 1m 39s\n",
      "200:\tlearn: 0.4931971\ttotal: 22s\tremaining: 1m 27s\n",
      "300:\tlearn: 0.4651860\ttotal: 32.8s\tremaining: 1m 16s\n",
      "400:\tlearn: 0.4390760\ttotal: 43.6s\tremaining: 1m 5s\n",
      "500:\tlearn: 0.4141975\ttotal: 54.5s\tremaining: 54.3s\n",
      "600:\tlearn: 0.3939520\ttotal: 1m 5s\tremaining: 43.3s\n",
      "700:\tlearn: 0.3738714\ttotal: 1m 16s\tremaining: 32.5s\n",
      "800:\tlearn: 0.3557548\ttotal: 1m 27s\tremaining: 21.6s\n",
      "900:\tlearn: 0.3387592\ttotal: 1m 38s\tremaining: 10.8s\n",
      "999:\tlearn: 0.3236450\ttotal: 1m 48s\tremaining: 0us\n"
     ]
    },
    {
     "name": "stderr",
     "output_type": "stream",
     "text": [
      "\r",
      "                                                                               \r",
      "\r",
      "100% (4 of 4) |##########################| Elapsed Time: 0:06:22 Time:  0:06:22\n"
     ]
    }
   ],
   "source": [
    "results_dict = {}\n",
    "for key, embed in pb(embeddings.items()):\n",
    "    results_dict[key] = approach_boosting(data2, embed)"
   ]
  },
  {
   "cell_type": "code",
   "execution_count": 36,
   "metadata": {
    "colab": {
     "base_uri": "https://localhost:8080/",
     "height": 204
    },
    "colab_type": "code",
    "id": "DjNJa-qpejrD",
    "outputId": "95da0557-afaf-496b-8013-9f6bac9deb7d"
   },
   "outputs": [
    {
     "data": {
      "text/html": [
       "<div>\n",
       "<style scoped>\n",
       "    .dataframe tbody tr th:only-of-type {\n",
       "        vertical-align: middle;\n",
       "    }\n",
       "\n",
       "    .dataframe tbody tr th {\n",
       "        vertical-align: top;\n",
       "    }\n",
       "\n",
       "    .dataframe thead th {\n",
       "        text-align: right;\n",
       "    }\n",
       "</style>\n",
       "<table border=\"1\" class=\"dataframe\">\n",
       "  <thead>\n",
       "    <tr style=\"text-align: right;\">\n",
       "      <th></th>\n",
       "      <th>RusVectores</th>\n",
       "      <th>FastText</th>\n",
       "      <th>ELMO</th>\n",
       "      <th>BERT</th>\n",
       "    </tr>\n",
       "  </thead>\n",
       "  <tbody>\n",
       "    <tr>\n",
       "      <th>Accuracy</th>\n",
       "      <td>0.365333</td>\n",
       "      <td>0.381333</td>\n",
       "      <td>0.418667</td>\n",
       "      <td>0.381333</td>\n",
       "    </tr>\n",
       "    <tr>\n",
       "      <th>Precision Macro</th>\n",
       "      <td>0.369743</td>\n",
       "      <td>0.380915</td>\n",
       "      <td>0.417673</td>\n",
       "      <td>0.380186</td>\n",
       "    </tr>\n",
       "    <tr>\n",
       "      <th>Precision Micro</th>\n",
       "      <td>0.365333</td>\n",
       "      <td>0.381333</td>\n",
       "      <td>0.418667</td>\n",
       "      <td>0.381333</td>\n",
       "    </tr>\n",
       "    <tr>\n",
       "      <th>F1 Macro</th>\n",
       "      <td>0.365686</td>\n",
       "      <td>0.381180</td>\n",
       "      <td>0.417663</td>\n",
       "      <td>0.380241</td>\n",
       "    </tr>\n",
       "    <tr>\n",
       "      <th>F1 Micro</th>\n",
       "      <td>0.365333</td>\n",
       "      <td>0.381333</td>\n",
       "      <td>0.418667</td>\n",
       "      <td>0.381333</td>\n",
       "    </tr>\n",
       "  </tbody>\n",
       "</table>\n",
       "</div>"
      ],
      "text/plain": [
       "                 RusVectores  FastText      ELMO      BERT\n",
       "Accuracy            0.365333  0.381333  0.418667  0.381333\n",
       "Precision Macro     0.369743  0.380915  0.417673  0.380186\n",
       "Precision Micro     0.365333  0.381333  0.418667  0.381333\n",
       "F1 Macro            0.365686  0.381180  0.417663  0.380241\n",
       "F1 Micro            0.365333  0.381333  0.418667  0.381333"
      ]
     },
     "execution_count": 36,
     "metadata": {
      "tags": []
     },
     "output_type": "execute_result"
    }
   ],
   "source": [
    "results = pd.DataFrame(data=results_dict, columns=list(embeddings.keys()), \\\n",
    "                       index=['Accuracy', 'Precision Macro', 'Precision Micro', 'F1 Macro', 'F1 Micro'])\n",
    "results"
   ]
  },
  {
   "cell_type": "markdown",
   "metadata": {
    "colab_type": "text",
    "id": "8wRvWDCyjrzC"
   },
   "source": [
    "## Медицина"
   ]
  },
  {
   "cell_type": "code",
   "execution_count": 38,
   "metadata": {
    "colab": {
     "base_uri": "https://localhost:8080/",
     "height": 34
    },
    "colab_type": "code",
    "id": "i6W74CsRgXuE",
    "outputId": "f234f326-4e8f-4e1c-fe82-c46e0ea93cac"
   },
   "outputs": [
    {
     "data": {
      "text/plain": [
       "4013"
      ]
     },
     "execution_count": 38,
     "metadata": {
      "tags": []
     },
     "output_type": "execute_result"
    }
   ],
   "source": [
    "med_inds = []\n",
    "\n",
    "for i in range(len(data)):\n",
    "  if data.iloc[i,6] == 'Медицина':\n",
    "    med_inds.append(i)\n",
    "len(med_inds)"
   ]
  },
  {
   "cell_type": "code",
   "execution_count": 0,
   "metadata": {
    "colab": {},
    "colab_type": "code",
    "id": "TR7o_jXNj5kt"
   },
   "outputs": [],
   "source": [
    "elmo_embs_med = elmo_embs[med_inds]\n",
    "bert_embs_med = bert_embs[med_inds]\n",
    "fasttext_embs_med = fasttext_embs[med_inds]\n",
    "rusvec_embs_med = rusvec_embs[med_inds]"
   ]
  },
  {
   "cell_type": "code",
   "execution_count": 0,
   "metadata": {
    "colab": {},
    "colab_type": "code",
    "id": "Ti7nOuVQkEfM"
   },
   "outputs": [],
   "source": [
    "embeddings = {'RusVectores': rusvec_embs_med, 'FastText': fasttext_embs_med, 'ELMO': elmo_embs_med, 'BERT': bert_embs_med}\n",
    "data2 = data[data['label'] == 'Медицина']"
   ]
  },
  {
   "cell_type": "code",
   "execution_count": 42,
   "metadata": {
    "colab": {
     "base_uri": "https://localhost:8080/",
     "height": 850
    },
    "colab_type": "code",
    "id": "gGEvIgGzkJIy",
    "outputId": "25e02f5c-a990-4bd2-fed8-1d4120e01d8c"
   },
   "outputs": [
    {
     "name": "stderr",
     "output_type": "stream",
     "text": [
      "\r",
      "                                                                               \r",
      "\r",
      "N/A% (0 of 4) |                          | Elapsed Time: 0:00:00 ETA:  --:--:--"
     ]
    },
    {
     "name": "stdout",
     "output_type": "stream",
     "text": [
      "Learning rate set to 0.033224\n",
      "0:\tlearn: 0.6837295\ttotal: 117ms\tremaining: 1m 56s\n",
      "100:\tlearn: 0.5372886\ttotal: 6.19s\tremaining: 55.1s\n",
      "200:\tlearn: 0.5194180\ttotal: 12.3s\tremaining: 49.1s\n",
      "300:\tlearn: 0.5040901\ttotal: 18.5s\tremaining: 43s\n",
      "400:\tlearn: 0.4900079\ttotal: 24.6s\tremaining: 36.7s\n",
      "500:\tlearn: 0.4776556\ttotal: 30.7s\tremaining: 30.5s\n",
      "600:\tlearn: 0.4672518\ttotal: 36.6s\tremaining: 24.3s\n",
      "700:\tlearn: 0.4579710\ttotal: 42.6s\tremaining: 18.2s\n",
      "800:\tlearn: 0.4499700\ttotal: 48.6s\tremaining: 12.1s\n",
      "900:\tlearn: 0.4421158\ttotal: 54.6s\tremaining: 6s\n",
      "999:\tlearn: 0.4362464\ttotal: 1m\tremaining: 0us\n"
     ]
    },
    {
     "name": "stderr",
     "output_type": "stream",
     "text": [
      "\r",
      "                                                                               \r",
      "\r",
      " 25% (1 of 4) |######                    | Elapsed Time: 0:01:03 ETA:   0:03:10"
     ]
    },
    {
     "name": "stdout",
     "output_type": "stream",
     "text": [
      "Learning rate set to 0.033224\n",
      "0:\tlearn: 0.6830421\ttotal: 127ms\tremaining: 2m 7s\n",
      "100:\tlearn: 0.5299416\ttotal: 6.38s\tremaining: 56.8s\n",
      "200:\tlearn: 0.5132769\ttotal: 12.7s\tremaining: 50.4s\n",
      "300:\tlearn: 0.4979740\ttotal: 18.9s\tremaining: 43.9s\n",
      "400:\tlearn: 0.4849765\ttotal: 25s\tremaining: 37.4s\n",
      "500:\tlearn: 0.4718881\ttotal: 31.2s\tremaining: 31.1s\n",
      "600:\tlearn: 0.4617322\ttotal: 37.3s\tremaining: 24.8s\n",
      "700:\tlearn: 0.4533239\ttotal: 43.4s\tremaining: 18.5s\n",
      "800:\tlearn: 0.4453585\ttotal: 49.4s\tremaining: 12.3s\n",
      "900:\tlearn: 0.4373665\ttotal: 55.5s\tremaining: 6.09s\n",
      "999:\tlearn: 0.4310827\ttotal: 1m 1s\tremaining: 0us\n"
     ]
    },
    {
     "name": "stderr",
     "output_type": "stream",
     "text": [
      "\r",
      "                                                                               \r",
      "\r",
      " 50% (2 of 4) |#############             | Elapsed Time: 0:02:08 ETA:   0:02:10"
     ]
    },
    {
     "name": "stdout",
     "output_type": "stream",
     "text": [
      "Learning rate set to 0.033224\n",
      "0:\tlearn: 0.6832684\ttotal: 245ms\tremaining: 4m 4s\n",
      "100:\tlearn: 0.5298807\ttotal: 13.6s\tremaining: 2m 1s\n",
      "200:\tlearn: 0.5077096\ttotal: 27.5s\tremaining: 1m 49s\n",
      "300:\tlearn: 0.4885661\ttotal: 41.1s\tremaining: 1m 35s\n",
      "400:\tlearn: 0.4707930\ttotal: 54.7s\tremaining: 1m 21s\n",
      "500:\tlearn: 0.4544966\ttotal: 1m 8s\tremaining: 1m 7s\n",
      "600:\tlearn: 0.4392199\ttotal: 1m 21s\tremaining: 54.2s\n",
      "700:\tlearn: 0.4259985\ttotal: 1m 34s\tremaining: 40.4s\n",
      "800:\tlearn: 0.4127461\ttotal: 1m 48s\tremaining: 26.9s\n",
      "900:\tlearn: 0.4010111\ttotal: 2m 2s\tremaining: 13.4s\n",
      "999:\tlearn: 0.3906017\ttotal: 2m 15s\tremaining: 0us\n"
     ]
    },
    {
     "name": "stderr",
     "output_type": "stream",
     "text": [
      "\r",
      "                                                                               \r",
      "\r",
      " 75% (3 of 4) |###################       | Elapsed Time: 0:04:34 ETA:   0:02:25"
     ]
    },
    {
     "name": "stdout",
     "output_type": "stream",
     "text": [
      "Learning rate set to 0.033224\n",
      "0:\tlearn: 0.6833790\ttotal: 223ms\tremaining: 3m 42s\n",
      "100:\tlearn: 0.5286229\ttotal: 10.9s\tremaining: 1m 37s\n",
      "200:\tlearn: 0.5074035\ttotal: 22s\tremaining: 1m 27s\n",
      "300:\tlearn: 0.4881421\ttotal: 33.1s\tremaining: 1m 16s\n",
      "400:\tlearn: 0.4694696\ttotal: 44.2s\tremaining: 1m 6s\n",
      "500:\tlearn: 0.4527081\ttotal: 55.1s\tremaining: 54.8s\n",
      "600:\tlearn: 0.4368857\ttotal: 1m 5s\tremaining: 43.8s\n",
      "700:\tlearn: 0.4224451\ttotal: 1m 16s\tremaining: 32.7s\n",
      "800:\tlearn: 0.4091307\ttotal: 1m 27s\tremaining: 21.7s\n",
      "900:\tlearn: 0.3969599\ttotal: 1m 37s\tremaining: 10.8s\n",
      "999:\tlearn: 0.3852951\ttotal: 1m 48s\tremaining: 0us\n"
     ]
    },
    {
     "name": "stderr",
     "output_type": "stream",
     "text": [
      "\r",
      "                                                                               \r",
      "\r",
      "100% (4 of 4) |##########################| Elapsed Time: 0:06:30 Time:  0:06:30\n"
     ]
    }
   ],
   "source": [
    "results_dict = {}\n",
    "for key, embed in pb(embeddings.items()):\n",
    "    results_dict[key] = approach_boosting(data2, embed)"
   ]
  },
  {
   "cell_type": "code",
   "execution_count": 43,
   "metadata": {
    "colab": {
     "base_uri": "https://localhost:8080/",
     "height": 204
    },
    "colab_type": "code",
    "id": "hmQZ6p1JkN3C",
    "outputId": "15cd6d7e-8668-4eac-ccaf-554ff030d826"
   },
   "outputs": [
    {
     "data": {
      "text/html": [
       "<div>\n",
       "<style scoped>\n",
       "    .dataframe tbody tr th:only-of-type {\n",
       "        vertical-align: middle;\n",
       "    }\n",
       "\n",
       "    .dataframe tbody tr th {\n",
       "        vertical-align: top;\n",
       "    }\n",
       "\n",
       "    .dataframe thead th {\n",
       "        text-align: right;\n",
       "    }\n",
       "</style>\n",
       "<table border=\"1\" class=\"dataframe\">\n",
       "  <thead>\n",
       "    <tr style=\"text-align: right;\">\n",
       "      <th></th>\n",
       "      <th>RusVectores</th>\n",
       "      <th>FastText</th>\n",
       "      <th>ELMO</th>\n",
       "      <th>BERT</th>\n",
       "    </tr>\n",
       "  </thead>\n",
       "  <tbody>\n",
       "    <tr>\n",
       "      <th>Accuracy</th>\n",
       "      <td>0.343854</td>\n",
       "      <td>0.366279</td>\n",
       "      <td>0.353821</td>\n",
       "      <td>0.355482</td>\n",
       "    </tr>\n",
       "    <tr>\n",
       "      <th>Precision Macro</th>\n",
       "      <td>0.345052</td>\n",
       "      <td>0.357270</td>\n",
       "      <td>0.345469</td>\n",
       "      <td>0.346969</td>\n",
       "    </tr>\n",
       "    <tr>\n",
       "      <th>Precision Micro</th>\n",
       "      <td>0.343854</td>\n",
       "      <td>0.366279</td>\n",
       "      <td>0.353821</td>\n",
       "      <td>0.355482</td>\n",
       "    </tr>\n",
       "    <tr>\n",
       "      <th>F1 Macro</th>\n",
       "      <td>0.338890</td>\n",
       "      <td>0.354801</td>\n",
       "      <td>0.344378</td>\n",
       "      <td>0.345893</td>\n",
       "    </tr>\n",
       "    <tr>\n",
       "      <th>F1 Micro</th>\n",
       "      <td>0.343854</td>\n",
       "      <td>0.366279</td>\n",
       "      <td>0.353821</td>\n",
       "      <td>0.355482</td>\n",
       "    </tr>\n",
       "  </tbody>\n",
       "</table>\n",
       "</div>"
      ],
      "text/plain": [
       "                 RusVectores  FastText      ELMO      BERT\n",
       "Accuracy            0.343854  0.366279  0.353821  0.355482\n",
       "Precision Macro     0.345052  0.357270  0.345469  0.346969\n",
       "Precision Micro     0.343854  0.366279  0.353821  0.355482\n",
       "F1 Macro            0.338890  0.354801  0.344378  0.345893\n",
       "F1 Micro            0.343854  0.366279  0.353821  0.355482"
      ]
     },
     "execution_count": 43,
     "metadata": {
      "tags": []
     },
     "output_type": "execute_result"
    }
   ],
   "source": [
    "results = pd.DataFrame(data=results_dict, columns=list(embeddings.keys()), \\\n",
    "                       index=['Accuracy', 'Precision Macro', 'Precision Micro', 'F1 Macro', 'F1 Micro'])\n",
    "results"
   ]
  },
  {
   "cell_type": "markdown",
   "metadata": {
    "colab_type": "text",
    "id": "COuFrj3cmBPY"
   },
   "source": [
    "## Биология"
   ]
  },
  {
   "cell_type": "code",
   "execution_count": 44,
   "metadata": {
    "colab": {
     "base_uri": "https://localhost:8080/",
     "height": 34
    },
    "colab_type": "code",
    "id": "dEVy8JfXlysW",
    "outputId": "fb11f6b8-6529-41af-cd7d-7fbc0a1421e2"
   },
   "outputs": [
    {
     "data": {
      "text/plain": [
       "2184"
      ]
     },
     "execution_count": 44,
     "metadata": {
      "tags": []
     },
     "output_type": "execute_result"
    }
   ],
   "source": [
    "bio_inds = []\n",
    "\n",
    "for i in range(len(data)):\n",
    "  if data.iloc[i,6] == 'Биология':\n",
    "    bio_inds.append(i)\n",
    "len(bio_inds)"
   ]
  },
  {
   "cell_type": "code",
   "execution_count": 0,
   "metadata": {
    "colab": {},
    "colab_type": "code",
    "id": "bUgRTbqXmJED"
   },
   "outputs": [],
   "source": [
    "elmo_embs_bio = elmo_embs[bio_inds]\n",
    "bert_embs_bio = bert_embs[bio_inds]\n",
    "fasttext_embs_bio = fasttext_embs[bio_inds]\n",
    "rusvec_embs_bio = rusvec_embs[bio_inds]"
   ]
  },
  {
   "cell_type": "code",
   "execution_count": 0,
   "metadata": {
    "colab": {},
    "colab_type": "code",
    "id": "F8f3-1KpmO-T"
   },
   "outputs": [],
   "source": [
    "embeddings = {'RusVectores': rusvec_embs_bio, 'FastText': fasttext_embs_bio, 'ELMO': elmo_embs_bio, 'BERT': bert_embs_bio}\n",
    "data2 = data[data['label'] == 'Биология']"
   ]
  },
  {
   "cell_type": "code",
   "execution_count": 49,
   "metadata": {
    "colab": {
     "base_uri": "https://localhost:8080/",
     "height": 850
    },
    "colab_type": "code",
    "id": "TJM2BHXtmPzH",
    "outputId": "d294f57c-0df1-4221-93f0-74db297e245f"
   },
   "outputs": [
    {
     "name": "stderr",
     "output_type": "stream",
     "text": [
      "\r",
      "                                                                               \r",
      "\r",
      "N/A% (0 of 4) |                          | Elapsed Time: 0:00:00 ETA:  --:--:--"
     ]
    },
    {
     "name": "stdout",
     "output_type": "stream",
     "text": [
      "Learning rate set to 0.027965\n",
      "0:\tlearn: 0.6852050\ttotal: 108ms\tremaining: 1m 48s\n",
      "100:\tlearn: 0.5335535\ttotal: 5.39s\tremaining: 48s\n",
      "200:\tlearn: 0.5113256\ttotal: 10.7s\tremaining: 42.5s\n",
      "300:\tlearn: 0.4923918\ttotal: 16s\tremaining: 37.2s\n",
      "400:\tlearn: 0.4754719\ttotal: 21.4s\tremaining: 31.9s\n",
      "500:\tlearn: 0.4599823\ttotal: 26.7s\tremaining: 26.6s\n",
      "600:\tlearn: 0.4485528\ttotal: 31.9s\tremaining: 21.2s\n",
      "700:\tlearn: 0.4371943\ttotal: 37.1s\tremaining: 15.8s\n",
      "800:\tlearn: 0.4274641\ttotal: 42.3s\tremaining: 10.5s\n",
      "900:\tlearn: 0.4181635\ttotal: 47.2s\tremaining: 5.19s\n",
      "999:\tlearn: 0.4097267\ttotal: 52.2s\tremaining: 0us\n"
     ]
    },
    {
     "name": "stderr",
     "output_type": "stream",
     "text": [
      "\r",
      "                                                                               \r",
      "\r",
      " 25% (1 of 4) |######                    | Elapsed Time: 0:00:54 ETA:   0:02:43"
     ]
    },
    {
     "name": "stdout",
     "output_type": "stream",
     "text": [
      "Learning rate set to 0.027965\n",
      "0:\tlearn: 0.6851259\ttotal: 61ms\tremaining: 1m\n",
      "100:\tlearn: 0.5339947\ttotal: 5.34s\tremaining: 47.5s\n",
      "200:\tlearn: 0.5119066\ttotal: 10.6s\tremaining: 42.1s\n",
      "300:\tlearn: 0.4948597\ttotal: 15.8s\tremaining: 36.7s\n",
      "400:\tlearn: 0.4789539\ttotal: 21s\tremaining: 31.4s\n",
      "500:\tlearn: 0.4630959\ttotal: 26.3s\tremaining: 26.2s\n",
      "600:\tlearn: 0.4516279\ttotal: 31.5s\tremaining: 20.9s\n",
      "700:\tlearn: 0.4402598\ttotal: 36.7s\tremaining: 15.6s\n",
      "800:\tlearn: 0.4306493\ttotal: 41.8s\tremaining: 10.4s\n",
      "900:\tlearn: 0.4222861\ttotal: 46.9s\tremaining: 5.15s\n",
      "999:\tlearn: 0.4148059\ttotal: 51.7s\tremaining: 0us\n"
     ]
    },
    {
     "name": "stderr",
     "output_type": "stream",
     "text": [
      "\r",
      "                                                                               \r",
      "\r",
      " 50% (2 of 4) |#############             | Elapsed Time: 0:01:48 ETA:   0:01:48"
     ]
    },
    {
     "name": "stdout",
     "output_type": "stream",
     "text": [
      "Learning rate set to 0.027965\n",
      "0:\tlearn: 0.6853504\ttotal: 201ms\tremaining: 3m 21s\n",
      "100:\tlearn: 0.5298028\ttotal: 11.7s\tremaining: 1m 43s\n",
      "200:\tlearn: 0.5020177\ttotal: 23s\tremaining: 1m 31s\n",
      "300:\tlearn: 0.4801375\ttotal: 34.1s\tremaining: 1m 19s\n",
      "400:\tlearn: 0.4584921\ttotal: 45.2s\tremaining: 1m 7s\n",
      "500:\tlearn: 0.4389511\ttotal: 56.2s\tremaining: 56s\n",
      "600:\tlearn: 0.4226232\ttotal: 1m 6s\tremaining: 44.4s\n",
      "700:\tlearn: 0.4068348\ttotal: 1m 17s\tremaining: 33.3s\n",
      "800:\tlearn: 0.3928195\ttotal: 1m 28s\tremaining: 22.1s\n",
      "900:\tlearn: 0.3795334\ttotal: 1m 39s\tremaining: 11s\n",
      "999:\tlearn: 0.3676927\ttotal: 1m 50s\tremaining: 0us\n"
     ]
    },
    {
     "name": "stderr",
     "output_type": "stream",
     "text": [
      "\r",
      "                                                                               \r",
      "\r",
      " 75% (3 of 4) |###################       | Elapsed Time: 0:03:45 ETA:   0:01:56"
     ]
    },
    {
     "name": "stdout",
     "output_type": "stream",
     "text": [
      "Learning rate set to 0.027965\n",
      "0:\tlearn: 0.6852233\ttotal: 168ms\tremaining: 2m 47s\n",
      "100:\tlearn: 0.5277987\ttotal: 9.33s\tremaining: 1m 23s\n",
      "200:\tlearn: 0.4995235\ttotal: 18.4s\tremaining: 1m 13s\n",
      "300:\tlearn: 0.4762838\ttotal: 27.3s\tremaining: 1m 3s\n",
      "400:\tlearn: 0.4535095\ttotal: 36.4s\tremaining: 54.3s\n",
      "500:\tlearn: 0.4317710\ttotal: 45.4s\tremaining: 45.2s\n",
      "600:\tlearn: 0.4130740\ttotal: 54.4s\tremaining: 36.1s\n",
      "700:\tlearn: 0.3942606\ttotal: 1m 3s\tremaining: 27.1s\n",
      "800:\tlearn: 0.3792282\ttotal: 1m 12s\tremaining: 17.9s\n",
      "900:\tlearn: 0.3644930\ttotal: 1m 21s\tremaining: 8.91s\n",
      "999:\tlearn: 0.3512521\ttotal: 1m 29s\tremaining: 0us\n"
     ]
    },
    {
     "name": "stderr",
     "output_type": "stream",
     "text": [
      "\r",
      "                                                                               \r",
      "\r",
      "100% (4 of 4) |##########################| Elapsed Time: 0:05:19 Time:  0:05:19\n"
     ]
    }
   ],
   "source": [
    "results_dict = {}\n",
    "for key, embed in pb(embeddings.items()):\n",
    "    results_dict[key] = approach_boosting(data2, embed)"
   ]
  },
  {
   "cell_type": "code",
   "execution_count": 50,
   "metadata": {
    "colab": {
     "base_uri": "https://localhost:8080/",
     "height": 204
    },
    "colab_type": "code",
    "id": "UAyUwPIQmQY5",
    "outputId": "47784f58-43bf-4bca-ec90-95ab46c2beb9"
   },
   "outputs": [
    {
     "data": {
      "text/html": [
       "<div>\n",
       "<style scoped>\n",
       "    .dataframe tbody tr th:only-of-type {\n",
       "        vertical-align: middle;\n",
       "    }\n",
       "\n",
       "    .dataframe tbody tr th {\n",
       "        vertical-align: top;\n",
       "    }\n",
       "\n",
       "    .dataframe thead th {\n",
       "        text-align: right;\n",
       "    }\n",
       "</style>\n",
       "<table border=\"1\" class=\"dataframe\">\n",
       "  <thead>\n",
       "    <tr style=\"text-align: right;\">\n",
       "      <th></th>\n",
       "      <th>RusVectores</th>\n",
       "      <th>FastText</th>\n",
       "      <th>ELMO</th>\n",
       "      <th>BERT</th>\n",
       "    </tr>\n",
       "  </thead>\n",
       "  <tbody>\n",
       "    <tr>\n",
       "      <th>Accuracy</th>\n",
       "      <td>0.300305</td>\n",
       "      <td>0.288110</td>\n",
       "      <td>0.333841</td>\n",
       "      <td>0.292683</td>\n",
       "    </tr>\n",
       "    <tr>\n",
       "      <th>Precision Macro</th>\n",
       "      <td>0.303651</td>\n",
       "      <td>0.288704</td>\n",
       "      <td>0.337126</td>\n",
       "      <td>0.292623</td>\n",
       "    </tr>\n",
       "    <tr>\n",
       "      <th>Precision Micro</th>\n",
       "      <td>0.300305</td>\n",
       "      <td>0.288110</td>\n",
       "      <td>0.333841</td>\n",
       "      <td>0.292683</td>\n",
       "    </tr>\n",
       "    <tr>\n",
       "      <th>F1 Macro</th>\n",
       "      <td>0.299034</td>\n",
       "      <td>0.287634</td>\n",
       "      <td>0.334117</td>\n",
       "      <td>0.292425</td>\n",
       "    </tr>\n",
       "    <tr>\n",
       "      <th>F1 Micro</th>\n",
       "      <td>0.300305</td>\n",
       "      <td>0.288110</td>\n",
       "      <td>0.333841</td>\n",
       "      <td>0.292683</td>\n",
       "    </tr>\n",
       "  </tbody>\n",
       "</table>\n",
       "</div>"
      ],
      "text/plain": [
       "                 RusVectores  FastText      ELMO      BERT\n",
       "Accuracy            0.300305  0.288110  0.333841  0.292683\n",
       "Precision Macro     0.303651  0.288704  0.337126  0.292623\n",
       "Precision Micro     0.300305  0.288110  0.333841  0.292683\n",
       "F1 Macro            0.299034  0.287634  0.334117  0.292425\n",
       "F1 Micro            0.300305  0.288110  0.333841  0.292683"
      ]
     },
     "execution_count": 50,
     "metadata": {
      "tags": []
     },
     "output_type": "execute_result"
    }
   ],
   "source": [
    "results = pd.DataFrame(data=results_dict, columns=list(embeddings.keys()), \\\n",
    "                       index=['Accuracy', 'Precision Macro', 'Precision Micro', 'F1 Macro', 'F1 Micro'])\n",
    "results"
   ]
  },
  {
   "cell_type": "code",
   "execution_count": 0,
   "metadata": {
    "colab": {},
    "colab_type": "code",
    "id": "Tnz1wlpRmRHR"
   },
   "outputs": [],
   "source": []
  }
 ],
 "metadata": {
  "accelerator": "GPU",
  "colab": {
   "collapsed_sections": [],
   "name": "Approach Catboost.ipynb",
   "provenance": [],
   "version": "0.3.2"
  },
  "kernelspec": {
   "display_name": "Python 3",
   "language": "python",
   "name": "python3"
  },
  "language_info": {
   "codemirror_mode": {
    "name": "ipython",
    "version": 3
   },
   "file_extension": ".py",
   "mimetype": "text/x-python",
   "name": "python",
   "nbconvert_exporter": "python",
   "pygments_lexer": "ipython3",
   "version": "3.6.5"
  }
 },
 "nbformat": 4,
 "nbformat_minor": 1
}
